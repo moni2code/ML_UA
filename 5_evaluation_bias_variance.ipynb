{
 "cells": [
  {
   "cell_type": "markdown",
   "metadata": {
    "tags": []
   },
   "source": [
    "# Machine Learning\n",
    "\n",
    "[walter.daelemans@uantwerpen.be](mailto:walter.daelemans@uantwerpen.be)\n",
    "\n",
    "## Evaluation, Bias - Variance"
   ]
  },
  {
   "cell_type": "code",
   "execution_count": 3,
   "metadata": {
    "tags": []
   },
   "outputs": [
    {
     "name": "stdout",
     "output_type": "stream",
     "text": [
      "pandas: 2.1.4\n",
      "numpy: 1.26.2\n",
      "sklearn: 1.2.2\n",
      "matplotlib: 3.8.0\n",
      "Python: 3.11.5 (main, Sep 11 2023, 08:31:25) [Clang 14.0.6 ]\n",
      "/Users/walter/anaconda3/bin/python\n"
     ]
    }
   ],
   "source": [
    "import pandas as pd\n",
    "import numpy as np\n",
    "import matplotlib\n",
    "import matplotlib.pyplot as plt\n",
    "import sklearn\n",
    "from sklearn.compose import make_column_transformer\n",
    "from sklearn.pipeline import make_pipeline\n",
    "from sklearn.model_selection import train_test_split, GridSearchCV\n",
    "from sklearn.preprocessing import StandardScaler, OneHotEncoder\n",
    "from sklearn.linear_model import LogisticRegression\n",
    "from sklearn.impute import SimpleImputer\n",
    "from sklearn.metrics import classification_report, ConfusionMatrixDisplay\n",
    "\n",
    "print(f'pandas: {pd.__version__}')\n",
    "print(f'numpy: {np.__version__}')\n",
    "print(f'sklearn: {sklearn.__version__}')\n",
    "print(f'matplotlib: {matplotlib.__version__}')\n",
    "import sys\n",
    "print(f'Python: {sys.version}')\n",
    "!which python    "
   ]
  },
  {
   "cell_type": "markdown",
   "metadata": {},
   "source": [
    "This notebook starts from a pipeline for the adult_small data and will then explain and illustrate several ways of evaluating trained models."
   ]
  },
  {
   "cell_type": "code",
   "execution_count": 5,
   "metadata": {
    "tags": []
   },
   "outputs": [
    {
     "data": {
      "text/html": [
       "<div>\n",
       "<style scoped>\n",
       "    .dataframe tbody tr th:only-of-type {\n",
       "        vertical-align: middle;\n",
       "    }\n",
       "\n",
       "    .dataframe tbody tr th {\n",
       "        vertical-align: top;\n",
       "    }\n",
       "\n",
       "    .dataframe thead th {\n",
       "        text-align: right;\n",
       "    }\n",
       "</style>\n",
       "<table border=\"1\" class=\"dataframe\">\n",
       "  <thead>\n",
       "    <tr style=\"text-align: right;\">\n",
       "      <th></th>\n",
       "      <th>age</th>\n",
       "      <th>education.num</th>\n",
       "      <th>race</th>\n",
       "      <th>sex</th>\n",
       "      <th>hours.per.week</th>\n",
       "      <th>income</th>\n",
       "    </tr>\n",
       "  </thead>\n",
       "  <tbody>\n",
       "    <tr>\n",
       "      <th>852</th>\n",
       "      <td>52</td>\n",
       "      <td>10</td>\n",
       "      <td>White</td>\n",
       "      <td>Male</td>\n",
       "      <td>40</td>\n",
       "      <td>&lt;=50K</td>\n",
       "    </tr>\n",
       "    <tr>\n",
       "      <th>609</th>\n",
       "      <td>28</td>\n",
       "      <td>14</td>\n",
       "      <td>Black</td>\n",
       "      <td>Male</td>\n",
       "      <td>40</td>\n",
       "      <td>&lt;=50K</td>\n",
       "    </tr>\n",
       "    <tr>\n",
       "      <th>848</th>\n",
       "      <td>52</td>\n",
       "      <td>6</td>\n",
       "      <td>White</td>\n",
       "      <td>Male</td>\n",
       "      <td>35</td>\n",
       "      <td>&lt;=50K</td>\n",
       "    </tr>\n",
       "    <tr>\n",
       "      <th>4027</th>\n",
       "      <td>44</td>\n",
       "      <td>9</td>\n",
       "      <td>Black</td>\n",
       "      <td>Female</td>\n",
       "      <td>40</td>\n",
       "      <td>&lt;=50K</td>\n",
       "    </tr>\n",
       "    <tr>\n",
       "      <th>4044</th>\n",
       "      <td>35</td>\n",
       "      <td>13</td>\n",
       "      <td>White</td>\n",
       "      <td>Male</td>\n",
       "      <td>40</td>\n",
       "      <td>&lt;=50K</td>\n",
       "    </tr>\n",
       "  </tbody>\n",
       "</table>\n",
       "</div>"
      ],
      "text/plain": [
       "      age  education.num   race     sex  hours.per.week income\n",
       "852    52             10  White    Male              40  <=50K\n",
       "609    28             14  Black    Male              40  <=50K\n",
       "848    52              6  White    Male              35  <=50K\n",
       "4027   44              9  Black  Female              40  <=50K\n",
       "4044   35             13  White    Male              40  <=50K"
      ]
     },
     "execution_count": 5,
     "metadata": {},
     "output_type": "execute_result"
    }
   ],
   "source": [
    "# Load dataset\n",
    "adult = pd.read_csv('homework/adult_small.csv')\n",
    "\n",
    "# Remove duplicates\n",
    "adult.drop_duplicates(inplace=True)\n",
    "adult.sample(5)"
   ]
  },
  {
   "cell_type": "code",
   "execution_count": 7,
   "metadata": {
    "tags": []
   },
   "outputs": [
    {
     "data": {
      "image/png": "[encoded data removed]",
      "text/plain": [
       "<Figure size 640x480 with 1 Axes>"
      ]
     },
     "metadata": {},
     "output_type": "display_data"
    }
   ],
   "source": [
    "adult['income'].value_counts(normalize=True).plot(kind='bar');"
   ]
  },
  {
   "cell_type": "code",
   "execution_count": 13,
   "metadata": {
    "tags": []
   },
   "outputs": [
    {
     "name": "stdout",
     "output_type": "stream",
     "text": [
      "Shapes: X_train: (2641, 5), y_train: (2641,), X_test: (661, 5), y_test: (661,)\n",
      "\n"
     ]
    },
    {
     "data": {
      "text/html": [
       "<style>#sk-container-id-3 {color: black;background-color: white;}#sk-container-id-3 pre{padding: 0;}#sk-container-id-3 div.sk-toggleable {background-color: white;}#sk-container-id-3 label.sk-toggleable__label {cursor: pointer;display: block;width: 100%;margin-bottom: 0;padding: 0.3em;box-sizing: border-box;text-align: center;}#sk-container-id-3 label.sk-toggleable__label-arrow:before {content: \"▸\";float: left;margin-right: 0.25em;color: #696969;}#sk-container-id-3 label.sk-toggleable__label-arrow:hover:before {color: black;}#sk-container-id-3 div.sk-estimator:hover label.sk-toggleable__label-arrow:before {color: black;}#sk-container-id-3 div.sk-toggleable__content {max-height: 0;max-width: 0;overflow: hidden;text-align: left;background-color: #f0f8ff;}#sk-container-id-3 div.sk-toggleable__content pre {margin: 0.2em;color: black;border-radius: 0.25em;background-color: #f0f8ff;}#sk-container-id-3 input.sk-toggleable__control:checked~div.sk-toggleable__content {max-height: 200px;max-width: 100%;overflow: auto;}#sk-container-id-3 input.sk-toggleable__control:checked~label.sk-toggleable__label-arrow:before {content: \"▾\";}#sk-container-id-3 div.sk-estimator input.sk-toggleable__control:checked~label.sk-toggleable__label {background-color: #d4ebff;}#sk-container-id-3 div.sk-label input.sk-toggleable__control:checked~label.sk-toggleable__label {background-color: #d4ebff;}#sk-container-id-3 input.sk-hidden--visually {border: 0;clip: rect(1px 1px 1px 1px);clip: rect(1px, 1px, 1px, 1px);height: 1px;margin: -1px;overflow: hidden;padding: 0;position: absolute;width: 1px;}#sk-container-id-3 div.sk-estimator {font-family: monospace;background-color: #f0f8ff;border: 1px dotted black;border-radius: 0.25em;box-sizing: border-box;margin-bottom: 0.5em;}#sk-container-id-3 div.sk-estimator:hover {background-color: #d4ebff;}#sk-container-id-3 div.sk-parallel-item::after {content: \"\";width: 100%;border-bottom: 1px solid gray;flex-grow: 1;}#sk-container-id-3 div.sk-label:hover label.sk-toggleable__label {background-color: #d4ebff;}#sk-container-id-3 div.sk-serial::before {content: \"\";position: absolute;border-left: 1px solid gray;box-sizing: border-box;top: 0;bottom: 0;left: 50%;z-index: 0;}#sk-container-id-3 div.sk-serial {display: flex;flex-direction: column;align-items: center;background-color: white;padding-right: 0.2em;padding-left: 0.2em;position: relative;}#sk-container-id-3 div.sk-item {position: relative;z-index: 1;}#sk-container-id-3 div.sk-parallel {display: flex;align-items: stretch;justify-content: center;background-color: white;position: relative;}#sk-container-id-3 div.sk-item::before, #sk-container-id-3 div.sk-parallel-item::before {content: \"\";position: absolute;border-left: 1px solid gray;box-sizing: border-box;top: 0;bottom: 0;left: 50%;z-index: -1;}#sk-container-id-3 div.sk-parallel-item {display: flex;flex-direction: column;z-index: 1;position: relative;background-color: white;}#sk-container-id-3 div.sk-parallel-item:first-child::after {align-self: flex-end;width: 50%;}#sk-container-id-3 div.sk-parallel-item:last-child::after {align-self: flex-start;width: 50%;}#sk-container-id-3 div.sk-parallel-item:only-child::after {width: 0;}#sk-container-id-3 div.sk-dashed-wrapped {border: 1px dashed gray;margin: 0 0.4em 0.5em 0.4em;box-sizing: border-box;padding-bottom: 0.4em;background-color: white;}#sk-container-id-3 div.sk-label label {font-family: monospace;font-weight: bold;display: inline-block;line-height: 1.2em;}#sk-container-id-3 div.sk-label-container {text-align: center;}#sk-container-id-3 div.sk-container {/* jupyter's `normalize.less` sets `[hidden] { display: none; }` but bootstrap.min.css set `[hidden] { display: none !important; }` so we also need the `!important` here to be able to override the default hidden behavior on the sphinx rendered scikit-learn.org. See: https://github.com/scikit-learn/scikit-learn/issues/21755 */display: inline-block !important;position: relative;}#sk-container-id-3 div.sk-text-repr-fallback {display: none;}</style><div id=\"sk-container-id-3\" class=\"sk-top-container\"><div class=\"sk-text-repr-fallback\"><pre>Pipeline(steps=[(&#x27;columntransformer&#x27;,\n",
       "                 ColumnTransformer(transformers=[(&#x27;standardscaler&#x27;,\n",
       "                                                  StandardScaler(),\n",
       "                                                  [&#x27;age&#x27;, &#x27;education.num&#x27;,\n",
       "                                                   &#x27;hours.per.week&#x27;]),\n",
       "                                                 (&#x27;onehotencoder&#x27;,\n",
       "                                                  OneHotEncoder(),\n",
       "                                                  [&#x27;race&#x27;, &#x27;sex&#x27;])])),\n",
       "                (&#x27;logisticregression&#x27;,\n",
       "                 LogisticRegression(random_state=42, solver=&#x27;liblinear&#x27;))])</pre><b>In a Jupyter environment, please rerun this cell to show the HTML representation or trust the notebook. <br />On GitHub, the HTML representation is unable to render, please try loading this page with nbviewer.org.</b></div><div class=\"sk-container\" hidden><div class=\"sk-item sk-dashed-wrapped\"><div class=\"sk-label-container\"><div class=\"sk-label sk-toggleable\"><input class=\"sk-toggleable__control sk-hidden--visually\" id=\"sk-estimator-id-15\" type=\"checkbox\" ><label for=\"sk-estimator-id-15\" class=\"sk-toggleable__label sk-toggleable__label-arrow\">Pipeline</label><div class=\"sk-toggleable__content\"><pre>Pipeline(steps=[(&#x27;columntransformer&#x27;,\n",
       "                 ColumnTransformer(transformers=[(&#x27;standardscaler&#x27;,\n",
       "                                                  StandardScaler(),\n",
       "                                                  [&#x27;age&#x27;, &#x27;education.num&#x27;,\n",
       "                                                   &#x27;hours.per.week&#x27;]),\n",
       "                                                 (&#x27;onehotencoder&#x27;,\n",
       "                                                  OneHotEncoder(),\n",
       "                                                  [&#x27;race&#x27;, &#x27;sex&#x27;])])),\n",
       "                (&#x27;logisticregression&#x27;,\n",
       "                 LogisticRegression(random_state=42, solver=&#x27;liblinear&#x27;))])</pre></div></div></div><div class=\"sk-serial\"><div class=\"sk-item sk-dashed-wrapped\"><div class=\"sk-label-container\"><div class=\"sk-label sk-toggleable\"><input class=\"sk-toggleable__control sk-hidden--visually\" id=\"sk-estimator-id-16\" type=\"checkbox\" ><label for=\"sk-estimator-id-16\" class=\"sk-toggleable__label sk-toggleable__label-arrow\">columntransformer: ColumnTransformer</label><div class=\"sk-toggleable__content\"><pre>ColumnTransformer(transformers=[(&#x27;standardscaler&#x27;, StandardScaler(),\n",
       "                                 [&#x27;age&#x27;, &#x27;education.num&#x27;, &#x27;hours.per.week&#x27;]),\n",
       "                                (&#x27;onehotencoder&#x27;, OneHotEncoder(),\n",
       "                                 [&#x27;race&#x27;, &#x27;sex&#x27;])])</pre></div></div></div><div class=\"sk-parallel\"><div class=\"sk-parallel-item\"><div class=\"sk-item\"><div class=\"sk-label-container\"><div class=\"sk-label sk-toggleable\"><input class=\"sk-toggleable__control sk-hidden--visually\" id=\"sk-estimator-id-17\" type=\"checkbox\" ><label for=\"sk-estimator-id-17\" class=\"sk-toggleable__label sk-toggleable__label-arrow\">standardscaler</label><div class=\"sk-toggleable__content\"><pre>[&#x27;age&#x27;, &#x27;education.num&#x27;, &#x27;hours.per.week&#x27;]</pre></div></div></div><div class=\"sk-serial\"><div class=\"sk-item\"><div class=\"sk-estimator sk-toggleable\"><input class=\"sk-toggleable__control sk-hidden--visually\" id=\"sk-estimator-id-18\" type=\"checkbox\" ><label for=\"sk-estimator-id-18\" class=\"sk-toggleable__label sk-toggleable__label-arrow\">StandardScaler</label><div class=\"sk-toggleable__content\"><pre>StandardScaler()</pre></div></div></div></div></div></div><div class=\"sk-parallel-item\"><div class=\"sk-item\"><div class=\"sk-label-container\"><div class=\"sk-label sk-toggleable\"><input class=\"sk-toggleable__control sk-hidden--visually\" id=\"sk-estimator-id-19\" type=\"checkbox\" ><label for=\"sk-estimator-id-19\" class=\"sk-toggleable__label sk-toggleable__label-arrow\">onehotencoder</label><div class=\"sk-toggleable__content\"><pre>[&#x27;race&#x27;, &#x27;sex&#x27;]</pre></div></div></div><div class=\"sk-serial\"><div class=\"sk-item\"><div class=\"sk-estimator sk-toggleable\"><input class=\"sk-toggleable__control sk-hidden--visually\" id=\"sk-estimator-id-20\" type=\"checkbox\" ><label for=\"sk-estimator-id-20\" class=\"sk-toggleable__label sk-toggleable__label-arrow\">OneHotEncoder</label><div class=\"sk-toggleable__content\"><pre>OneHotEncoder()</pre></div></div></div></div></div></div></div></div><div class=\"sk-item\"><div class=\"sk-estimator sk-toggleable\"><input class=\"sk-toggleable__control sk-hidden--visually\" id=\"sk-estimator-id-21\" type=\"checkbox\" ><label for=\"sk-estimator-id-21\" class=\"sk-toggleable__label sk-toggleable__label-arrow\">LogisticRegression</label><div class=\"sk-toggleable__content\"><pre>LogisticRegression(random_state=42, solver=&#x27;liblinear&#x27;)</pre></div></div></div></div></div></div></div>"
      ],
      "text/plain": [
       "Pipeline(steps=[('columntransformer',\n",
       "                 ColumnTransformer(transformers=[('standardscaler',\n",
       "                                                  StandardScaler(),\n",
       "                                                  ['age', 'education.num',\n",
       "                                                   'hours.per.week']),\n",
       "                                                 ('onehotencoder',\n",
       "                                                  OneHotEncoder(),\n",
       "                                                  ['race', 'sex'])])),\n",
       "                ('logisticregression',\n",
       "                 LogisticRegression(random_state=42, solver='liblinear'))])"
      ]
     },
     "execution_count": 13,
     "metadata": {},
     "output_type": "execute_result"
    }
   ],
   "source": [
    "# Features and target\n",
    "X = adult.drop(columns=['income'])\n",
    "y = adult['income']\n",
    "\n",
    "# Split the dataset\n",
    "X_train, X_test, y_train, y_test = train_test_split(X, y, test_size=0.2, shuffle=True, random_state=42)\n",
    "print(f\"Shapes: X_train: {X_train.shape}, y_train: {y_train.shape},\\\n",
    " X_test: {X_test.shape}, y_test: {y_test.shape}\\n\")\n",
    "\n",
    "# Preprocessing for numeric and categorical features\n",
    "\n",
    "# Create two transformers and one estimator\n",
    "ohe = OneHotEncoder()\n",
    "scaler = StandardScaler()\n",
    "logreg = LogisticRegression(solver='liblinear', random_state=42)\n",
    "\n",
    "# no need here to make sub-pipelines, only one transformer needed per feature type\n",
    "preprocessor = make_column_transformer(\n",
    "    (scaler, ['age', 'education.num', 'hours.per.week']),\n",
    "    (ohe, ['race', 'sex'])\n",
    ")\n",
    "\n",
    "# Create a pipeline with preprocessor and logistic regression\n",
    "pipe = make_pipeline(preprocessor, logreg)\n",
    "pipe"
   ]
  },
  {
   "cell_type": "code",
   "execution_count": 15,
   "metadata": {
    "tags": []
   },
   "outputs": [
    {
     "name": "stdout",
     "output_type": "stream",
     "text": [
      "Fitting 10 folds for each of 10 candidates, totalling 100 fits\n",
      "Best Parameters: {'logisticregression__C': 1, 'logisticregression__penalty': 'l1'}\n",
      "Best Cross-Validation Score: 0.6632281292644202\n",
      "              precision    recall  f1-score   support\n",
      "\n",
      "       <=50K       0.81      0.94      0.87       481\n",
      "        >50K       0.71      0.42      0.53       180\n",
      "\n",
      "    accuracy                           0.80       661\n",
      "   macro avg       0.76      0.68      0.70       661\n",
      "weighted avg       0.78      0.80      0.78       661\n",
      "\n"
     ]
    },
    {
     "data": {
      "text/plain": [
       "<sklearn.metrics._plot.confusion_matrix.ConfusionMatrixDisplay at 0x14f82d550>"
      ]
     },
     "execution_count": 15,
     "metadata": {},
     "output_type": "execute_result"
    },
    {
     "data": {
      "image/png": "[encoded data removed]",
      "text/plain": [
       "<Figure size 640x480 with 2 Axes>"
      ]
     },
     "metadata": {},
     "output_type": "display_data"
    }
   ],
   "source": [
    "# Define parameter grid for GridSearchCV\n",
    "\n",
    "# Nothing useful to optimize in the preprocessor (scaling, ohe)\n",
    "param_grid = {\n",
    "    'logisticregression__C': [0.01, 0.1, 1, 10, 100],\n",
    "    'logisticregression__penalty': ['l1', 'l2']\n",
    "}\n",
    "\n",
    "# Instantiate GridSearchCV\n",
    "gs = GridSearchCV(pipe, param_grid, cv=10, scoring='f1_macro', n_jobs=-1, refit=True, verbose=1)\n",
    "\n",
    "# Fit the model\n",
    "gs.fit(X_train, y_train)\n",
    "\n",
    "# Print best parameters and best score\n",
    "print(\"Best Parameters:\", gs.best_params_)\n",
    "print(\"Best Cross-Validation Score:\", gs.best_score_)\n",
    "\n",
    "# Test set performance\n",
    "y_test_predicted = gs.predict(X_test)\n",
    "print(classification_report(y_test, y_test_predicted))\n",
    "ConfusionMatrixDisplay.from_predictions(y_test, y_test_predicted)\n"
   ]
  },
  {
   "cell_type": "markdown",
   "metadata": {},
   "source": [
    "For reference: the different steps in doing ML in sklearn."
   ]
  },
  {
   "cell_type": "markdown",
   "metadata": {
    "tags": []
   },
   "source": [
    "<img src=\"figures/sklearn_flow.png\">"
   ]
  },
  {
   "cell_type": "markdown",
   "metadata": {},
   "source": [
    "### Evaluation Metrics\n",
    "\n",
    "Almost all relevant evaluation metrics can be derived from the confusion matrix.\n",
    "\n",
    "- Accuracy is $\\frac{TP + TN}{TP + TN + FP + FN}$\n",
    "\n",
    "\n",
    "- Precision is $\\frac{TP}{TP + FP}$\n",
    "    - Also called positive predictive value\n",
    "    \n",
    "\n",
    "- Recall is $\\frac{TP}{TP + FN}$\n",
    "    - Also called sensitivity, true positive rate\n",
    "    \n",
    "    \n",
    "- Specificity is $\\frac{TN}{TN + FP}$  \n",
    "    - Also called true negative rate\n",
    "\n",
    "- F1-score is $2\\frac{P * R}{P + R}$\n",
    "\n",
    "- Macro-average P, R and F1 is the average over all classes\n",
    "\n",
    "- Micro-average / weighted average is the frequency-weighted average over all classes"
   ]
  },
  {
   "cell_type": "markdown",
   "metadata": {},
   "source": [
    "https://scikit-learn.org/stable/modules/generated/sklearn.metrics.RocCurveDisplay.html"
   ]
  },
  {
   "cell_type": "code",
   "execution_count": 10,
   "metadata": {},
   "outputs": [
    {
     "data": {
      "text/plain": [
       "<sklearn.metrics._plot.roc_curve.RocCurveDisplay at 0x105b80450>"
      ]
     },
     "execution_count": 10,
     "metadata": {},
     "output_type": "execute_result"
    },
    {
     "data": {
      "image/png": "[encoded data removed]",
      "text/plain": [
       "<Figure size 640x480 with 1 Axes>"
      ]
     },
     "metadata": {},
     "output_type": "display_data"
    }
   ],
   "source": [
    "from sklearn.metrics import RocCurveDisplay\n",
    "# Area under the curve \n",
    "RocCurveDisplay.from_estimator(gs, X_test, y_test)"
   ]
  },
  {
   "cell_type": "markdown",
   "metadata": {},
   "source": [
    "https://scikit-learn.org/stable/modules/generated/sklearn.metrics.PrecisionRecallDisplay.html"
   ]
  },
  {
   "cell_type": "code",
   "execution_count": 12,
   "metadata": {},
   "outputs": [
    {
     "data": {
      "text/plain": [
       "<sklearn.metrics._plot.precision_recall_curve.PrecisionRecallDisplay at 0x163eb3d10>"
      ]
     },
     "execution_count": 12,
     "metadata": {},
     "output_type": "execute_result"
    },
    {
     "data": {
      "image/png": "[encoded data removed]",
      "text/plain": [
       "<Figure size 640x480 with 1 Axes>"
      ]
     },
     "metadata": {},
     "output_type": "display_data"
    }
   ],
   "source": [
    "from sklearn.metrics import PrecisionRecallDisplay\n",
    "# Precision - Recall curve\n",
    "\n",
    "PrecisionRecallDisplay.from_estimator(gs, X_test, y_test)\n",
    "# AP = Average Precision for the different recall values"
   ]
  },
  {
   "cell_type": "markdown",
   "metadata": {},
   "source": [
    "### Generalization\n",
    "\n",
    "- We can’t evaluate a trained model on the data we trained it on \n",
    "- We need separate train and test sets to evaluate generalization of a trained model\n",
    "- We assume train and test data to be samples taken from the same population (the task we are trying to model), identically distributed\n",
    "    - If that is the case, train and test set accuracy will be similar to each other, and  a good estimate of the “real” accuracy we will get on unseen data\n",
    "    - If it is not the case, the model does not work in this case / on this data!"
   ]
  },
  {
   "cell_type": "markdown",
   "metadata": {},
   "source": [
    "### Model Selection\n",
    "\n",
    "- ML algorithms have (sometimes many) hyperparameters\n",
    "- We want to select the best features and hyperparameter settings for our task\n",
    "- In general: best = best generalization accuracy\n",
    "    - But we might also be interested in interestingness, interpretability, ...\n",
    "- We perform model selection on a development / validation set (part of the train data), not on the test data\n",
    "\n",
    "### Cross-Validation\n",
    "\n",
    "- Hold-out (train-test)\n",
    "    - Keep part as train material (50-90%)\n",
    "    - Use rest as test material (50-10%)\n",
    "- Hold-out with model selection\n",
    "    - Use part of train material as validation test set for optimization feature engineering and algorithm parameters\n",
    "    - E.g. 80% train, 10% validation, 10% test\n",
    "    - Train the final best model on train + validation test (90%), report score on test\n",
    "- N-fold cross-validation\n",
    "    - E.g. n=10 (10-fold cross-validation)\n",
    "    - Create 10 splits of 10% of the data\n",
    "    - Use each partition in turn as test data and the other nine partitions as train data \n",
    "    - Run 10 experiments \n",
    "    - Use part of train data each experiment for model selection\n",
    "    - Report average and standard deviation\n",
    "    - Advantages\n",
    "        - More reliable error estimation\n",
    "        - Insight into variance of the classifier\n",
    "        - More reliable statistical significance tests in comparisons\n"
   ]
  },
  {
   "cell_type": "markdown",
   "metadata": {},
   "source": [
    "<img src=\"figures/crossval.png\">"
   ]
  },
  {
   "cell_type": "code",
   "execution_count": 21,
   "metadata": {},
   "outputs": [
    {
     "name": "stdout",
     "output_type": "stream",
     "text": [
      "[0.62983673 0.65133427 0.72392157 0.69515607 0.69507867 0.62437228\n",
      " 0.64690413 0.67823631 0.67547531 0.66694347]\n",
      "Mean 0.6687258806605025, Std 0.029727149061165335\n"
     ]
    }
   ],
   "source": [
    "from sklearn.model_selection import cross_val_score\n",
    "scores = cross_val_score(pipe, X, y, cv=10, scoring='f1_macro')\n",
    "print(scores)\n",
    "print(f\"Mean {scores.mean()}, Std {scores.std()}\")"
   ]
  },
  {
   "cell_type": "markdown",
   "metadata": {},
   "source": [
    "### Qualitative Error Analysis\n",
    "\n",
    "- One way to do error analysis is to look at false positive and false negatives and try to come up with an explanation.\n",
    "\n",
    "- More generally, it is possible to sort or label your test dataset with additional information / an additional typology, and look at accuracy of the model on this different subsets. "
   ]
  },
  {
   "cell_type": "code",
   "execution_count": 23,
   "metadata": {},
   "outputs": [
    {
     "data": {
      "text/html": [
       "<div>\n",
       "<style scoped>\n",
       "    .dataframe tbody tr th:only-of-type {\n",
       "        vertical-align: middle;\n",
       "    }\n",
       "\n",
       "    .dataframe tbody tr th {\n",
       "        vertical-align: top;\n",
       "    }\n",
       "\n",
       "    .dataframe thead th {\n",
       "        text-align: right;\n",
       "    }\n",
       "</style>\n",
       "<table border=\"1\" class=\"dataframe\">\n",
       "  <thead>\n",
       "    <tr style=\"text-align: right;\">\n",
       "      <th></th>\n",
       "      <th>true</th>\n",
       "      <th>pred</th>\n",
       "    </tr>\n",
       "  </thead>\n",
       "  <tbody>\n",
       "    <tr>\n",
       "      <th>2616</th>\n",
       "      <td>&lt;=50K</td>\n",
       "      <td>&lt;=50K</td>\n",
       "    </tr>\n",
       "    <tr>\n",
       "      <th>124</th>\n",
       "      <td>&gt;50K</td>\n",
       "      <td>&gt;50K</td>\n",
       "    </tr>\n",
       "    <tr>\n",
       "      <th>1429</th>\n",
       "      <td>&gt;50K</td>\n",
       "      <td>&lt;=50K</td>\n",
       "    </tr>\n",
       "    <tr>\n",
       "      <th>616</th>\n",
       "      <td>&lt;=50K</td>\n",
       "      <td>&lt;=50K</td>\n",
       "    </tr>\n",
       "    <tr>\n",
       "      <th>2666</th>\n",
       "      <td>&gt;50K</td>\n",
       "      <td>&lt;=50K</td>\n",
       "    </tr>\n",
       "  </tbody>\n",
       "</table>\n",
       "</div>"
      ],
      "text/plain": [
       "       true   pred\n",
       "2616  <=50K  <=50K\n",
       "124    >50K   >50K\n",
       "1429   >50K  <=50K\n",
       "616   <=50K  <=50K\n",
       "2666   >50K  <=50K"
      ]
     },
     "execution_count": 23,
     "metadata": {},
     "output_type": "execute_result"
    }
   ],
   "source": [
    "# Make a dataframe with the true classes and the predicted classes\n",
    "d = {'true': y_test, 'pred': y_test_predicted}\n",
    "output = pd.DataFrame(data=d)\n",
    "output.sample(5)"
   ]
  },
  {
   "cell_type": "code",
   "execution_count": 25,
   "metadata": {},
   "outputs": [
    {
     "name": "stdout",
     "output_type": "stream",
     "text": [
      "False negatives:\n"
     ]
    },
    {
     "data": {
      "text/plain": [
       "Index([ 212, 3409, 3531, 1713, 1429, 2166, 2749, 3037,   30, 2304,\n",
       "       ...\n",
       "       2046, 1702,  907, 2859,  112, 3678, 1042, 1153, 4395,  519],\n",
       "      dtype='int64', length=104)"
      ]
     },
     "execution_count": 25,
     "metadata": {},
     "output_type": "execute_result"
    }
   ],
   "source": [
    "print('False negatives:')\n",
    "fn = output[(output['true'] == '>50K') & (output['pred'] == '<=50K')].index\n",
    "fn\n",
    "# the gold standard says 'high income' and the model says 'low income'"
   ]
  },
  {
   "cell_type": "code",
   "execution_count": 27,
   "metadata": {},
   "outputs": [
    {
     "name": "stdout",
     "output_type": "stream",
     "text": [
      "False positives:\n"
     ]
    },
    {
     "data": {
      "text/plain": [
       "Index([1013, 3938, 4059,  249, 2450, 3872, 4175, 1477, 3644,  186, 3429, 4702,\n",
       "       1379, 2847, 4665,  566,  294, 2791, 3860, 1579, 1446, 1546,  145, 2690,\n",
       "       1698, 3275, 2232,  744, 4346, 2504, 2999],\n",
       "      dtype='int64')"
      ]
     },
     "execution_count": 27,
     "metadata": {},
     "output_type": "execute_result"
    }
   ],
   "source": [
    "print('False positives:')\n",
    "fp = output[(output['true'] == '<=50K') & (output['pred'] == '>50K')].index\n",
    "fp"
   ]
  },
  {
   "cell_type": "code",
   "execution_count": 29,
   "metadata": {
    "tags": []
   },
   "outputs": [
    {
     "data": {
      "text/html": [
       "<div>\n",
       "<style scoped>\n",
       "    .dataframe tbody tr th:only-of-type {\n",
       "        vertical-align: middle;\n",
       "    }\n",
       "\n",
       "    .dataframe tbody tr th {\n",
       "        vertical-align: top;\n",
       "    }\n",
       "\n",
       "    .dataframe thead th {\n",
       "        text-align: right;\n",
       "    }\n",
       "</style>\n",
       "<table border=\"1\" class=\"dataframe\">\n",
       "  <thead>\n",
       "    <tr style=\"text-align: right;\">\n",
       "      <th></th>\n",
       "      <th>age</th>\n",
       "      <th>education.num</th>\n",
       "      <th>race</th>\n",
       "      <th>sex</th>\n",
       "      <th>hours.per.week</th>\n",
       "      <th>income</th>\n",
       "    </tr>\n",
       "  </thead>\n",
       "  <tbody>\n",
       "    <tr>\n",
       "      <th>1013</th>\n",
       "      <td>43</td>\n",
       "      <td>12</td>\n",
       "      <td>White</td>\n",
       "      <td>Male</td>\n",
       "      <td>50</td>\n",
       "      <td>&lt;=50K</td>\n",
       "    </tr>\n",
       "    <tr>\n",
       "      <th>3938</th>\n",
       "      <td>25</td>\n",
       "      <td>13</td>\n",
       "      <td>White</td>\n",
       "      <td>Male</td>\n",
       "      <td>60</td>\n",
       "      <td>&lt;=50K</td>\n",
       "    </tr>\n",
       "    <tr>\n",
       "      <th>4059</th>\n",
       "      <td>55</td>\n",
       "      <td>16</td>\n",
       "      <td>White</td>\n",
       "      <td>Male</td>\n",
       "      <td>40</td>\n",
       "      <td>&lt;=50K</td>\n",
       "    </tr>\n",
       "    <tr>\n",
       "      <th>249</th>\n",
       "      <td>36</td>\n",
       "      <td>15</td>\n",
       "      <td>White</td>\n",
       "      <td>Male</td>\n",
       "      <td>60</td>\n",
       "      <td>&lt;=50K</td>\n",
       "    </tr>\n",
       "    <tr>\n",
       "      <th>2450</th>\n",
       "      <td>28</td>\n",
       "      <td>14</td>\n",
       "      <td>White</td>\n",
       "      <td>Male</td>\n",
       "      <td>60</td>\n",
       "      <td>&lt;=50K</td>\n",
       "    </tr>\n",
       "    <tr>\n",
       "      <th>3872</th>\n",
       "      <td>56</td>\n",
       "      <td>14</td>\n",
       "      <td>White</td>\n",
       "      <td>Male</td>\n",
       "      <td>66</td>\n",
       "      <td>&lt;=50K</td>\n",
       "    </tr>\n",
       "    <tr>\n",
       "      <th>4175</th>\n",
       "      <td>38</td>\n",
       "      <td>10</td>\n",
       "      <td>White</td>\n",
       "      <td>Male</td>\n",
       "      <td>75</td>\n",
       "      <td>&lt;=50K</td>\n",
       "    </tr>\n",
       "    <tr>\n",
       "      <th>1477</th>\n",
       "      <td>50</td>\n",
       "      <td>13</td>\n",
       "      <td>White</td>\n",
       "      <td>Male</td>\n",
       "      <td>60</td>\n",
       "      <td>&lt;=50K</td>\n",
       "    </tr>\n",
       "    <tr>\n",
       "      <th>3644</th>\n",
       "      <td>70</td>\n",
       "      <td>13</td>\n",
       "      <td>White</td>\n",
       "      <td>Male</td>\n",
       "      <td>40</td>\n",
       "      <td>&lt;=50K</td>\n",
       "    </tr>\n",
       "    <tr>\n",
       "      <th>186</th>\n",
       "      <td>40</td>\n",
       "      <td>13</td>\n",
       "      <td>White</td>\n",
       "      <td>Male</td>\n",
       "      <td>53</td>\n",
       "      <td>&lt;=50K</td>\n",
       "    </tr>\n",
       "    <tr>\n",
       "      <th>3429</th>\n",
       "      <td>51</td>\n",
       "      <td>14</td>\n",
       "      <td>White</td>\n",
       "      <td>Male</td>\n",
       "      <td>60</td>\n",
       "      <td>&lt;=50K</td>\n",
       "    </tr>\n",
       "    <tr>\n",
       "      <th>4702</th>\n",
       "      <td>52</td>\n",
       "      <td>13</td>\n",
       "      <td>White</td>\n",
       "      <td>Male</td>\n",
       "      <td>40</td>\n",
       "      <td>&lt;=50K</td>\n",
       "    </tr>\n",
       "    <tr>\n",
       "      <th>1379</th>\n",
       "      <td>33</td>\n",
       "      <td>16</td>\n",
       "      <td>White</td>\n",
       "      <td>Male</td>\n",
       "      <td>60</td>\n",
       "      <td>&lt;=50K</td>\n",
       "    </tr>\n",
       "    <tr>\n",
       "      <th>2847</th>\n",
       "      <td>37</td>\n",
       "      <td>13</td>\n",
       "      <td>White</td>\n",
       "      <td>Male</td>\n",
       "      <td>70</td>\n",
       "      <td>&lt;=50K</td>\n",
       "    </tr>\n",
       "    <tr>\n",
       "      <th>4665</th>\n",
       "      <td>40</td>\n",
       "      <td>12</td>\n",
       "      <td>White</td>\n",
       "      <td>Male</td>\n",
       "      <td>60</td>\n",
       "      <td>&lt;=50K</td>\n",
       "    </tr>\n",
       "    <tr>\n",
       "      <th>566</th>\n",
       "      <td>69</td>\n",
       "      <td>13</td>\n",
       "      <td>White</td>\n",
       "      <td>Male</td>\n",
       "      <td>40</td>\n",
       "      <td>&lt;=50K</td>\n",
       "    </tr>\n",
       "    <tr>\n",
       "      <th>294</th>\n",
       "      <td>42</td>\n",
       "      <td>13</td>\n",
       "      <td>White</td>\n",
       "      <td>Male</td>\n",
       "      <td>40</td>\n",
       "      <td>&lt;=50K</td>\n",
       "    </tr>\n",
       "    <tr>\n",
       "      <th>2791</th>\n",
       "      <td>52</td>\n",
       "      <td>14</td>\n",
       "      <td>White</td>\n",
       "      <td>Female</td>\n",
       "      <td>60</td>\n",
       "      <td>&lt;=50K</td>\n",
       "    </tr>\n",
       "    <tr>\n",
       "      <th>3860</th>\n",
       "      <td>42</td>\n",
       "      <td>16</td>\n",
       "      <td>White</td>\n",
       "      <td>Female</td>\n",
       "      <td>45</td>\n",
       "      <td>&lt;=50K</td>\n",
       "    </tr>\n",
       "    <tr>\n",
       "      <th>1579</th>\n",
       "      <td>49</td>\n",
       "      <td>14</td>\n",
       "      <td>White</td>\n",
       "      <td>Male</td>\n",
       "      <td>60</td>\n",
       "      <td>&lt;=50K</td>\n",
       "    </tr>\n",
       "    <tr>\n",
       "      <th>1446</th>\n",
       "      <td>68</td>\n",
       "      <td>14</td>\n",
       "      <td>White</td>\n",
       "      <td>Female</td>\n",
       "      <td>40</td>\n",
       "      <td>&lt;=50K</td>\n",
       "    </tr>\n",
       "    <tr>\n",
       "      <th>1546</th>\n",
       "      <td>48</td>\n",
       "      <td>13</td>\n",
       "      <td>White</td>\n",
       "      <td>Male</td>\n",
       "      <td>60</td>\n",
       "      <td>&lt;=50K</td>\n",
       "    </tr>\n",
       "    <tr>\n",
       "      <th>145</th>\n",
       "      <td>38</td>\n",
       "      <td>14</td>\n",
       "      <td>White</td>\n",
       "      <td>Male</td>\n",
       "      <td>45</td>\n",
       "      <td>&lt;=50K</td>\n",
       "    </tr>\n",
       "    <tr>\n",
       "      <th>2690</th>\n",
       "      <td>49</td>\n",
       "      <td>13</td>\n",
       "      <td>White</td>\n",
       "      <td>Male</td>\n",
       "      <td>50</td>\n",
       "      <td>&lt;=50K</td>\n",
       "    </tr>\n",
       "    <tr>\n",
       "      <th>1698</th>\n",
       "      <td>34</td>\n",
       "      <td>9</td>\n",
       "      <td>White</td>\n",
       "      <td>Male</td>\n",
       "      <td>90</td>\n",
       "      <td>&lt;=50K</td>\n",
       "    </tr>\n",
       "    <tr>\n",
       "      <th>3275</th>\n",
       "      <td>48</td>\n",
       "      <td>14</td>\n",
       "      <td>White</td>\n",
       "      <td>Female</td>\n",
       "      <td>52</td>\n",
       "      <td>&lt;=50K</td>\n",
       "    </tr>\n",
       "    <tr>\n",
       "      <th>2232</th>\n",
       "      <td>64</td>\n",
       "      <td>14</td>\n",
       "      <td>Asian-Pac-Islander</td>\n",
       "      <td>Male</td>\n",
       "      <td>60</td>\n",
       "      <td>&lt;=50K</td>\n",
       "    </tr>\n",
       "    <tr>\n",
       "      <th>744</th>\n",
       "      <td>43</td>\n",
       "      <td>14</td>\n",
       "      <td>White</td>\n",
       "      <td>Male</td>\n",
       "      <td>45</td>\n",
       "      <td>&lt;=50K</td>\n",
       "    </tr>\n",
       "    <tr>\n",
       "      <th>4346</th>\n",
       "      <td>42</td>\n",
       "      <td>16</td>\n",
       "      <td>White</td>\n",
       "      <td>Male</td>\n",
       "      <td>50</td>\n",
       "      <td>&lt;=50K</td>\n",
       "    </tr>\n",
       "    <tr>\n",
       "      <th>2504</th>\n",
       "      <td>57</td>\n",
       "      <td>16</td>\n",
       "      <td>White</td>\n",
       "      <td>Female</td>\n",
       "      <td>50</td>\n",
       "      <td>&lt;=50K</td>\n",
       "    </tr>\n",
       "    <tr>\n",
       "      <th>2999</th>\n",
       "      <td>43</td>\n",
       "      <td>11</td>\n",
       "      <td>White</td>\n",
       "      <td>Male</td>\n",
       "      <td>99</td>\n",
       "      <td>&lt;=50K</td>\n",
       "    </tr>\n",
       "  </tbody>\n",
       "</table>\n",
       "</div>"
      ],
      "text/plain": [
       "      age  education.num                race     sex  hours.per.week income\n",
       "1013   43             12               White    Male              50  <=50K\n",
       "3938   25             13               White    Male              60  <=50K\n",
       "4059   55             16               White    Male              40  <=50K\n",
       "249    36             15               White    Male              60  <=50K\n",
       "2450   28             14               White    Male              60  <=50K\n",
       "3872   56             14               White    Male              66  <=50K\n",
       "4175   38             10               White    Male              75  <=50K\n",
       "1477   50             13               White    Male              60  <=50K\n",
       "3644   70             13               White    Male              40  <=50K\n",
       "186    40             13               White    Male              53  <=50K\n",
       "3429   51             14               White    Male              60  <=50K\n",
       "4702   52             13               White    Male              40  <=50K\n",
       "1379   33             16               White    Male              60  <=50K\n",
       "2847   37             13               White    Male              70  <=50K\n",
       "4665   40             12               White    Male              60  <=50K\n",
       "566    69             13               White    Male              40  <=50K\n",
       "294    42             13               White    Male              40  <=50K\n",
       "2791   52             14               White  Female              60  <=50K\n",
       "3860   42             16               White  Female              45  <=50K\n",
       "1579   49             14               White    Male              60  <=50K\n",
       "1446   68             14               White  Female              40  <=50K\n",
       "1546   48             13               White    Male              60  <=50K\n",
       "145    38             14               White    Male              45  <=50K\n",
       "2690   49             13               White    Male              50  <=50K\n",
       "1698   34              9               White    Male              90  <=50K\n",
       "3275   48             14               White  Female              52  <=50K\n",
       "2232   64             14  Asian-Pac-Islander    Male              60  <=50K\n",
       "744    43             14               White    Male              45  <=50K\n",
       "4346   42             16               White    Male              50  <=50K\n",
       "2504   57             16               White  Female              50  <=50K\n",
       "2999   43             11               White    Male              99  <=50K"
      ]
     },
     "execution_count": 29,
     "metadata": {},
     "output_type": "execute_result"
    }
   ],
   "source": [
    "adult.loc[fp]"
   ]
  },
  {
   "cell_type": "code",
   "execution_count": 31,
   "metadata": {
    "tags": []
   },
   "outputs": [
    {
     "data": {
      "text/plain": [
       "race\n",
       "White                 0.831617\n",
       "Black                 0.123864\n",
       "Asian-Pac-Islander    0.044518\n",
       "Name: proportion, dtype: float64"
      ]
     },
     "execution_count": 31,
     "metadata": {},
     "output_type": "execute_result"
    }
   ],
   "source": [
    "adult.race.value_counts(normalize=True)"
   ]
  },
  {
   "cell_type": "code",
   "execution_count": 35,
   "metadata": {
    "tags": []
   },
   "outputs": [
    {
     "data": {
      "text/plain": [
       "race\n",
       "White                 0.836538\n",
       "Black                 0.115385\n",
       "Asian-Pac-Islander    0.048077\n",
       "Name: proportion, dtype: float64"
      ]
     },
     "execution_count": 35,
     "metadata": {},
     "output_type": "execute_result"
    }
   ],
   "source": [
    "adult.loc[fn].race.value_counts(normalize=True)"
   ]
  },
  {
   "cell_type": "code",
   "execution_count": 37,
   "metadata": {
    "tags": []
   },
   "outputs": [
    {
     "data": {
      "text/plain": [
       "race\n",
       "White                 0.967742\n",
       "Asian-Pac-Islander    0.032258\n",
       "Name: proportion, dtype: float64"
      ]
     },
     "execution_count": 37,
     "metadata": {},
     "output_type": "execute_result"
    }
   ],
   "source": [
    "adult.loc[fp].race.value_counts(normalize=True)"
   ]
  },
  {
   "cell_type": "markdown",
   "metadata": {},
   "source": [
    "### Learning and Validation Curves\n",
    "\n",
    "https://scikit-learn.org/stable/modules/generated/sklearn.model_selection.learning_curve.html\n",
    "\n",
    "https://scikit-learn.org/stable/modules/generated/sklearn.model_selection.validation_curve.html\n"
   ]
  },
  {
   "cell_type": "code",
   "execution_count": 26,
   "metadata": {},
   "outputs": [],
   "source": [
    "from sklearn.model_selection import learning_curve, validation_curve"
   ]
  },
  {
   "cell_type": "code",
   "execution_count": 27,
   "metadata": {},
   "outputs": [
    {
     "data": {
      "image/png": "[encoded data removed]",
      "text/plain": [
       "<Figure size 640x480 with 1 Axes>"
      ]
     },
     "metadata": {},
     "output_type": "display_data"
    }
   ],
   "source": [
    "train_sizes, train_scores, test_scores = learning_curve(estimator=pipe, X=X_train, y=y_train, cv=10)\n",
    "test_mean = np.mean(test_scores, axis=1)\n",
    "test_std = np.std(test_scores, axis=1)\n",
    "plt.plot(train_sizes, test_mean, color='green', marker='s')\n",
    "plt.fill_between(train_sizes, test_mean+test_std, test_mean-test_std, alpha=0.15, color='green')\n",
    "plt.grid()\n"
   ]
  },
  {
   "cell_type": "code",
   "execution_count": 28,
   "metadata": {},
   "outputs": [
    {
     "data": {
      "image/png": "[encoded data removed]",
      "text/plain": [
       "<Figure size 640x480 with 1 Axes>"
      ]
     },
     "metadata": {},
     "output_type": "display_data"
    }
   ],
   "source": [
    "param_range = [0.001, 0.01, 0.1, 1.0, 10.0, 100.0, 1000.0]\n",
    "train_scores, test_scores = validation_curve(estimator=pipe, X=X_train, y=y_train, \\\n",
    "                                             param_name= 'logisticregression__C', param_range=param_range, cv=10)\n",
    "test_mean = np.mean(test_scores, axis=1)\n",
    "test_std = np.std(test_scores, axis=1)\n",
    "plt.plot(param_range, test_mean, color='green', marker='s')\n",
    "plt.fill_between(param_range, test_mean+test_std, test_mean-test_std, alpha=0.15, color='green')\n",
    "plt.grid()\n",
    "plt.xscale('log')\n",
    "plt.show()"
   ]
  },
  {
   "cell_type": "markdown",
   "metadata": {},
   "source": [
    "### Bias Variance trade-off (intuition)\n",
    "illustration from Scott Fortmann-Roe"
   ]
  },
  {
   "cell_type": "markdown",
   "metadata": {},
   "source": [
    "<img src=\"figures/bias-variance.png\">"
   ]
  },
  {
   "cell_type": "markdown",
   "metadata": {},
   "source": [
    "Overfitting: the model fits the data but generalizes badly\n",
    "  - High Variance (different data partitions lead to different performance)\n",
    "\n",
    "Underfitting: the model doesn't fit the data very well (and bad generalization)\n",
    "   - High Bias\n",
    "   - Solution: Other method needed\n",
    "    \n",
    "The only criterion for a model is it's generalization capacities!\n",
    "        \n",
    "Solutions for a \"just right\" model: \n",
    "   - Regularization (make the task more difficult for the algorithm, for example C parameter in logistic regression)\n",
    "       - Cost function is extended with a term that tries to keep the weights small \n",
    "   - Feature selection (avoid that there are too many features for the number of samples)\n",
    "   - More training data\n"
   ]
  },
  {
   "cell_type": "markdown",
   "metadata": {},
   "source": [
    "### Regularization in Logistic Regression\n",
    "\n",
    "Regularization prevents the model from relying too heavily on any single feature or fitting the training data too closely.\n",
    "\n",
    "The two most common types of regularization in logistic regression are L1 and L2 regularization. They work by adding a **penalty** to the cost function. **L1** Regularization (Lasso Regularization) adds a penalty proportional to the sum of the absolute values of the coefficients. **L2** Regularization (Ridge Regularization) adds a penalty to the cost function proportional to the sum of the squares of the coefficients (weights). Regularization can drive some coefficients close to (or for L1 exactly to) zero, effectively removing less important features.\n",
    "\n",
    "The strength of the regularization is (inversely) controlled by the parameter **C**."
   ]
  }
 ],
 "metadata": {
  "kernelspec": {
   "display_name": "Python 3 (ipykernel)",
   "language": "python",
   "name": "python3"
  },
  "language_info": {
   "codemirror_mode": {
    "name": "ipython",
    "version": 3
   },
   "file_extension": ".py",
   "mimetype": "text/x-python",
   "name": "python",
   "nbconvert_exporter": "python",
   "pygments_lexer": "ipython3",
   "version": "3.11.5"
  }
 },
 "nbformat": 4,
 "nbformat_minor": 4
}
