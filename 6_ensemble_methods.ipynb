{
 "cells": [
  {
   "cell_type": "code",
   "execution_count": 1,
   "metadata": {
    "tags": []
   },
   "outputs": [
    {
     "name": "stdout",
     "output_type": "stream",
     "text": [
      "pandas: 2.1.4\n",
      "numpy: 1.26.2\n",
      "sklearn: 1.2.2\n",
      "matplotlib: 3.8.0\n",
      "Python: 3.11.5 (main, Sep 11 2023, 08:31:25) [Clang 14.0.6 ]\n",
      "/Users/walter/anaconda3/bin/python\n"
     ]
    }
   ],
   "source": [
    "import pandas as pd\n",
    "import numpy as np\n",
    "import matplotlib\n",
    "import matplotlib.pyplot as plt\n",
    "import sklearn\n",
    "\n",
    "print(f'pandas: {pd.__version__}')\n",
    "print(f'numpy: {np.__version__}')\n",
    "print(f'sklearn: {sklearn.__version__}')\n",
    "print(f'matplotlib: {matplotlib.__version__}')\n",
    "import sys\n",
    "print(f'Python: {sys.version}')\n",
    "!which python  "
   ]
  },
  {
   "cell_type": "markdown",
   "metadata": {
    "id": "j7dn-NYPYHkj"
   },
   "source": [
    "## Ensemble Methods\n",
    "\n",
    "[walter.daelemans@uantwerpen.be](mailto:walter.daelemans@uantwerpen.be)\n",
    "\n",
    "Ensemble learning refers to the methodology of combining several learners (component learners) to create a more robust and accurate overall model (the ensemble). \n",
    "\n",
    "The combination of component outputs can be done by voting (for classification) or averaging (for regression).\n",
    "\n",
    "A diverse set of ML models may make different (types of) errors, and by combining many such models, these errors may cancel out. You can consider it a sort of 'many know more than one' or 'wisdom of the crowd' implementation.\n",
    "\n",
    "In order to work, each of the the component learners should be reasonably accurate (perform at least better than chance) and the different component learners should make different mistakes. If they all would make the same mistakes, the canceling out of errors would not work. If they would do barely better than chance they may not contribute a lot to or even distract the ensemble.\n",
    "\n",
    "Ensembles can be created by combining different algorithms (e.g., logistic regression, decision trees, and k-NN) or by training the same algorithm on different subsets of data (**bagging**, e.g., RandomForestClassifier). They can also involve varying hyperparameters or random initializations (e.g., in neural networks).\n",
    "\n",
    "Another approach is boosting, where a weak learner is iteratively improved by focusing on the errors of previous iterations (**boosting**, e.g., AdaBoostClassifier).\n"
   ]
  },
  {
   "cell_type": "code",
   "execution_count": 3,
   "metadata": {
    "tags": []
   },
   "outputs": [],
   "source": [
    "from sklearn.model_selection import train_test_split, cross_val_score\n",
    "from sklearn.compose import make_column_transformer\n",
    "from sklearn.pipeline import make_pipeline\n",
    "from sklearn.preprocessing import OneHotEncoder, StandardScaler\n",
    "from sklearn.ensemble import RandomForestClassifier, GradientBoostingClassifier, VotingClassifier\n",
    "from sklearn.metrics import classification_report\n",
    "from sklearn.dummy import DummyClassifier\n",
    "\n",
    "from sklearn.neighbors import KNeighborsClassifier\n",
    "from sklearn.svm import SVC\n",
    "from sklearn.linear_model import LogisticRegression"
   ]
  },
  {
   "cell_type": "code",
   "execution_count": 4,
   "metadata": {
    "tags": []
   },
   "outputs": [],
   "source": [
    "adult = pd.read_csv(\"homework/adult_small.csv\")\n",
    "\n",
    "X = adult.drop(columns=['income'])\n",
    "y = adult['income']\n",
    "\n",
    "X_train, X_test, y_train, y_test = train_test_split(X, y, test_size=0.2, shuffle=True, random_state=42)\n",
    "\n",
    "ohe = OneHotEncoder()\n",
    "scaler = StandardScaler()\n",
    "\n",
    "preprocessor = make_column_transformer(\n",
    "    (scaler, ['age', 'education.num', 'hours.per.week']),\n",
    "    (ohe, ['race', 'sex'])\n",
    ")\n",
    "\n",
    "logreg = LogisticRegression(random_state=42)\n",
    "knn = KNeighborsClassifier()\n",
    "svm = SVC(random_state=42, probability=True)\n",
    "\n",
    "dummy_clf = DummyClassifier(strategy='stratified')"
   ]
  },
  {
   "cell_type": "markdown",
   "metadata": {
    "tags": []
   },
   "source": [
    "### Evaluate the component classifiers"
   ]
  },
  {
   "cell_type": "code",
   "execution_count": 6,
   "metadata": {
    "tags": []
   },
   "outputs": [
    {
     "name": "stdout",
     "output_type": "stream",
     "text": [
      "Stratified baseline results:\n",
      "F1 Macro (Mean ± Std): 0.4918 ± 0.0336\n",
      "Logistic regression results:\n",
      "F1 Macro (Mean ± Std): 0.6736 ± 0.0204\n",
      "Knn results:\n",
      "F1 Macro (Mean ± Std): 0.6798 ± 0.0234\n",
      "SVM results:\n",
      "F1 Macro (Mean ± Std): 0.6702 ± 0.0226\n"
     ]
    }
   ],
   "source": [
    "dummy_pipe = make_pipeline(preprocessor, dummy_clf)\n",
    "print(\"Stratified baseline results:\")\n",
    "dummy_scores = cross_val_score(dummy_pipe, X_train, y_train, cv=10, scoring='f1_macro')\n",
    "print(f\"F1 Macro (Mean ± Std): {dummy_scores.mean():.4f} ± {dummy_scores.std():.4f}\")\n",
    "\n",
    "pipe1 = make_pipeline(preprocessor, logreg)\n",
    "print(\"Logistic regression results:\")\n",
    "lr_scores = cross_val_score(pipe1, X_train, y_train, cv=10, scoring='f1_macro')\n",
    "print(f\"F1 Macro (Mean ± Std): {lr_scores.mean():.4f} ± {lr_scores.std():.4f}\")\n",
    "\n",
    "pipe2 = make_pipeline(preprocessor, knn)\n",
    "print(\"Knn results:\")\n",
    "knn_scores = cross_val_score(pipe2, X_train, y_train, cv=10, scoring='f1_macro')\n",
    "print(f\"F1 Macro (Mean ± Std): {knn_scores.mean():.4f} ± {knn_scores.std():.4f}\")\n",
    "\n",
    "pipe3 = make_pipeline(preprocessor, svm)\n",
    "print(\"SVM results:\")\n",
    "svm_scores = cross_val_score(pipe3, X_train, y_train, cv=10, scoring='f1_macro')\n",
    "print(f\"F1 Macro (Mean ± Std): {svm_scores.mean():.4f} ± {svm_scores.std():.4f}\")"
   ]
  },
  {
   "cell_type": "markdown",
   "metadata": {},
   "source": [
    "While the three models seem to do better than chance baseline, they also seem to be pretty close to each other. To check whether they make different mistakes, you could do a correlation analysis of their output."
   ]
  },
  {
   "cell_type": "code",
   "execution_count": 8,
   "metadata": {
    "tags": []
   },
   "outputs": [
    {
     "name": "stdout",
     "output_type": "stream",
     "text": [
      "Voting results:\n",
      "F1 Macro (Mean ± Std): 0.6761 ± 0.0217\n"
     ]
    }
   ],
   "source": [
    "voting_clf = VotingClassifier(\n",
    "    estimators=\n",
    "    [('lr', logreg), ('knn', knn), ('svm', svm)],\n",
    "    voting='soft')\n",
    "# 'soft' votes over the probabilities output of the component models, \n",
    "# 'hard' votes over the classes output of the models\n",
    "\n",
    "voting_pipe = make_pipeline(preprocessor, voting_clf)\n",
    "\n",
    "print(\"Voting results:\")\n",
    "voting_scores = cross_val_score(voting_pipe, X_train, y_train, cv=10, scoring='f1_macro')\n",
    "print(f\"F1 Macro (Mean ± Std): {voting_scores.mean():.4f} ± {voting_scores.std():.4f}\")"
   ]
  },
  {
   "cell_type": "markdown",
   "metadata": {
    "tags": []
   },
   "source": [
    "### Bagging with Random Forest"
   ]
  },
  {
   "cell_type": "code",
   "execution_count": 10,
   "metadata": {
    "tags": []
   },
   "outputs": [
    {
     "name": "stdout",
     "output_type": "stream",
     "text": [
      "Bagging with Random Forest results:\n",
      "F1 Macro (Mean ± Std): 0.6670 ± 0.0427\n"
     ]
    }
   ],
   "source": [
    "rf = RandomForestClassifier(n_estimators=500) \n",
    "rf_pipe = make_pipeline(preprocessor, rf)\n",
    "print(\"Bagging with Random Forest results:\")\n",
    "rf_scores = cross_val_score(rf_pipe, X_train, y_train, cv=10, scoring='f1_macro')\n",
    "print(f\"F1 Macro (Mean ± Std): {rf_scores.mean():.4f} ± {rf_scores.std():.4f}\")"
   ]
  },
  {
   "cell_type": "markdown",
   "metadata": {
    "tags": []
   },
   "source": [
    "### Boosting with Gradient Boosting \n",
    "\n",
    "Gradient boosting is an iterative technique that builds a strong model by combining multiple weak learners. Regression trees are fit on the negative gradient of the loss function. At each step, it fits a new model to the residual errors (mistakes) of the previous one, minimizing the overall loss function and improving accuracy."
   ]
  },
  {
   "cell_type": "code",
   "execution_count": 12,
   "metadata": {
    "tags": []
   },
   "outputs": [
    {
     "name": "stdout",
     "output_type": "stream",
     "text": [
      "Boosting with Gradient Boosting results:\n",
      "F1 Macro (Mean ± Std): 0.6921 ± 0.0216\n"
     ]
    }
   ],
   "source": [
    "gb = GradientBoostingClassifier(n_estimators=100)\n",
    "gb_pipe = make_pipeline(preprocessor, gb)\n",
    "print(\"Boosting with Gradient Boosting results:\")\n",
    "gb_scores = cross_val_score(gb_pipe, X_train, y_train, cv=10, scoring='f1_macro')\n",
    "print(f\"F1 Macro (Mean ± Std): {gb_scores.mean():.4f} ± {gb_scores.std():.4f}\")"
   ]
  },
  {
   "cell_type": "code",
   "execution_count": 13,
   "metadata": {
    "tags": []
   },
   "outputs": [
    {
     "name": "stdout",
     "output_type": "stream",
     "text": [
      "              precision    recall  f1-score   support\n",
      "\n",
      "       <=50K       0.80      0.94      0.86       713\n",
      "        >50K       0.69      0.38      0.49       272\n",
      "\n",
      "    accuracy                           0.78       985\n",
      "   macro avg       0.75      0.66      0.67       985\n",
      "weighted avg       0.77      0.78      0.76       985\n",
      "\n"
     ]
    }
   ],
   "source": [
    "# Best results with gradient boosting, use this on test\n",
    "gb_pipe.fit(X_train, y_train)\n",
    "print(classification_report(y_test, gb_pipe.predict(X_test)))"
   ]
  },
  {
   "cell_type": "markdown",
   "metadata": {},
   "source": [
    "Conclusion: No luck with this dataset: all component and ensemble classifiers seem to reach comparable results. Probably we have a **ceiling effect** here: the features are not informative enough and all algorithms are already at the ceiling of what is possible to achieve for this task.\n",
    "\n",
    "Of course, the different component models and the ensemble methods should still be optimized using gridsearch."
   ]
  },
  {
   "cell_type": "code",
   "execution_count": 15,
   "metadata": {
    "tags": []
   },
   "outputs": [
    {
     "data": {
      "image/png": "[encoded data removed]",
      "text/plain": [
       "<Figure size 640x480 with 1 Axes>"
      ]
     },
     "metadata": {},
     "output_type": "display_data"
    }
   ],
   "source": [
    "data = {'dummy': dummy_scores, 'lr': lr_scores, 'knn': knn_scores, \n",
    "        'svm': svm_scores, 'rf': rf_scores, 'voting': voting_scores, 'gb': gb_scores}\n",
    "results = pd.DataFrame(data)\n",
    "results.boxplot();"
   ]
  }
 ],
 "metadata": {
  "accelerator": "GPU",
  "colab": {
   "gpuType": "T4",
   "provenance": [],
   "toc_visible": true
  },
  "kernelspec": {
   "display_name": "Python 3 (ipykernel)",
   "language": "python",
   "name": "python3"
  },
  "language_info": {
   "codemirror_mode": {
    "name": "ipython",
    "version": 3
   },
   "file_extension": ".py",
   "mimetype": "text/x-python",
   "name": "python",
   "nbconvert_exporter": "python",
   "pygments_lexer": "ipython3",
   "version": "3.11.5"
  }
 },
 "nbformat": 4,
 "nbformat_minor": 4
}
