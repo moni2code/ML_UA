{
 "cells": [
  {
   "cell_type": "markdown",
   "id": "66bfbc2c-1571-47da-905d-c9070e2ee6ba",
   "metadata": {},
   "source": [
    "# Homework 1\n",
    "\n",
    "- Instructions: \n",
    "    - Homework is optional but very much recommended\n",
    "    "
   ]
  },
  {
   "cell_type": "markdown",
   "id": "521175ec-8237-4199-aca3-c7ae41b18bc6",
   "metadata": {},
   "source": [
    "- 1.1. We created Lat_long_combined as a combined column, but didn't do anything with it. Investigate whether this combined feature is better for prediction than the two independent features and whether adding it to the current features provides better performance. Can you find any other ways of combining latitude and longitude into a single feature?\n",
    "\n",
    "- 1.2. Plot the scatterplots for the other features than Distance and write a few sentences about your observations and interpretation of the results regarding the informativeness of the individual features for predicting the price and how well a straight line can fit the data for each feature.\n",
    "\n",
    "- 1.3. Describe your conclusions about the correlations between the columns (features) in the data (see df.corr()) in a few sentences. Obviously the correlations between the output (Price) and the other features are the most important. Which features seem most informative? But also look at pairwise correlations between all features and try to make sense of them.\n",
    "\n",
    "- 1.4. Check the difference between Pearson, Kendall and Spearman correlation. Which one would be the best to choose for this data and why? https://pandas.pydata.org/docs/reference/api/pandas.DataFrame.corr.html\n",
    "\n",
    "- 1.5. Compare our plot of the coefficients of the trained model at the end of the notebook (this is the importance assigned by the model to each of the input features) with the correlations we computed during data inspection. Are they similar? Where do they differ? Do you have an explanation?"
   ]
  }
 ],
 "metadata": {
  "kernelspec": {
   "display_name": "Python 3 (ipykernel)",
   "language": "python",
   "name": "python3"
  },
  "language_info": {
   "codemirror_mode": {
    "name": "ipython",
    "version": 3
   },
   "file_extension": ".py",
   "mimetype": "text/x-python",
   "name": "python",
   "nbconvert_exporter": "python",
   "pygments_lexer": "ipython3",
   "version": "3.11.5"
  }
 },
 "nbformat": 4,
 "nbformat_minor": 5
}
