{
  "nbformat": 4,
  "nbformat_minor": 0,
  "metadata": {
    "colab": {
      "provenance": [],
      "include_colab_link": true
    },
    "kernelspec": {
      "name": "python3",
      "display_name": "Python 3"
    },
    "language_info": {
      "name": "python"
    }
  },
  "cells": [
    {
      "cell_type": "markdown",
      "metadata": {
        "id": "view-in-github",
        "colab_type": "text"
      },
      "source": [
        "<a href=\"https://colab.research.google.com/github/moni2code/ML_UA/blob/main/Session_1_Make_your_own_ELIZA.ipynb\" target=\"_parent\"><img src=\"https://colab.research.google.com/assets/colab-badge.svg\" alt=\"Open In Colab\"/></a>"
      ]
    },
    {
      "cell_type": "markdown",
      "source": [
        "# Hello, I am Eliza!"
      ],
      "metadata": {
        "id": "pqYK2cvcx4Ad"
      }
    },
    {
      "cell_type": "markdown",
      "source": [
        "[ELIZA](https://web.njit.edu/~ronkowit/eliza.html) is a classic example of a rule-based chatbot that uses pattern matching with regular expressions to simulate conversation. Below is a simple Python implementation of a basic ELIZA-like chatbot. This code uses regular expressions to match user input and generate responses."
      ],
      "metadata": {
        "id": "2e0DksNOxvwk"
      }
    },
    {
      "cell_type": "code",
      "source": [
        "import re\n",
        "import random\n",
        "\n",
        "def eliza_response(user_input):\n",
        "    \"\"\"Generate ELIZA-like response based on user input.\"\"\"\n",
        "    responses = [\n",
        "        (r'I need (.*)', [\"Why do you need {0}?\", \"Would it really help you to get {0}?\", \"Are you sure you need {0}?\"]),\n",
        "        (r'(.*)', [\"Please tell me more.\", \"I'm here to listen. Can you elaborate?\", \"What else would you like to discuss?\"])\n",
        "    ]\n",
        "\n",
        "    # Iterate through the patterns and responses\n",
        "    for pattern, response_options in responses:\n",
        "        matched = re.match(pattern, user_input, re.IGNORECASE)\n",
        "        if matched:\n",
        "            response = random.choice(response_options)\n",
        "            matched = matched.group(1)\n",
        "            return response.format(re.sub(r'[^\\w\\s]+', '', matched))"
      ],
      "metadata": {
        "id": "CLBtaXye4E8s"
      },
      "execution_count": null,
      "outputs": []
    },
    {
      "cell_type": "code",
      "source": [
        "# Interactive conversation loop\n",
        "print(\"ELIZA: Hello, I am Eliza. I'll be your therapist today. Type 'exit' to end the conversation.\")\n",
        "print(\"How are you feeling today?\")\n",
        "while True:\n",
        "    user_input = input(\"You: \")\n",
        "    if user_input.lower() == 'exit':\n",
        "        print(\"ELIZA: Goodbye! Have a great day.\")\n",
        "        break\n",
        "    response = eliza_response(user_input)\n",
        "    print(\"ELIZA:\", response)"
      ],
      "metadata": {
        "colab": {
          "base_uri": "https://localhost:8080/"
        },
        "id": "LuwKsR2jyeyK",
        "outputId": "4678b08f-30b9-4544-9429-985994fc8215"
      },
      "execution_count": null,
      "outputs": [
        {
          "output_type": "stream",
          "name": "stdout",
          "text": [
            "ELIZA: Hello, I am Eliza. I'll be your therapist today. Type 'exit' to end the conversation.\n",
            "How are you feeling today?\n",
            "You: I am bored.\n",
            "ELIZA: What else would you like to discuss?\n",
            "You: I need some distraction.\n",
            "ELIZA: Why do you need some distraction?\n",
            "You: exit\n",
            "ELIZA: Goodbye! Have a great day.\n"
          ]
        }
      ]
    }
  ]
}