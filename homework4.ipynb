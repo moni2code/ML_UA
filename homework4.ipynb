{
 "cells": [
  {
   "cell_type": "markdown",
   "id": "1ced7a79-0432-4a44-8dc6-881f0d2c9d77",
   "metadata": {},
   "source": [
    "### Homework 4"
   ]
  },
  {
   "cell_type": "markdown",
   "id": "07fa7eef-b116-4b3e-b23a-d6d7190ff560",
   "metadata": {},
   "source": [
    "#### Instructions:\n",
    "\n",
    "Use the Titanic dataset to experiment with the different evaluation methods we have looked at:\n",
    "\n",
    "- PrecisionRecallDisplay\n",
    "- RocCurveDisplay\n",
    "- Learning_curve\n",
    "- Validation_curve (for at least 3 parameters)\n",
    "\n",
    "For each, read the documentation, compute the graphs and give your analysis / explanation\n",
    "\n",
    "- Do a qualitative error analysis (look at the false positives and negatives and come up with patterns / explanations)\n",
    "\n"
   ]
  }
 ],
 "metadata": {
  "kernelspec": {
   "display_name": "Python 3 (ipykernel)",
   "language": "python",
   "name": "python3"
  },
  "language_info": {
   "codemirror_mode": {
    "name": "ipython",
    "version": 3
   },
   "file_extension": ".py",
   "mimetype": "text/x-python",
   "name": "python",
   "nbconvert_exporter": "python",
   "pygments_lexer": "ipython3",
   "version": "3.11.5"
  }
 },
 "nbformat": 4,
 "nbformat_minor": 5
}
