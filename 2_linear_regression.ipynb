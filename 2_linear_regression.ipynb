{
 "cells": [
  {
   "cell_type": "markdown",
   "id": "91f8b59d-dcef-4628-9042-e446337bc00c",
   "metadata": {
    "tags": []
   },
   "source": [
    "# Supervised Learning\n",
    "## Linear Regression (univariate)\n",
    "\n",
    "[walter.daelemans@uantwerpen.be](mailto:walter.daelemans@uantwerpen.be)\n"
   ]
  },
  {
   "cell_type": "code",
   "execution_count": 2,
   "id": "b8ffc338-0eb1-44a5-b4d6-7faf381e630d",
   "metadata": {},
   "outputs": [
    {
     "name": "stdout",
     "output_type": "stream",
     "text": [
      "1.2.2\n"
     ]
    }
   ],
   "source": [
    "import pandas as pd\n",
    "import numpy as np\n",
    "import matplotlib.pyplot as plt\n",
    "%matplotlib inline\n",
    "import sklearn \n",
    "print(sklearn.__version__)"
   ]
  },
  {
   "cell_type": "markdown",
   "id": "90cbca23-7c4d-4517-bce6-4db41a2c532f",
   "metadata": {},
   "source": [
    "A Machine Learning experiment implies a number of steps:\n",
    "\n",
    "1. Collect the data (or download it), annotate, pre-process, inspect, visualize, ...\n",
    "2. Divide into train and test\n",
    "3. Train (fit) the model on the train data\n",
    "4. Use the model to predict the output of the unseen (by the model) test data and evaluate the performance of the model on the test data by comparing the output of the model with the 'true' output (gold standard)"
   ]
  },
  {
   "cell_type": "markdown",
   "id": "67418bd4-ec76-4507-b784-aab69c5b2494",
   "metadata": {
    "tags": []
   },
   "source": [
    "### 1. Data collection and inspection\n",
    "\n",
    "We load the real_estate dataset (origin = Kaggle): pandas has read methods for csv, excel etc. <br>\n",
    "https://www.kaggle.com/quantbruce/real-estate-price-prediction?select=Real+estate.csv#\n",
    "\n",
    "Refer to https://pandas.pydata.org/docs/user_guide/io.html#io for other types of Pandas readers and writers.\n",
    "\n",
    "You can find some more information about the dataset here: https://archive.ics.uci.edu/ml/datasets/Real+estate+valuation+data+set\n",
    "\n",
    "The inputs:\n",
    "- X1=the transaction date (for example, 2013.250=2013 March, 2013.500=2013 June, etc.)\n",
    "- X2=the house age (unit: year)\n",
    "- X3=the distance to the nearest MRT station, MRT = Taipei Mass Rapid Transit (unit: meter)\n",
    "- X4=the number of convenience stores in the living circle on foot (integer)\n",
    "- X5=the geographic coordinate, latitude (unit: degree)\n",
    "- X6=the geographic coordinate, longitude (unit: degree)\n",
    "\n",
    "The output:\n",
    "- Y= house price of unit area (10000 New Taiwan Dollar/Ping, where Ping is a local unit, 1 Ping = 3.3 meter squared)\n",
    "\n"
   ]
  },
  {
   "cell_type": "code",
   "execution_count": 5,
   "id": "11e9193a-0239-476a-8fb4-f273a730f22b",
   "metadata": {},
   "outputs": [],
   "source": [
    "# The variable name df is not very informative, but it will do for this toy example\n",
    "df = pd.read_csv(\"data/real_estate.csv\")"
   ]
  },
  {
   "cell_type": "code",
   "execution_count": 6,
   "id": "f1541af9-c136-42eb-ba7e-462005f15c9b",
   "metadata": {
    "tags": []
   },
   "outputs": [
    {
     "data": {
      "text/html": [
       "<div>\n",
       "<style scoped>\n",
       "    .dataframe tbody tr th:only-of-type {\n",
       "        vertical-align: middle;\n",
       "    }\n",
       "\n",
       "    .dataframe tbody tr th {\n",
       "        vertical-align: top;\n",
       "    }\n",
       "\n",
       "    .dataframe thead th {\n",
       "        text-align: right;\n",
       "    }\n",
       "</style>\n",
       "<table border=\"1\" class=\"dataframe\">\n",
       "  <thead>\n",
       "    <tr style=\"text-align: right;\">\n",
       "      <th></th>\n",
       "      <th>No</th>\n",
       "      <th>X1 transaction date</th>\n",
       "      <th>X2 house age</th>\n",
       "      <th>X3 distance to the nearest MRT station</th>\n",
       "      <th>X4 number of convenience stores</th>\n",
       "      <th>X5 latitude</th>\n",
       "      <th>X6 longitude</th>\n",
       "      <th>Y house price of unit area</th>\n",
       "    </tr>\n",
       "  </thead>\n",
       "  <tbody>\n",
       "    <tr>\n",
       "      <th>0</th>\n",
       "      <td>1</td>\n",
       "      <td>2012.917</td>\n",
       "      <td>32.0</td>\n",
       "      <td>84.87882</td>\n",
       "      <td>10</td>\n",
       "      <td>24.98298</td>\n",
       "      <td>121.54024</td>\n",
       "      <td>37.9</td>\n",
       "    </tr>\n",
       "    <tr>\n",
       "      <th>1</th>\n",
       "      <td>2</td>\n",
       "      <td>2012.917</td>\n",
       "      <td>19.5</td>\n",
       "      <td>306.59470</td>\n",
       "      <td>9</td>\n",
       "      <td>24.98034</td>\n",
       "      <td>121.53951</td>\n",
       "      <td>42.2</td>\n",
       "    </tr>\n",
       "    <tr>\n",
       "      <th>2</th>\n",
       "      <td>3</td>\n",
       "      <td>2013.583</td>\n",
       "      <td>13.3</td>\n",
       "      <td>561.98450</td>\n",
       "      <td>5</td>\n",
       "      <td>24.98746</td>\n",
       "      <td>121.54391</td>\n",
       "      <td>47.3</td>\n",
       "    </tr>\n",
       "    <tr>\n",
       "      <th>3</th>\n",
       "      <td>4</td>\n",
       "      <td>2013.500</td>\n",
       "      <td>13.3</td>\n",
       "      <td>561.98450</td>\n",
       "      <td>5</td>\n",
       "      <td>24.98746</td>\n",
       "      <td>121.54391</td>\n",
       "      <td>54.8</td>\n",
       "    </tr>\n",
       "    <tr>\n",
       "      <th>4</th>\n",
       "      <td>5</td>\n",
       "      <td>2012.833</td>\n",
       "      <td>5.0</td>\n",
       "      <td>390.56840</td>\n",
       "      <td>5</td>\n",
       "      <td>24.97937</td>\n",
       "      <td>121.54245</td>\n",
       "      <td>43.1</td>\n",
       "    </tr>\n",
       "  </tbody>\n",
       "</table>\n",
       "</div>"
      ],
      "text/plain": [
       "   No  X1 transaction date  X2 house age  \\\n",
       "0   1             2012.917          32.0   \n",
       "1   2             2012.917          19.5   \n",
       "2   3             2013.583          13.3   \n",
       "3   4             2013.500          13.3   \n",
       "4   5             2012.833           5.0   \n",
       "\n",
       "   X3 distance to the nearest MRT station  X4 number of convenience stores  \\\n",
       "0                                84.87882                               10   \n",
       "1                               306.59470                                9   \n",
       "2                               561.98450                                5   \n",
       "3                               561.98450                                5   \n",
       "4                               390.56840                                5   \n",
       "\n",
       "   X5 latitude  X6 longitude  Y house price of unit area  \n",
       "0     24.98298     121.54024                        37.9  \n",
       "1     24.98034     121.53951                        42.2  \n",
       "2     24.98746     121.54391                        47.3  \n",
       "3     24.98746     121.54391                        54.8  \n",
       "4     24.97937     121.54245                        43.1  "
      ]
     },
     "execution_count": 6,
     "metadata": {},
     "output_type": "execute_result"
    }
   ],
   "source": [
    "# Check what is in the dataset\n",
    "# First samples (last = .tail)\n",
    "# Instead of the default 5 we can get more or less\n",
    "\n",
    "df.head()"
   ]
  },
  {
   "cell_type": "code",
   "execution_count": 7,
   "id": "4ec95d13-59af-4780-9868-2ee16e8bc07a",
   "metadata": {},
   "outputs": [],
   "source": [
    "# Let's use some more shorthand feature names\n",
    "\n",
    "df.columns = ['No', 'Date', 'Age', 'Distance', 'Stores', 'Lat', 'Long', 'Price']"
   ]
  },
  {
   "cell_type": "code",
   "execution_count": 8,
   "id": "0c43bfd1-36f3-46ec-892b-f2dd85bac964",
   "metadata": {},
   "outputs": [
    {
     "data": {
      "text/html": [
       "<div>\n",
       "<style scoped>\n",
       "    .dataframe tbody tr th:only-of-type {\n",
       "        vertical-align: middle;\n",
       "    }\n",
       "\n",
       "    .dataframe tbody tr th {\n",
       "        vertical-align: top;\n",
       "    }\n",
       "\n",
       "    .dataframe thead th {\n",
       "        text-align: right;\n",
       "    }\n",
       "</style>\n",
       "<table border=\"1\" class=\"dataframe\">\n",
       "  <thead>\n",
       "    <tr style=\"text-align: right;\">\n",
       "      <th></th>\n",
       "      <th>No</th>\n",
       "      <th>Date</th>\n",
       "      <th>Age</th>\n",
       "      <th>Distance</th>\n",
       "      <th>Stores</th>\n",
       "      <th>Lat</th>\n",
       "      <th>Long</th>\n",
       "      <th>Price</th>\n",
       "    </tr>\n",
       "  </thead>\n",
       "  <tbody>\n",
       "    <tr>\n",
       "      <th>0</th>\n",
       "      <td>1</td>\n",
       "      <td>2012.917</td>\n",
       "      <td>32.0</td>\n",
       "      <td>84.87882</td>\n",
       "      <td>10</td>\n",
       "      <td>24.98298</td>\n",
       "      <td>121.54024</td>\n",
       "      <td>37.9</td>\n",
       "    </tr>\n",
       "    <tr>\n",
       "      <th>1</th>\n",
       "      <td>2</td>\n",
       "      <td>2012.917</td>\n",
       "      <td>19.5</td>\n",
       "      <td>306.59470</td>\n",
       "      <td>9</td>\n",
       "      <td>24.98034</td>\n",
       "      <td>121.53951</td>\n",
       "      <td>42.2</td>\n",
       "    </tr>\n",
       "    <tr>\n",
       "      <th>2</th>\n",
       "      <td>3</td>\n",
       "      <td>2013.583</td>\n",
       "      <td>13.3</td>\n",
       "      <td>561.98450</td>\n",
       "      <td>5</td>\n",
       "      <td>24.98746</td>\n",
       "      <td>121.54391</td>\n",
       "      <td>47.3</td>\n",
       "    </tr>\n",
       "    <tr>\n",
       "      <th>3</th>\n",
       "      <td>4</td>\n",
       "      <td>2013.500</td>\n",
       "      <td>13.3</td>\n",
       "      <td>561.98450</td>\n",
       "      <td>5</td>\n",
       "      <td>24.98746</td>\n",
       "      <td>121.54391</td>\n",
       "      <td>54.8</td>\n",
       "    </tr>\n",
       "    <tr>\n",
       "      <th>4</th>\n",
       "      <td>5</td>\n",
       "      <td>2012.833</td>\n",
       "      <td>5.0</td>\n",
       "      <td>390.56840</td>\n",
       "      <td>5</td>\n",
       "      <td>24.97937</td>\n",
       "      <td>121.54245</td>\n",
       "      <td>43.1</td>\n",
       "    </tr>\n",
       "  </tbody>\n",
       "</table>\n",
       "</div>"
      ],
      "text/plain": [
       "   No      Date   Age   Distance  Stores       Lat       Long  Price\n",
       "0   1  2012.917  32.0   84.87882      10  24.98298  121.54024   37.9\n",
       "1   2  2012.917  19.5  306.59470       9  24.98034  121.53951   42.2\n",
       "2   3  2013.583  13.3  561.98450       5  24.98746  121.54391   47.3\n",
       "3   4  2013.500  13.3  561.98450       5  24.98746  121.54391   54.8\n",
       "4   5  2012.833   5.0  390.56840       5  24.97937  121.54245   43.1"
      ]
     },
     "execution_count": 8,
     "metadata": {},
     "output_type": "execute_result"
    }
   ],
   "source": [
    "df.head()"
   ]
  },
  {
   "cell_type": "code",
   "execution_count": 9,
   "id": "f614d30f-fd6a-4d4d-b26e-8949248862dc",
   "metadata": {},
   "outputs": [
    {
     "data": {
      "text/html": [
       "<div>\n",
       "<style scoped>\n",
       "    .dataframe tbody tr th:only-of-type {\n",
       "        vertical-align: middle;\n",
       "    }\n",
       "\n",
       "    .dataframe tbody tr th {\n",
       "        vertical-align: top;\n",
       "    }\n",
       "\n",
       "    .dataframe thead th {\n",
       "        text-align: right;\n",
       "    }\n",
       "</style>\n",
       "<table border=\"1\" class=\"dataframe\">\n",
       "  <thead>\n",
       "    <tr style=\"text-align: right;\">\n",
       "      <th></th>\n",
       "      <th>No</th>\n",
       "      <th>Date</th>\n",
       "      <th>Age</th>\n",
       "      <th>Distance</th>\n",
       "      <th>Stores</th>\n",
       "      <th>Lat</th>\n",
       "      <th>Long</th>\n",
       "      <th>Price</th>\n",
       "    </tr>\n",
       "  </thead>\n",
       "  <tbody>\n",
       "    <tr>\n",
       "      <th>count</th>\n",
       "      <td>414.000000</td>\n",
       "      <td>414.000000</td>\n",
       "      <td>414.000000</td>\n",
       "      <td>414.000000</td>\n",
       "      <td>414.000000</td>\n",
       "      <td>414.000000</td>\n",
       "      <td>414.000000</td>\n",
       "      <td>414.000000</td>\n",
       "    </tr>\n",
       "    <tr>\n",
       "      <th>mean</th>\n",
       "      <td>207.500000</td>\n",
       "      <td>2013.148971</td>\n",
       "      <td>17.712560</td>\n",
       "      <td>1083.885689</td>\n",
       "      <td>4.094203</td>\n",
       "      <td>24.969030</td>\n",
       "      <td>121.533361</td>\n",
       "      <td>37.980193</td>\n",
       "    </tr>\n",
       "    <tr>\n",
       "      <th>std</th>\n",
       "      <td>119.655756</td>\n",
       "      <td>0.281967</td>\n",
       "      <td>11.392485</td>\n",
       "      <td>1262.109595</td>\n",
       "      <td>2.945562</td>\n",
       "      <td>0.012410</td>\n",
       "      <td>0.015347</td>\n",
       "      <td>13.606488</td>\n",
       "    </tr>\n",
       "    <tr>\n",
       "      <th>min</th>\n",
       "      <td>1.000000</td>\n",
       "      <td>2012.667000</td>\n",
       "      <td>0.000000</td>\n",
       "      <td>23.382840</td>\n",
       "      <td>0.000000</td>\n",
       "      <td>24.932070</td>\n",
       "      <td>121.473530</td>\n",
       "      <td>7.600000</td>\n",
       "    </tr>\n",
       "    <tr>\n",
       "      <th>25%</th>\n",
       "      <td>104.250000</td>\n",
       "      <td>2012.917000</td>\n",
       "      <td>9.025000</td>\n",
       "      <td>289.324800</td>\n",
       "      <td>1.000000</td>\n",
       "      <td>24.963000</td>\n",
       "      <td>121.528085</td>\n",
       "      <td>27.700000</td>\n",
       "    </tr>\n",
       "    <tr>\n",
       "      <th>50%</th>\n",
       "      <td>207.500000</td>\n",
       "      <td>2013.167000</td>\n",
       "      <td>16.100000</td>\n",
       "      <td>492.231300</td>\n",
       "      <td>4.000000</td>\n",
       "      <td>24.971100</td>\n",
       "      <td>121.538630</td>\n",
       "      <td>38.450000</td>\n",
       "    </tr>\n",
       "    <tr>\n",
       "      <th>75%</th>\n",
       "      <td>310.750000</td>\n",
       "      <td>2013.417000</td>\n",
       "      <td>28.150000</td>\n",
       "      <td>1454.279000</td>\n",
       "      <td>6.000000</td>\n",
       "      <td>24.977455</td>\n",
       "      <td>121.543305</td>\n",
       "      <td>46.600000</td>\n",
       "    </tr>\n",
       "    <tr>\n",
       "      <th>max</th>\n",
       "      <td>414.000000</td>\n",
       "      <td>2013.583000</td>\n",
       "      <td>43.800000</td>\n",
       "      <td>6488.021000</td>\n",
       "      <td>10.000000</td>\n",
       "      <td>25.014590</td>\n",
       "      <td>121.566270</td>\n",
       "      <td>117.500000</td>\n",
       "    </tr>\n",
       "  </tbody>\n",
       "</table>\n",
       "</div>"
      ],
      "text/plain": [
       "               No         Date         Age     Distance      Stores  \\\n",
       "count  414.000000   414.000000  414.000000   414.000000  414.000000   \n",
       "mean   207.500000  2013.148971   17.712560  1083.885689    4.094203   \n",
       "std    119.655756     0.281967   11.392485  1262.109595    2.945562   \n",
       "min      1.000000  2012.667000    0.000000    23.382840    0.000000   \n",
       "25%    104.250000  2012.917000    9.025000   289.324800    1.000000   \n",
       "50%    207.500000  2013.167000   16.100000   492.231300    4.000000   \n",
       "75%    310.750000  2013.417000   28.150000  1454.279000    6.000000   \n",
       "max    414.000000  2013.583000   43.800000  6488.021000   10.000000   \n",
       "\n",
       "              Lat        Long       Price  \n",
       "count  414.000000  414.000000  414.000000  \n",
       "mean    24.969030  121.533361   37.980193  \n",
       "std      0.012410    0.015347   13.606488  \n",
       "min     24.932070  121.473530    7.600000  \n",
       "25%     24.963000  121.528085   27.700000  \n",
       "50%     24.971100  121.538630   38.450000  \n",
       "75%     24.977455  121.543305   46.600000  \n",
       "max     25.014590  121.566270  117.500000  "
      ]
     },
     "execution_count": 9,
     "metadata": {},
     "output_type": "execute_result"
    }
   ],
   "source": [
    "# provide for each feature the descriptive statistical properties\n",
    "# of numeric features\n",
    "df.describe()"
   ]
  },
  {
   "cell_type": "code",
   "execution_count": 10,
   "id": "0dbc6bfb-4c7d-4882-ad4d-b98a2f1f5edb",
   "metadata": {
    "tags": []
   },
   "outputs": [
    {
     "name": "stdout",
     "output_type": "stream",
     "text": [
      "count    414.000000\n",
      "mean      37.980193\n",
      "std       13.606488\n",
      "min        7.600000\n",
      "25%       27.700000\n",
      "50%       38.450000\n",
      "75%       46.600000\n",
      "max      117.500000\n",
      "Name: Price, dtype: float64\n",
      "<class 'pandas.core.series.Series'>\n"
     ]
    }
   ],
   "source": [
    "# .describe produces a new Pandas dataframe or series\n",
    "d = df.describe()\n",
    "print(d['Price'])\n",
    "print(type(d['Price']))"
   ]
  },
  {
   "cell_type": "markdown",
   "id": "3369c675-85b2-4002-b47d-67b8cc5d1b7b",
   "metadata": {
    "tags": []
   },
   "source": [
    "### Reminder: box plots\n",
    "\n",
    "Descriptive statistics using a box plot: \n",
    "- Median (50th percentile)\n",
    "- Q1 (25th percentile)\n",
    "- Q3 (75th percentile)\n",
    "- Distance between Q1 and Q3 (interquartile range)\n",
    "- Minimum (Q1 - 1.5 IQR) (bottom whisker)\n",
    "- Maximum (Q3 + 1.5 IQR) (top whisker)\n",
    "- Outliers"
   ]
  },
  {
   "cell_type": "code",
   "execution_count": 12,
   "id": "9479fb52-89c2-4336-8be9-7684bb863d8c",
   "metadata": {},
   "outputs": [
    {
     "data": {
      "text/plain": [
       "<Axes: >"
      ]
     },
     "execution_count": 12,
     "metadata": {},
     "output_type": "execute_result"
    },
    {
     "data": {
      "image/png": "[encoded data removed]",
      "text/plain": [
       "<Figure size 640x480 with 1 Axes>"
      ]
     },
     "metadata": {},
     "output_type": "display_data"
    }
   ],
   "source": [
    "df['Distance'].plot(kind='box')"
   ]
  },
  {
   "cell_type": "code",
   "execution_count": 13,
   "id": "b6c6cb8e-8027-4278-ac5b-8eb4968f205a",
   "metadata": {
    "tags": []
   },
   "outputs": [
    {
     "name": "stdout",
     "output_type": "stream",
     "text": [
      "<class 'pandas.core.frame.DataFrame'>\n",
      "RangeIndex: 414 entries, 0 to 413\n",
      "Data columns (total 8 columns):\n",
      " #   Column    Non-Null Count  Dtype  \n",
      "---  ------    --------------  -----  \n",
      " 0   No        414 non-null    int64  \n",
      " 1   Date      414 non-null    float64\n",
      " 2   Age       414 non-null    float64\n",
      " 3   Distance  414 non-null    float64\n",
      " 4   Stores    414 non-null    int64  \n",
      " 5   Lat       414 non-null    float64\n",
      " 6   Long      414 non-null    float64\n",
      " 7   Price     414 non-null    float64\n",
      "dtypes: float64(6), int64(2)\n",
      "memory usage: 26.0 KB\n"
     ]
    }
   ],
   "source": [
    "# More information about a dataframe\n",
    "df.info()"
   ]
  },
  {
   "cell_type": "code",
   "execution_count": 14,
   "id": "e4163c69-ade5-4aea-b00b-948e75d42ded",
   "metadata": {},
   "outputs": [
    {
     "data": {
      "text/plain": [
       "No          0\n",
       "Date        0\n",
       "Age         0\n",
       "Distance    0\n",
       "Stores      0\n",
       "Lat         0\n",
       "Long        0\n",
       "Price       0\n",
       "dtype: int64"
      ]
     },
     "execution_count": 14,
     "metadata": {},
     "output_type": "execute_result"
    }
   ],
   "source": [
    "# Are there any missing values?\n",
    "df.isnull().sum()"
   ]
  },
  {
   "cell_type": "code",
   "execution_count": 15,
   "id": "f436d7bf-9685-47bd-80c0-2f546929ec84",
   "metadata": {},
   "outputs": [],
   "source": [
    "interesting_columns = ['Date', 'Age', 'Distance', 'Stores', 'Lat', 'Long', 'Price']"
   ]
  },
  {
   "cell_type": "code",
   "execution_count": 16,
   "id": "9f29d02a-f298-488d-b257-1446495e9295",
   "metadata": {},
   "outputs": [
    {
     "data": {
      "text/html": [
       "<div>\n",
       "<style scoped>\n",
       "    .dataframe tbody tr th:only-of-type {\n",
       "        vertical-align: middle;\n",
       "    }\n",
       "\n",
       "    .dataframe tbody tr th {\n",
       "        vertical-align: top;\n",
       "    }\n",
       "\n",
       "    .dataframe thead th {\n",
       "        text-align: right;\n",
       "    }\n",
       "</style>\n",
       "<table border=\"1\" class=\"dataframe\">\n",
       "  <thead>\n",
       "    <tr style=\"text-align: right;\">\n",
       "      <th></th>\n",
       "      <th>Date</th>\n",
       "      <th>Age</th>\n",
       "      <th>Distance</th>\n",
       "      <th>Stores</th>\n",
       "      <th>Lat</th>\n",
       "      <th>Long</th>\n",
       "      <th>Price</th>\n",
       "    </tr>\n",
       "  </thead>\n",
       "  <tbody>\n",
       "    <tr>\n",
       "      <th>Date</th>\n",
       "      <td>1.000000</td>\n",
       "      <td>0.017549</td>\n",
       "      <td>0.060880</td>\n",
       "      <td>0.009635</td>\n",
       "      <td>0.035058</td>\n",
       "      <td>-0.041082</td>\n",
       "      <td>0.087491</td>\n",
       "    </tr>\n",
       "    <tr>\n",
       "      <th>Age</th>\n",
       "      <td>0.017549</td>\n",
       "      <td>1.000000</td>\n",
       "      <td>0.025622</td>\n",
       "      <td>0.049593</td>\n",
       "      <td>0.054420</td>\n",
       "      <td>-0.048520</td>\n",
       "      <td>-0.210567</td>\n",
       "    </tr>\n",
       "    <tr>\n",
       "      <th>Distance</th>\n",
       "      <td>0.060880</td>\n",
       "      <td>0.025622</td>\n",
       "      <td>1.000000</td>\n",
       "      <td>-0.602519</td>\n",
       "      <td>-0.591067</td>\n",
       "      <td>-0.806317</td>\n",
       "      <td>-0.673613</td>\n",
       "    </tr>\n",
       "    <tr>\n",
       "      <th>Stores</th>\n",
       "      <td>0.009635</td>\n",
       "      <td>0.049593</td>\n",
       "      <td>-0.602519</td>\n",
       "      <td>1.000000</td>\n",
       "      <td>0.444143</td>\n",
       "      <td>0.449099</td>\n",
       "      <td>0.571005</td>\n",
       "    </tr>\n",
       "    <tr>\n",
       "      <th>Lat</th>\n",
       "      <td>0.035058</td>\n",
       "      <td>0.054420</td>\n",
       "      <td>-0.591067</td>\n",
       "      <td>0.444143</td>\n",
       "      <td>1.000000</td>\n",
       "      <td>0.412924</td>\n",
       "      <td>0.546307</td>\n",
       "    </tr>\n",
       "    <tr>\n",
       "      <th>Long</th>\n",
       "      <td>-0.041082</td>\n",
       "      <td>-0.048520</td>\n",
       "      <td>-0.806317</td>\n",
       "      <td>0.449099</td>\n",
       "      <td>0.412924</td>\n",
       "      <td>1.000000</td>\n",
       "      <td>0.523287</td>\n",
       "    </tr>\n",
       "    <tr>\n",
       "      <th>Price</th>\n",
       "      <td>0.087491</td>\n",
       "      <td>-0.210567</td>\n",
       "      <td>-0.673613</td>\n",
       "      <td>0.571005</td>\n",
       "      <td>0.546307</td>\n",
       "      <td>0.523287</td>\n",
       "      <td>1.000000</td>\n",
       "    </tr>\n",
       "  </tbody>\n",
       "</table>\n",
       "</div>"
      ],
      "text/plain": [
       "              Date       Age  Distance    Stores       Lat      Long     Price\n",
       "Date      1.000000  0.017549  0.060880  0.009635  0.035058 -0.041082  0.087491\n",
       "Age       0.017549  1.000000  0.025622  0.049593  0.054420 -0.048520 -0.210567\n",
       "Distance  0.060880  0.025622  1.000000 -0.602519 -0.591067 -0.806317 -0.673613\n",
       "Stores    0.009635  0.049593 -0.602519  1.000000  0.444143  0.449099  0.571005\n",
       "Lat       0.035058  0.054420 -0.591067  0.444143  1.000000  0.412924  0.546307\n",
       "Long     -0.041082 -0.048520 -0.806317  0.449099  0.412924  1.000000  0.523287\n",
       "Price     0.087491 -0.210567 -0.673613  0.571005  0.546307  0.523287  1.000000"
      ]
     },
     "execution_count": 16,
     "metadata": {},
     "output_type": "execute_result"
    }
   ],
   "source": [
    "# We can look at correlations between features to look for highly informative features and redundancy\n",
    "df[interesting_columns].corr()"
   ]
  },
  {
   "cell_type": "code",
   "execution_count": 17,
   "id": "2bf15023-d39d-4ac8-be1b-61d2e84829e3",
   "metadata": {
    "tags": []
   },
   "outputs": [
    {
     "data": {
      "text/plain": [
       "Date        0.087491\n",
       "Age        -0.210567\n",
       "Distance   -0.673613\n",
       "Stores      0.571005\n",
       "Lat         0.546307\n",
       "Long        0.523287\n",
       "Price       1.000000\n",
       "Name: Price, dtype: float64"
      ]
     },
     "execution_count": 17,
     "metadata": {},
     "output_type": "execute_result"
    }
   ],
   "source": [
    "# Correlations with the output (Price) are most important to investigate\n",
    "df[interesting_columns].corr()['Price']"
   ]
  },
  {
   "cell_type": "markdown",
   "id": "670ead5a-dd35-43d6-be11-703938dfebea",
   "metadata": {},
   "source": [
    "#### Visualize data"
   ]
  },
  {
   "cell_type": "code",
   "execution_count": 19,
   "id": "9c1a82bb-dd52-439b-bc72-be6cb38f1522",
   "metadata": {},
   "outputs": [
    {
     "data": {
      "image/png": "[encoded data removed]",
      "text/plain": [
       "<Figure size 1500x1000 with 9 Axes>"
      ]
     },
     "metadata": {},
     "output_type": "display_data"
    }
   ],
   "source": [
    "# By looking at histograms, we can get a sense of the distribution of our data (normal or not, uni- or multi-modal, ...)\n",
    "\n",
    "pd.plotting.hist_frame(df[interesting_columns], figsize=(15,10), bins=30);"
   ]
  },
  {
   "cell_type": "code",
   "execution_count": 20,
   "id": "6aa1677e-bcc3-4212-9752-0448532d1922",
   "metadata": {
    "tags": []
   },
   "outputs": [],
   "source": [
    "# for homework\n",
    "#pd.plotting.scatter_matrix(df[interesting_columns], figsize=(15,10));"
   ]
  },
  {
   "cell_type": "code",
   "execution_count": 21,
   "id": "43c7019b-ef04-4f57-ad70-38150b7d3c0f",
   "metadata": {},
   "outputs": [
    {
     "data": {
      "text/plain": [
       "<Axes: xlabel='Age', ylabel='Price'>"
      ]
     },
     "execution_count": 21,
     "metadata": {},
     "output_type": "execute_result"
    },
    {
     "data": {
      "image/png": "[encoded data removed]",
      "text/plain": [
       "<Figure size 640x480 with 1 Axes>"
      ]
     },
     "metadata": {},
     "output_type": "display_data"
    }
   ],
   "source": [
    "# By looking at scatter plots, we can inspect the distribution of values of a feature over the price output value.\n",
    "# Linear regression will find the trendline for this data and the trendline will be the model.\n",
    "\n",
    "df.plot(kind='scatter', x='Age', y='Price')"
   ]
  },
  {
   "cell_type": "code",
   "execution_count": 22,
   "id": "f460747f-6286-489a-a6ab-05ebcf9888b1",
   "metadata": {
    "tags": []
   },
   "outputs": [
    {
     "data": {
      "text/html": [
       "<div>\n",
       "<style scoped>\n",
       "    .dataframe tbody tr th:only-of-type {\n",
       "        vertical-align: middle;\n",
       "    }\n",
       "\n",
       "    .dataframe tbody tr th {\n",
       "        vertical-align: top;\n",
       "    }\n",
       "\n",
       "    .dataframe thead th {\n",
       "        text-align: right;\n",
       "    }\n",
       "</style>\n",
       "<table border=\"1\" class=\"dataframe\">\n",
       "  <thead>\n",
       "    <tr style=\"text-align: right;\">\n",
       "      <th></th>\n",
       "      <th>No</th>\n",
       "      <th>Date</th>\n",
       "      <th>Age</th>\n",
       "      <th>Distance</th>\n",
       "      <th>Stores</th>\n",
       "      <th>Lat</th>\n",
       "      <th>Long</th>\n",
       "      <th>Price</th>\n",
       "    </tr>\n",
       "  </thead>\n",
       "  <tbody>\n",
       "    <tr>\n",
       "      <th>0</th>\n",
       "      <td>1</td>\n",
       "      <td>2012.917</td>\n",
       "      <td>32.0</td>\n",
       "      <td>84.87882</td>\n",
       "      <td>10</td>\n",
       "      <td>24.98298</td>\n",
       "      <td>121.54024</td>\n",
       "      <td>37.9</td>\n",
       "    </tr>\n",
       "    <tr>\n",
       "      <th>1</th>\n",
       "      <td>2</td>\n",
       "      <td>2012.917</td>\n",
       "      <td>19.5</td>\n",
       "      <td>306.59470</td>\n",
       "      <td>9</td>\n",
       "      <td>24.98034</td>\n",
       "      <td>121.53951</td>\n",
       "      <td>42.2</td>\n",
       "    </tr>\n",
       "    <tr>\n",
       "      <th>2</th>\n",
       "      <td>3</td>\n",
       "      <td>2013.583</td>\n",
       "      <td>13.3</td>\n",
       "      <td>561.98450</td>\n",
       "      <td>5</td>\n",
       "      <td>24.98746</td>\n",
       "      <td>121.54391</td>\n",
       "      <td>47.3</td>\n",
       "    </tr>\n",
       "    <tr>\n",
       "      <th>3</th>\n",
       "      <td>4</td>\n",
       "      <td>2013.500</td>\n",
       "      <td>13.3</td>\n",
       "      <td>561.98450</td>\n",
       "      <td>5</td>\n",
       "      <td>24.98746</td>\n",
       "      <td>121.54391</td>\n",
       "      <td>54.8</td>\n",
       "    </tr>\n",
       "    <tr>\n",
       "      <th>4</th>\n",
       "      <td>5</td>\n",
       "      <td>2012.833</td>\n",
       "      <td>5.0</td>\n",
       "      <td>390.56840</td>\n",
       "      <td>5</td>\n",
       "      <td>24.97937</td>\n",
       "      <td>121.54245</td>\n",
       "      <td>43.1</td>\n",
       "    </tr>\n",
       "  </tbody>\n",
       "</table>\n",
       "</div>"
      ],
      "text/plain": [
       "   No      Date   Age   Distance  Stores       Lat       Long  Price\n",
       "0   1  2012.917  32.0   84.87882      10  24.98298  121.54024   37.9\n",
       "1   2  2012.917  19.5  306.59470       9  24.98034  121.53951   42.2\n",
       "2   3  2013.583  13.3  561.98450       5  24.98746  121.54391   47.3\n",
       "3   4  2013.500  13.3  561.98450       5  24.98746  121.54391   54.8\n",
       "4   5  2012.833   5.0  390.56840       5  24.97937  121.54245   43.1"
      ]
     },
     "execution_count": 22,
     "metadata": {},
     "output_type": "execute_result"
    }
   ],
   "source": [
    "# For homework\n",
    "\n",
    "# The latitude and longitude are interesting, they correlate with Price but also with each other\n",
    "\n",
    "# We can string them together\n",
    "# df['Lat_long_combined'] = df['Lat'].astype('str') + '_' + df['Long'].astype('str')\n",
    "# problem: could not convert string to float\n",
    "\n",
    "# We can make them complex numbers to combine them:\n",
    "#df['Lat_long_combined'] = df['Long'] + df['Lat'] * 1j\n",
    "# problem: complex numbers not supported in this context\n",
    "\n",
    "df.head()\n"
   ]
  },
  {
   "cell_type": "markdown",
   "id": "bb49b834-f9c1-47c1-a82a-c46de19325ac",
   "metadata": {},
   "source": [
    "### 2. Define input and output\n",
    "\n"
   ]
  },
  {
   "cell_type": "markdown",
   "id": "3eb7563c-4630-4290-8be4-fe69350070f5",
   "metadata": {},
   "source": [
    "We will investigate the relation between Age and Price. Can we predict Price on the basis of Age of the house.\n",
    "\n",
    "- We divide the relevant data into a train and test partition\n",
    "- We will train the model on train, and test on the unseen test data (for which we do know the correct output, i.e., the gold standard)\n",
    "- We compare the predicted output to the gold standard output"
   ]
  },
  {
   "cell_type": "code",
   "execution_count": 25,
   "id": "af948706-bea0-4a01-ad99-081308253e4d",
   "metadata": {},
   "outputs": [],
   "source": [
    "from sklearn.model_selection import train_test_split"
   ]
  },
  {
   "cell_type": "markdown",
   "id": "4cecda12-31f3-4f37-b2e3-99d81b446b13",
   "metadata": {},
   "source": [
    "https://scikit-learn.org/stable/modules/generated/sklearn.model_selection.train_test_split.html"
   ]
  },
  {
   "cell_type": "markdown",
   "id": "2c707491-536e-49e0-a358-d8de2d3b33b4",
   "metadata": {},
   "source": [
    "#### create datasets"
   ]
  },
  {
   "cell_type": "code",
   "execution_count": 28,
   "id": "f60fc4ce-294e-4ca9-99b0-f70e457412c4",
   "metadata": {
    "tags": []
   },
   "outputs": [],
   "source": [
    "# Define the input values\n",
    "X = df[['Age']]"
   ]
  },
  {
   "cell_type": "code",
   "execution_count": 29,
   "id": "364162c2-362b-4ef1-85f6-da74371e7f2a",
   "metadata": {},
   "outputs": [
    {
     "data": {
      "text/plain": [
       "414"
      ]
     },
     "execution_count": 29,
     "metadata": {},
     "output_type": "execute_result"
    }
   ],
   "source": [
    "len(X)"
   ]
  },
  {
   "cell_type": "code",
   "execution_count": 30,
   "id": "39470ebe-ce01-4022-b5ff-f208658267cf",
   "metadata": {},
   "outputs": [],
   "source": [
    "# Define the output values\n",
    "y = df['Price']"
   ]
  },
  {
   "cell_type": "code",
   "execution_count": 31,
   "id": "56f65542-310d-45b0-8172-0b5c0600e282",
   "metadata": {},
   "outputs": [
    {
     "data": {
      "text/plain": [
       "414"
      ]
     },
     "execution_count": 31,
     "metadata": {},
     "output_type": "execute_result"
    }
   ],
   "source": [
    "len(y)"
   ]
  },
  {
   "cell_type": "code",
   "execution_count": 32,
   "id": "00ad0c52-2b36-4098-baa5-566733ba52c7",
   "metadata": {
    "tags": []
   },
   "outputs": [
    {
     "data": {
      "text/plain": [
       "0      37.9\n",
       "1      42.2\n",
       "2      47.3\n",
       "3      54.8\n",
       "4      43.1\n",
       "       ... \n",
       "409    15.4\n",
       "410    50.0\n",
       "411    40.6\n",
       "412    52.5\n",
       "413    63.9\n",
       "Name: Price, Length: 414, dtype: float64"
      ]
     },
     "execution_count": 32,
     "metadata": {},
     "output_type": "execute_result"
    }
   ],
   "source": [
    "y"
   ]
  },
  {
   "cell_type": "code",
   "execution_count": 33,
   "id": "9d0e53f7-61a2-4187-847b-cb98569ffc61",
   "metadata": {
    "tags": []
   },
   "outputs": [
    {
     "data": {
      "text/html": [
       "<div>\n",
       "<style scoped>\n",
       "    .dataframe tbody tr th:only-of-type {\n",
       "        vertical-align: middle;\n",
       "    }\n",
       "\n",
       "    .dataframe tbody tr th {\n",
       "        vertical-align: top;\n",
       "    }\n",
       "\n",
       "    .dataframe thead th {\n",
       "        text-align: right;\n",
       "    }\n",
       "</style>\n",
       "<table border=\"1\" class=\"dataframe\">\n",
       "  <thead>\n",
       "    <tr style=\"text-align: right;\">\n",
       "      <th></th>\n",
       "      <th>Age</th>\n",
       "    </tr>\n",
       "  </thead>\n",
       "  <tbody>\n",
       "    <tr>\n",
       "      <th>0</th>\n",
       "      <td>32.0</td>\n",
       "    </tr>\n",
       "    <tr>\n",
       "      <th>1</th>\n",
       "      <td>19.5</td>\n",
       "    </tr>\n",
       "    <tr>\n",
       "      <th>2</th>\n",
       "      <td>13.3</td>\n",
       "    </tr>\n",
       "    <tr>\n",
       "      <th>3</th>\n",
       "      <td>13.3</td>\n",
       "    </tr>\n",
       "    <tr>\n",
       "      <th>4</th>\n",
       "      <td>5.0</td>\n",
       "    </tr>\n",
       "    <tr>\n",
       "      <th>...</th>\n",
       "      <td>...</td>\n",
       "    </tr>\n",
       "    <tr>\n",
       "      <th>409</th>\n",
       "      <td>13.7</td>\n",
       "    </tr>\n",
       "    <tr>\n",
       "      <th>410</th>\n",
       "      <td>5.6</td>\n",
       "    </tr>\n",
       "    <tr>\n",
       "      <th>411</th>\n",
       "      <td>18.8</td>\n",
       "    </tr>\n",
       "    <tr>\n",
       "      <th>412</th>\n",
       "      <td>8.1</td>\n",
       "    </tr>\n",
       "    <tr>\n",
       "      <th>413</th>\n",
       "      <td>6.5</td>\n",
       "    </tr>\n",
       "  </tbody>\n",
       "</table>\n",
       "<p>414 rows × 1 columns</p>\n",
       "</div>"
      ],
      "text/plain": [
       "      Age\n",
       "0    32.0\n",
       "1    19.5\n",
       "2    13.3\n",
       "3    13.3\n",
       "4     5.0\n",
       "..    ...\n",
       "409  13.7\n",
       "410   5.6\n",
       "411  18.8\n",
       "412   8.1\n",
       "413   6.5\n",
       "\n",
       "[414 rows x 1 columns]"
      ]
     },
     "execution_count": 33,
     "metadata": {},
     "output_type": "execute_result"
    }
   ],
   "source": [
    "X"
   ]
  },
  {
   "cell_type": "code",
   "execution_count": 34,
   "id": "3ed42ee3-9c08-4b12-aa90-7b91d7b3980e",
   "metadata": {},
   "outputs": [],
   "source": [
    "X_train, X_test, y_train, y_test = train_test_split(X, y, shuffle=True, random_state=42, test_size=.33)\n",
    "\n",
    "# we use a random_state for replicability of experiments\n",
    "# we randomize (shuffle) the data before dividing\n",
    "# we keep 1/3 for testing and 2/3 for training"
   ]
  },
  {
   "cell_type": "code",
   "execution_count": 35,
   "id": "b7c73940-8de8-4f90-9e6a-1e582b5a3719",
   "metadata": {},
   "outputs": [
    {
     "data": {
      "text/plain": [
       "((277, 1), (277,), (137, 1), (137,))"
      ]
     },
     "execution_count": 35,
     "metadata": {},
     "output_type": "execute_result"
    }
   ],
   "source": [
    "X_train.shape, y_train.shape, X_test.shape, y_test.shape # ALWAYS do this to sanity check the data division"
   ]
  },
  {
   "cell_type": "code",
   "execution_count": 36,
   "id": "8603921e-4f9b-4e01-ba37-102b193e7343",
   "metadata": {},
   "outputs": [
    {
     "data": {
      "text/html": [
       "<div>\n",
       "<style scoped>\n",
       "    .dataframe tbody tr th:only-of-type {\n",
       "        vertical-align: middle;\n",
       "    }\n",
       "\n",
       "    .dataframe tbody tr th {\n",
       "        vertical-align: top;\n",
       "    }\n",
       "\n",
       "    .dataframe thead th {\n",
       "        text-align: right;\n",
       "    }\n",
       "</style>\n",
       "<table border=\"1\" class=\"dataframe\">\n",
       "  <thead>\n",
       "    <tr style=\"text-align: right;\">\n",
       "      <th></th>\n",
       "      <th>Age</th>\n",
       "    </tr>\n",
       "  </thead>\n",
       "  <tbody>\n",
       "    <tr>\n",
       "      <th>396</th>\n",
       "      <td>37.1</td>\n",
       "    </tr>\n",
       "    <tr>\n",
       "      <th>239</th>\n",
       "      <td>18.1</td>\n",
       "    </tr>\n",
       "    <tr>\n",
       "      <th>83</th>\n",
       "      <td>25.3</td>\n",
       "    </tr>\n",
       "    <tr>\n",
       "      <th>168</th>\n",
       "      <td>27.6</td>\n",
       "    </tr>\n",
       "    <tr>\n",
       "      <th>323</th>\n",
       "      <td>28.6</td>\n",
       "    </tr>\n",
       "  </tbody>\n",
       "</table>\n",
       "</div>"
      ],
      "text/plain": [
       "      Age\n",
       "396  37.1\n",
       "239  18.1\n",
       "83   25.3\n",
       "168  27.6\n",
       "323  28.6"
      ]
     },
     "execution_count": 36,
     "metadata": {},
     "output_type": "execute_result"
    }
   ],
   "source": [
    "X_train.head()"
   ]
  },
  {
   "cell_type": "code",
   "execution_count": 37,
   "id": "d33d99bf-4fa0-4143-b915-85885745fa71",
   "metadata": {},
   "outputs": [
    {
     "data": {
      "text/plain": [
       "396    31.9\n",
       "239    29.7\n",
       "83     17.7\n",
       "168    37.4\n",
       "323    42.5\n",
       "Name: Price, dtype: float64"
      ]
     },
     "execution_count": 37,
     "metadata": {},
     "output_type": "execute_result"
    }
   ],
   "source": [
    "y_train.head()"
   ]
  },
  {
   "cell_type": "markdown",
   "id": "81f03ecf-1c11-43e6-b534-1c3fdb045d0f",
   "metadata": {},
   "source": [
    "### 3. Train (fit) the model"
   ]
  },
  {
   "cell_type": "markdown",
   "id": "12108bd9-3b90-420b-94ff-582cd5c42a91",
   "metadata": {},
   "source": [
    "#### Linear Regression\n",
    "\n",
    "- It is regression (output is a number)\n",
    "- Can be univariate or multiple (one or more input features / independent variables; one output class / dependent variable)\n",
    "- The model is a straight line, hence linear, on the data points\n",
    "- A straight line has as definition: \n",
    "    - f(x) = predicted y = $wx + b$\n",
    "    - A line is defined by two values: the intercept (b, where it crosses y-axis), and the coefficient or weight (w) determining the slope and direction of the line\n",
    "    - Or for the case with more than one feature: $w_1x_1 + w_2x_2 +  ...  + w_nx_n + b$\n"
   ]
  },
  {
   "cell_type": "code",
   "execution_count": 40,
   "id": "022f30ad-37be-4f63-aecf-9f36446a9f78",
   "metadata": {},
   "outputs": [],
   "source": [
    "# Import the right submodule\n",
    "from sklearn.linear_model import LinearRegression "
   ]
  },
  {
   "cell_type": "markdown",
   "id": "6ae9156a-5b1f-4943-ac65-fb9455d6453d",
   "metadata": {},
   "source": [
    "More information: https://scikit-learn.org/stable/modules/generated/sklearn.linear_model.LinearRegression.html"
   ]
  },
  {
   "cell_type": "code",
   "execution_count": 42,
   "id": "0a7a302b-6dfe-4e77-9f77-cf4f10457fb5",
   "metadata": {},
   "outputs": [],
   "source": [
    "# Create a linear regression instance with default hyperparameters\n",
    "lr = LinearRegression()"
   ]
  },
  {
   "cell_type": "code",
   "execution_count": 43,
   "id": "ac6721c4-4784-4748-8f37-0b7134fbcd89",
   "metadata": {},
   "outputs": [
    {
     "data": {
      "text/html": [
       "<style>#sk-container-id-1 {color: black;background-color: white;}#sk-container-id-1 pre{padding: 0;}#sk-container-id-1 div.sk-toggleable {background-color: white;}#sk-container-id-1 label.sk-toggleable__label {cursor: pointer;display: block;width: 100%;margin-bottom: 0;padding: 0.3em;box-sizing: border-box;text-align: center;}#sk-container-id-1 label.sk-toggleable__label-arrow:before {content: \"▸\";float: left;margin-right: 0.25em;color: #696969;}#sk-container-id-1 label.sk-toggleable__label-arrow:hover:before {color: black;}#sk-container-id-1 div.sk-estimator:hover label.sk-toggleable__label-arrow:before {color: black;}#sk-container-id-1 div.sk-toggleable__content {max-height: 0;max-width: 0;overflow: hidden;text-align: left;background-color: #f0f8ff;}#sk-container-id-1 div.sk-toggleable__content pre {margin: 0.2em;color: black;border-radius: 0.25em;background-color: #f0f8ff;}#sk-container-id-1 input.sk-toggleable__control:checked~div.sk-toggleable__content {max-height: 200px;max-width: 100%;overflow: auto;}#sk-container-id-1 input.sk-toggleable__control:checked~label.sk-toggleable__label-arrow:before {content: \"▾\";}#sk-container-id-1 div.sk-estimator input.sk-toggleable__control:checked~label.sk-toggleable__label {background-color: #d4ebff;}#sk-container-id-1 div.sk-label input.sk-toggleable__control:checked~label.sk-toggleable__label {background-color: #d4ebff;}#sk-container-id-1 input.sk-hidden--visually {border: 0;clip: rect(1px 1px 1px 1px);clip: rect(1px, 1px, 1px, 1px);height: 1px;margin: -1px;overflow: hidden;padding: 0;position: absolute;width: 1px;}#sk-container-id-1 div.sk-estimator {font-family: monospace;background-color: #f0f8ff;border: 1px dotted black;border-radius: 0.25em;box-sizing: border-box;margin-bottom: 0.5em;}#sk-container-id-1 div.sk-estimator:hover {background-color: #d4ebff;}#sk-container-id-1 div.sk-parallel-item::after {content: \"\";width: 100%;border-bottom: 1px solid gray;flex-grow: 1;}#sk-container-id-1 div.sk-label:hover label.sk-toggleable__label {background-color: #d4ebff;}#sk-container-id-1 div.sk-serial::before {content: \"\";position: absolute;border-left: 1px solid gray;box-sizing: border-box;top: 0;bottom: 0;left: 50%;z-index: 0;}#sk-container-id-1 div.sk-serial {display: flex;flex-direction: column;align-items: center;background-color: white;padding-right: 0.2em;padding-left: 0.2em;position: relative;}#sk-container-id-1 div.sk-item {position: relative;z-index: 1;}#sk-container-id-1 div.sk-parallel {display: flex;align-items: stretch;justify-content: center;background-color: white;position: relative;}#sk-container-id-1 div.sk-item::before, #sk-container-id-1 div.sk-parallel-item::before {content: \"\";position: absolute;border-left: 1px solid gray;box-sizing: border-box;top: 0;bottom: 0;left: 50%;z-index: -1;}#sk-container-id-1 div.sk-parallel-item {display: flex;flex-direction: column;z-index: 1;position: relative;background-color: white;}#sk-container-id-1 div.sk-parallel-item:first-child::after {align-self: flex-end;width: 50%;}#sk-container-id-1 div.sk-parallel-item:last-child::after {align-self: flex-start;width: 50%;}#sk-container-id-1 div.sk-parallel-item:only-child::after {width: 0;}#sk-container-id-1 div.sk-dashed-wrapped {border: 1px dashed gray;margin: 0 0.4em 0.5em 0.4em;box-sizing: border-box;padding-bottom: 0.4em;background-color: white;}#sk-container-id-1 div.sk-label label {font-family: monospace;font-weight: bold;display: inline-block;line-height: 1.2em;}#sk-container-id-1 div.sk-label-container {text-align: center;}#sk-container-id-1 div.sk-container {/* jupyter's `normalize.less` sets `[hidden] { display: none; }` but bootstrap.min.css set `[hidden] { display: none !important; }` so we also need the `!important` here to be able to override the default hidden behavior on the sphinx rendered scikit-learn.org. See: https://github.com/scikit-learn/scikit-learn/issues/21755 */display: inline-block !important;position: relative;}#sk-container-id-1 div.sk-text-repr-fallback {display: none;}</style><div id=\"sk-container-id-1\" class=\"sk-top-container\"><div class=\"sk-text-repr-fallback\"><pre>LinearRegression()</pre><b>In a Jupyter environment, please rerun this cell to show the HTML representation or trust the notebook. <br />On GitHub, the HTML representation is unable to render, please try loading this page with nbviewer.org.</b></div><div class=\"sk-container\" hidden><div class=\"sk-item\"><div class=\"sk-estimator sk-toggleable\"><input class=\"sk-toggleable__control sk-hidden--visually\" id=\"sk-estimator-id-1\" type=\"checkbox\" checked><label for=\"sk-estimator-id-1\" class=\"sk-toggleable__label sk-toggleable__label-arrow\">LinearRegression</label><div class=\"sk-toggleable__content\"><pre>LinearRegression()</pre></div></div></div></div></div>"
      ],
      "text/plain": [
       "LinearRegression()"
      ]
     },
     "execution_count": 43,
     "metadata": {},
     "output_type": "execute_result"
    }
   ],
   "source": [
    "# Train (fit) the model on the data (supervised, so X and y are given)\n",
    "lr.fit(X_train, y_train)"
   ]
  },
  {
   "cell_type": "markdown",
   "id": "52a35bf2-21ed-4d38-bd4e-12377c2d5a36",
   "metadata": {},
   "source": [
    "That's it!\n",
    "\n",
    "Our model is now fit on the training data and has looked for the  coefficient (w) and intercept (b) in the line y = wx + b that best fit the datapoints. We can inspect the solution by looking at lr.coef_ and lr.intercept_ (the underscore at the end means in sklearn that this variable was computed during fitting and is only available after fitting (training) has been done).\n"
   ]
  },
  {
   "cell_type": "code",
   "execution_count": 45,
   "id": "7070d9fb-4e8e-46a2-8aa1-901277f7952d",
   "metadata": {
    "tags": []
   },
   "outputs": [
    {
     "data": {
      "text/plain": [
       "array([-0.2556221])"
      ]
     },
     "execution_count": 45,
     "metadata": {},
     "output_type": "execute_result"
    }
   ],
   "source": [
    "lr.coef_ # the slope and direction"
   ]
  },
  {
   "cell_type": "code",
   "execution_count": 46,
   "id": "c194becd-b98b-4831-bdea-d26cb08d6c0b",
   "metadata": {},
   "outputs": [
    {
     "data": {
      "text/plain": [
       "43.084969375948376"
      ]
     },
     "execution_count": 46,
     "metadata": {},
     "output_type": "execute_result"
    }
   ],
   "source": [
    "lr.intercept_ # the y-value at x-value 0"
   ]
  },
  {
   "cell_type": "code",
   "execution_count": 47,
   "id": "c89a7d13-80cf-4c6f-a5c8-3dfd252aeecd",
   "metadata": {},
   "outputs": [
    {
     "data": {
      "image/png": "[encoded data removed]",
      "text/plain": [
       "<Figure size 640x480 with 1 Axes>"
      ]
     },
     "metadata": {},
     "output_type": "display_data"
    }
   ],
   "source": [
    "# we plot the model (the red line) on the scatterplot of the training data (a subset of the complete dataset!)\n",
    "\n",
    "x = X_train['Age']\n",
    "y = y_train\n",
    "plt.scatter(x, y)\n",
    "coef = lr.coef_[0]\n",
    "intercept = lr.intercept_\n",
    "plt.plot(x, x * coef + lr.intercept_, color='Red');"
   ]
  },
  {
   "cell_type": "markdown",
   "id": "1fbba32e-7b6f-41ca-b145-519e404eb7b9",
   "metadata": {},
   "source": [
    "### 4. Evaluate the model"
   ]
  },
  {
   "cell_type": "code",
   "execution_count": 49,
   "id": "6b858bed-ca73-4622-8e7d-c03c12d42e2d",
   "metadata": {},
   "outputs": [
    {
     "name": "stdout",
     "output_type": "stream",
     "text": [
      "[42.82934728]\n",
      "[4.74165466]\n"
     ]
    },
    {
     "name": "stderr",
     "output_type": "stream",
     "text": [
      "/Users/walter/anaconda3/lib/python3.11/site-packages/sklearn/base.py:439: UserWarning: X does not have valid feature names, but LinearRegression was fitted with feature names\n",
      "  warnings.warn(\n",
      "/Users/walter/anaconda3/lib/python3.11/site-packages/sklearn/base.py:439: UserWarning: X does not have valid feature names, but LinearRegression was fitted with feature names\n",
      "  warnings.warn(\n"
     ]
    }
   ],
   "source": [
    "# We can make predictions for different house ages\n",
    "\n",
    "print(lr.predict([[1]])) # Price of a brand new house\n",
    "print(lr.predict([[150]])) # a 150 year old house is very cheap according to this model"
   ]
  },
  {
   "cell_type": "code",
   "execution_count": 50,
   "id": "f93205be-b266-4024-8bc7-f480ee0aed69",
   "metadata": {},
   "outputs": [
    {
     "data": {
      "text/plain": [
       "0.043441982733742446"
      ]
     },
     "execution_count": 50,
     "metadata": {},
     "output_type": "execute_result"
    }
   ],
   "source": [
    "# the linear regression also estimates its performance on the train data (how well does the model do on the training data?)\n",
    "\n",
    "lr.score(X_train, y)"
   ]
  },
  {
   "cell_type": "markdown",
   "id": "ec8e525a-d35b-4a4b-9b0c-a9784d7aca89",
   "metadata": {},
   "source": [
    "\n",
    "\n",
    "The score ($R^2$) here measures how well the model fits the *training* data.\n",
    "\n",
    "This `coefficient of determination` $R^2$ is defined as\n",
    "        $(1 - \\frac{u}{v})$, where $u$ is the residual\n",
    "        sum of squares `((y_true - y_pred) ** 2).sum()` and $v$\n",
    "        is the total sum of squares `((y_true - y_true.mean()) ** 2).sum()`.\n",
    "        The best possible score is 1.0 (all train items predicted perfectly) and it can be negative (if it does worse than always predicting the mean). A model that always predicts the expected value of $y$, disregarding the input features, would get a $R^2$ score of 0.0.\n",
    "        \n",
    "Explanation in sklearn:\n",
    "\n",
    "https://scikit-learn.org/stable/modules/generated/sklearn.metrics.r2_score.html#sklearn.metrics.r2_score\n",
    "\n",
    "$R^2$ represents the proportion of variance (of y) that has been explained by the independent variable (input) in the model. It provides an indication of goodness of fit and therefore a measure of how well unseen samples *are likely* to be predicted by the model, through the proportion of explained variance.\n",
    "\n",
    "Of course, the interesting value of $R^2$ is the one on unseen (test) data.  \n"
   ]
  },
  {
   "cell_type": "markdown",
   "id": "fc0fb303-0a37-4497-a62d-dcb3b65a98b1",
   "metadata": {},
   "source": [
    "#### Evaluating the model on test data"
   ]
  },
  {
   "cell_type": "code",
   "execution_count": 53,
   "id": "43e2754e-edca-4fd0-907c-8b9700a5c1ef",
   "metadata": {},
   "outputs": [],
   "source": [
    "from sklearn.metrics import mean_squared_error, r2_score"
   ]
  },
  {
   "cell_type": "markdown",
   "id": "766de513-5047-4956-be16-9971c4614a5f",
   "metadata": {},
   "source": [
    "https://scikit-learn.org/stable/modules/model_evaluation.html#mean-squared-error\n",
    "\n",
    "MSE computes the average of the squared differences between predicted value and gold standard value. Lower is better!"
   ]
  },
  {
   "cell_type": "code",
   "execution_count": 55,
   "id": "2c5ced40-d545-4489-86ec-dccd7d26dc45",
   "metadata": {},
   "outputs": [],
   "source": [
    "y_test_pred = lr.predict(X_test)\n",
    "#y_test_pred"
   ]
  },
  {
   "cell_type": "code",
   "execution_count": 56,
   "id": "66249e44-8ab8-488c-b1ca-5ef6e8551957",
   "metadata": {},
   "outputs": [
    {
     "data": {
      "text/plain": [
       "0.025404480183082057"
      ]
     },
     "execution_count": 56,
     "metadata": {},
     "output_type": "execute_result"
    }
   ],
   "source": [
    "r2_score(y_test, y_test_pred)"
   ]
  },
  {
   "cell_type": "code",
   "execution_count": 57,
   "id": "21cabf09-587c-431f-bd8d-1cd7ba23c6f0",
   "metadata": {},
   "outputs": [
    {
     "data": {
      "text/plain": [
       "156.32530415748332"
      ]
     },
     "execution_count": 57,
     "metadata": {},
     "output_type": "execute_result"
    }
   ],
   "source": [
    "mean_squared_error(y_test, y_test_pred)"
   ]
  },
  {
   "cell_type": "markdown",
   "id": "17c82232-ba60-4a9f-912c-11ad39186183",
   "metadata": {},
   "source": [
    "So our conclusion can only be that the Age of a house alone is not a very good predictor of its price: it only explains a small part of the variance of the price and provides a large MSE on unseen data."
   ]
  },
  {
   "cell_type": "code",
   "execution_count": 59,
   "id": "c05524c9-9ac0-4ca6-926a-3849306f647f",
   "metadata": {},
   "outputs": [
    {
     "data": {
      "text/plain": [
       "[<matplotlib.lines.Line2D at 0x1779b6b50>]"
      ]
     },
     "execution_count": 59,
     "metadata": {},
     "output_type": "execute_result"
    },
    {
     "data": {
      "image/png": "[encoded data removed]",
      "text/plain": [
       "<Figure size 640x480 with 1 Axes>"
      ]
     },
     "metadata": {},
     "output_type": "display_data"
    }
   ],
   "source": [
    "# visualisation of the model on the test data\n",
    "\n",
    "x = X_test['Age']\n",
    "y = y_test\n",
    "plt.scatter(x, y)\n",
    "coef = lr.coef_[0]\n",
    "intercept = lr.intercept_\n",
    "plt.plot(x, x * coef + lr.intercept_, color='Red')"
   ]
  },
  {
   "cell_type": "markdown",
   "id": "cdc47cb9-8752-478e-9fea-82b182278ada",
   "metadata": {},
   "source": [
    "## Multiple Linear Regression\n",
    "\n",
    "We can also do multiple linear regression. In that case we learn a linear model of the form $y = a_1x_1 + a_2x_2 + ... + a_mx_m + b$. In the code below we use all features, except the price as predictors."
   ]
  },
  {
   "cell_type": "code",
   "execution_count": 61,
   "id": "7c72625c-6590-41d2-8334-5f0791e9834e",
   "metadata": {},
   "outputs": [
    {
     "name": "stdout",
     "output_type": "stream",
     "text": [
      "(414, 6) (414,)\n"
     ]
    }
   ],
   "source": [
    "X = df[['Date', 'Age', 'Distance', 'Stores', 'Lat', 'Long']]\n",
    "y = df['Price']\n",
    "print(X.shape, y.shape)"
   ]
  },
  {
   "cell_type": "code",
   "execution_count": 62,
   "id": "582cc8a6-f23f-4487-8725-062fe0f6b8df",
   "metadata": {},
   "outputs": [
    {
     "name": "stdout",
     "output_type": "stream",
     "text": [
      "(277, 6) (277,) (137, 6) (137,)\n"
     ]
    }
   ],
   "source": [
    "X = df[['Date', 'Age', 'Distance', 'Stores', 'Lat', 'Long']]\n",
    "y = df['Price']\n",
    "\n",
    "# We split between train and test\n",
    "X_train, X_test, y_train, y_test = train_test_split(X, y, shuffle=True, random_state=42, test_size=.33)\n",
    "print(X_train.shape, y_train.shape, X_test.shape, y_test.shape)"
   ]
  },
  {
   "cell_type": "code",
   "execution_count": 63,
   "id": "4bd10dd4-9652-4af5-be92-1c61ae15ce35",
   "metadata": {},
   "outputs": [
    {
     "name": "stdout",
     "output_type": "stream",
     "text": [
      " coef = [ 5.78388390e+00 -2.41909429e-01 -5.34856166e-03  1.05112941e+00\n",
      "  2.49847549e+02 -6.48114341e+01]\n",
      " intercept = -9961.728738157419\n",
      " score (on train) = 0.578667124234358\n",
      "R2 (on test) = 0.5543290556931294\n",
      "MSE (on test) = 71.48570304941695\n"
     ]
    }
   ],
   "source": [
    "# we create the model and fit it on train\n",
    "lr = LinearRegression()\n",
    "lr.fit(X_train, y_train)\n",
    "\n",
    "print(f' coef = {lr.coef_}\\n intercept = {lr.intercept_}\\n score (on train) = {lr.score(X,y)}')\n",
    "\n",
    "y_test_pred = lr.predict(X_test)\n",
    "print(f'R2 (on test) = {r2_score(y_test, y_test_pred)}\\nMSE (on test) = {mean_squared_error(y_test, y_test_pred)}')"
   ]
  },
  {
   "cell_type": "markdown",
   "id": "c65567bc-9ca4-45d6-9f2f-a8444dac6f1e",
   "metadata": {},
   "source": [
    "#### Interpretation of the model\n",
    "\n",
    "price = 5.8 Date - 0.2 Age - 0.01 Distance + 1.1 Stores + 249.8 Latitude - 64.8 Longitude - 9961.7 \n",
    "\n",
    "\n",
    "The coefficients give the **direction** of the linear relation and the **magnitude** of it. E.g., If Date is higher (i.e., a more recent sell), then the Price will be higher. 1 unit increase of Date will give a 5.8 unit increase in Price, all other features being held constant.\n",
    "\n",
    "Linear Regression is easy to interpret!\n",
    "\n",
    "Unfortunately, the formula does not yet make much sense because the features were not scaled."
   ]
  },
  {
   "cell_type": "markdown",
   "id": "c98915c3-edad-4650-906b-93f46dcd7628",
   "metadata": {},
   "source": [
    "## The importance of scaling (normalization)\n",
    "\n",
    "While scaling or normalization does not affect the MSE or $R^2$ of a linear regression model, it can offer other advantages, especially in terms of interpretability and optimization.\n",
    "Different features have different ranges of values. The StandardScaler transforms the values of each feature to a normalized version (z-score: the value minus the mean divided by the sd: this gives us a distribution of values with mean 0 and sd -1 and 1).\n",
    "\n",
    "Whenever you have different numeric features in a dataset with different max and min values, scale it. It does no harm and can make a large difference for some machine learning and optimization methods."
   ]
  },
  {
   "cell_type": "code",
   "execution_count": 66,
   "id": "32acc462-1382-46a8-a8f4-4838d5666d69",
   "metadata": {},
   "outputs": [],
   "source": [
    "from sklearn.preprocessing import StandardScaler\n",
    "\n",
    "scaler = StandardScaler()"
   ]
  },
  {
   "cell_type": "markdown",
   "id": "5e509c7e-eeca-4e0b-a919-4686cd22d7e4",
   "metadata": {},
   "source": [
    "https://scikit-learn.org/stable/modules/generated/sklearn.preprocessing.StandardScaler.html#sklearn.preprocessing.StandardScaler"
   ]
  },
  {
   "cell_type": "code",
   "execution_count": 68,
   "id": "9dec5fbf-fb70-4c5a-9b21-ea8b01dcc4e1",
   "metadata": {},
   "outputs": [],
   "source": [
    "X = df[['Date', 'Age', 'Distance', 'Stores', 'Lat', 'Long']]\n",
    "y = df['Price']\n",
    "\n",
    "scaler.fit(X) # compute the mean and sd for each feature\n",
    "X_norm = scaler.transform(X) # transform each value of each feature to its scaled value"
   ]
  },
  {
   "cell_type": "code",
   "execution_count": 69,
   "id": "3e62fe61-f7e9-4653-8ee8-e38904cfa624",
   "metadata": {},
   "outputs": [
    {
     "data": {
      "text/plain": [
       "array([[-0.82368321,  1.25562833, -0.79249504,  2.00740743,  1.12542986,\n",
       "         0.44876222],\n",
       "       [-0.82368321,  0.15708622, -0.61661163,  1.66750286,  0.91244418,\n",
       "         0.40113894],\n",
       "       [ 1.54115111, -0.38779067, -0.41401527,  0.30788458,  1.48686011,\n",
       "         0.68818339],\n",
       "       ...,\n",
       "       [ 0.35873395,  0.09556786, -0.54967846,  0.98769372,  0.82289338,\n",
       "         0.42397202],\n",
       "       [-0.52896662, -0.84478419, -0.77668389,  0.30788458, -0.18475479,\n",
       "         0.4768143 ],\n",
       "       [ 1.24643452, -0.98539758, -0.78807071,  1.66750286,  0.42757905,\n",
       "         0.63534112]])"
      ]
     },
     "execution_count": 69,
     "metadata": {},
     "output_type": "execute_result"
    }
   ],
   "source": [
    "X_norm"
   ]
  },
  {
   "cell_type": "code",
   "execution_count": 70,
   "id": "df292310-18b6-459b-9b98-bc58687cee80",
   "metadata": {},
   "outputs": [
    {
     "data": {
      "text/plain": [
       "<Axes: ylabel='Frequency'>"
      ]
     },
     "execution_count": 70,
     "metadata": {},
     "output_type": "execute_result"
    },
    {
     "data": {
      "image/png": "[encoded data removed]",
      "text/plain": [
       "<Figure size 640x480 with 1 Axes>"
      ]
     },
     "metadata": {},
     "output_type": "display_data"
    }
   ],
   "source": [
    "X.plot(kind='hist')"
   ]
  },
  {
   "cell_type": "code",
   "execution_count": 71,
   "id": "2ca13ca6-741b-4110-a2db-e3a2ed755d6e",
   "metadata": {},
   "outputs": [
    {
     "data": {
      "text/plain": [
       "<Axes: ylabel='Frequency'>"
      ]
     },
     "execution_count": 71,
     "metadata": {},
     "output_type": "execute_result"
    },
    {
     "data": {
      "image/png": "[encoded data removed]",
      "text/plain": [
       "<Figure size 640x480 with 1 Axes>"
      ]
     },
     "metadata": {},
     "output_type": "display_data"
    }
   ],
   "source": [
    "pd.DataFrame(X_norm).plot(kind='hist')"
   ]
  },
  {
   "cell_type": "markdown",
   "id": "c66b920f-4a8c-4a34-860e-7ec95f170a35",
   "metadata": {},
   "source": [
    "Let's do the whole pipeline again, but now with scaled features."
   ]
  },
  {
   "cell_type": "code",
   "execution_count": 73,
   "id": "1903435c-e6d5-4cc6-8bee-fe764484c5b4",
   "metadata": {},
   "outputs": [
    {
     "name": "stdout",
     "output_type": "stream",
     "text": [
      "(277, 6) (277,) (137, 6) (137,)\n",
      " coef = [ 1.62596809 -2.75772468 -6.61631703  3.15987728  3.11074082 -0.97060693]\n",
      " intercept = 38.61841155234717\n",
      " score (on train) = -461892.3230071999\n",
      "R2 (on test) = 0.5543290556931679\n",
      "MSE (on test) = 71.48570304941079\n"
     ]
    },
    {
     "name": "stderr",
     "output_type": "stream",
     "text": [
      "/Users/walter/anaconda3/lib/python3.11/site-packages/sklearn/base.py:432: UserWarning: X has feature names, but LinearRegression was fitted without feature names\n",
      "  warnings.warn(\n"
     ]
    }
   ],
   "source": [
    "X = df[['Date', 'Age', 'Distance', 'Stores', 'Lat', 'Long']]\n",
    "y = df['Price']\n",
    "\n",
    "X_train, X_test, y_train, y_test = train_test_split(X, y, shuffle=True, random_state=42, test_size=.33)\n",
    "print(X_train.shape, y_train.shape, X_test.shape, y_test.shape)\n",
    "\n",
    "scaler = StandardScaler()\n",
    "scaler.fit(X_train) # compute the mean and sd for each feature\n",
    "X_train_norm = scaler.transform(X_train) # transform each value of each feature to its scaled value\n",
    "#print(X_train_norm)\n",
    "\n",
    "X_test_norm = scaler.transform(X_test) # use the scaling made during training!\n",
    "\n",
    "lr = LinearRegression()\n",
    "lr.fit(X_train_norm, y_train)\n",
    "\n",
    "print(f' coef = {lr.coef_}\\n intercept = {lr.intercept_}\\n score (on train) = {lr.score(X,y)}')\n",
    "\n",
    "y_test_pred = lr.predict(X_test_norm)\n",
    "print(f'R2 (on test) = {r2_score(y_test, y_test_pred)}\\nMSE (on test) = {mean_squared_error(y_test, y_test_pred)}')"
   ]
  },
  {
   "cell_type": "markdown",
   "id": "7de32e04-1743-4eff-b28e-0f868404cd1a",
   "metadata": {},
   "source": [
    "Our new equation:\n",
    "\n",
    "price = 1.6 Date - 2.8 Age - 6.6 Distance + 3.2 Stores + 3.1 Latitude - 1.0 Longitude + 38.6\n",
    "\n",
    "As can be seen from the results, the performance is the same, but now the equation is better interpretable as all features have the same scale."
   ]
  },
  {
   "cell_type": "code",
   "execution_count": 75,
   "id": "d6f0de0c-cdf5-4ca7-98f9-1bc86c9bd593",
   "metadata": {},
   "outputs": [
    {
     "name": "stdout",
     "output_type": "stream",
     "text": [
      "[1.6259680938387568, 2.757724684414958, 6.6163170254056665, 3.159877275949454, 3.110740819327909, 0.9706069347667481]\n"
     ]
    },
    {
     "data": {
      "image/png": "[encoded data removed]",
      "text/plain": [
       "<Figure size 640x480 with 1 Axes>"
      ]
     },
     "metadata": {},
     "output_type": "display_data"
    }
   ],
   "source": [
    "# Importance of features on price\n",
    "\n",
    "data = lr.coef_\n",
    "data = list(map(abs, data))\n",
    "data_labels = ['Date', 'Age', 'Distance', 'Stores', 'Lat', 'Long']\n",
    "print(data)\n",
    "plt.bar(data_labels, data)\n",
    "plt.show()\n"
   ]
  },
  {
   "cell_type": "markdown",
   "id": "84e3d3d0-58f6-453a-8f4f-a62d6902c75c",
   "metadata": {
    "tags": []
   },
   "source": [
    "#### Interpretation of Multiple Linear Regression models\n",
    "\n",
    "A single feature gives a regression line, two features a regression plane, three or more a regression hyperplane.\n",
    "\n",
    "Here is an example:\n",
    "\n",
    "<img src=\"figures/linear_regression_two_independent_vars.jpg\" alt=\"alt text\" width=\"600\">\n",
    "\n"
   ]
  },
  {
   "cell_type": "markdown",
   "id": "86a6ccae-e3b7-479f-8e9b-37a08ececd40",
   "metadata": {
    "tags": []
   },
   "source": [
    "### Summary Linear Regression\n",
    "\n",
    "- We start with a set of data points (examples, instances, samples, ...), each consisting of an input and an output (so it is *supervised* learning)\n",
    "    - By convention we will use **X** to refer to input and **y** to refer to output\n",
    "    - Each X can be a single feature value or a *vector* (sequence) of features values\n",
    "    - Each y is a single feature value representing the output corresponding to a specific input\n",
    "        - Example 1 (univariate linear regression): X = Age, y = price per unit\n",
    "        - Example 2 (multiple linear regression): X = Age, Distance, Stores, y = price per unit\n",
    "     - We divide the data into train data and test data\n",
    "     \n",
    "- We construct or **train** a **model** by **fitting** the train data\n",
    "    - The ML algorithm constrains the form the model can take\n",
    "        - In linear regression the model is limited to a line in the univariate case and different lines with differen slopes crossing in one intercept (forming a hyperplane) in the multiple case\n",
    "        - Consequently, the model has the form $y = wx + b$ (univariate) or $y = w_1x_1 + w_2x_2 + ... + w_mx_m + b$ given that there are $m$ features in the input\n",
    "        - The $w_i$ and $b$ are the **parameters** of the model, the $x_i$ are the input(s)\n",
    "        - In this case, the $b$ parameter is the intercept and the $w_i$ are the slopes for each line belonging to each of the input features forming the hyperplane\n",
    "        - We can also use $f(X) = y$ (function notation)\n",
    "    - Once the model is trained, we can use it to make **predictions**\n",
    "        - $f(X) = \\hat{y}$ (the hat denotes that this is not an 'attested' y but a predicted y for that X)\n",
    "        - For example: $f(32.0, 84.9, 10) = \\hat{y} = w_1*32 + w_2*84.9 + w_3*10+b$\n",
    "\n",
    "- We can **test** our model on the test data\n",
    "    - To get a quantitative measure of how good the model is, we use an **evaluation metric**\n",
    "    - In linear regression we can use (as one option) the mean squared error (MSE)\n",
    "    - For each test item we are going to compare the predicted y and the real y, square it and sum the squares\n",
    "        - MSE = $\\frac{1}{n} \\sum_{i=1}^{n} \\left(f(X_i) - y_i\\right)^2$ for n test items\n",
    "        - The distances between the data points and the regression line are also called the **residuals**\n"
   ]
  }
 ],
 "metadata": {
  "kernelspec": {
   "display_name": "Python 3 (ipykernel)",
   "language": "python",
   "name": "python3"
  },
  "language_info": {
   "codemirror_mode": {
    "name": "ipython",
    "version": 3
   },
   "file_extension": ".py",
   "mimetype": "text/x-python",
   "name": "python",
   "nbconvert_exporter": "python",
   "pygments_lexer": "ipython3",
   "version": "3.11.5"
  }
 },
 "nbformat": 4,
 "nbformat_minor": 5
}
