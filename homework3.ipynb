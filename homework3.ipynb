{
 "cells": [
  {
   "cell_type": "markdown",
   "id": "2320ec3e-5b7a-4a38-9176-e82a5d01bcac",
   "metadata": {
    "id": "2320ec3e-5b7a-4a38-9176-e82a5d01bcac"
   },
   "source": [
    "### Homework 3"
   ]
  },
  {
   "cell_type": "markdown",
   "id": "1a19d56b-0eb1-4bad-aa50-c0146c8c24df",
   "metadata": {
    "id": "1a19d56b-0eb1-4bad-aa50-c0146c8c24df"
   },
   "source": [
    "#### Instructions:\n",
    "\n",
    "Same as homework 2: apply the logistic regression Machine Learning workflow to adult_small.csv.\n",
    "\n",
    "But now use the column transformer, pipelines and gridsearch to optimize hyperparameters. "
   ]
  }
 ],
 "metadata": {
  "colab": {
   "provenance": []
  },
  "kernelspec": {
   "display_name": "Python 3 (ipykernel)",
   "language": "python",
   "name": "python3"
  },
  "language_info": {
   "codemirror_mode": {
    "name": "ipython",
    "version": 3
   },
   "file_extension": ".py",
   "mimetype": "text/x-python",
   "name": "python",
   "nbconvert_exporter": "python",
   "pygments_lexer": "ipython3",
   "version": "3.11.5"
  }
 },
 "nbformat": 4,
 "nbformat_minor": 5
}
