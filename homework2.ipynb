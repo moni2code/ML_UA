{
 "cells": [
  {
   "cell_type": "markdown",
   "id": "2320ec3e-5b7a-4a38-9176-e82a5d01bcac",
   "metadata": {
    "id": "2320ec3e-5b7a-4a38-9176-e82a5d01bcac"
   },
   "source": [
    "### Homework 2"
   ]
  },
  {
   "cell_type": "markdown",
   "id": "1a19d56b-0eb1-4bad-aa50-c0146c8c24df",
   "metadata": {
    "id": "1a19d56b-0eb1-4bad-aa50-c0146c8c24df"
   },
   "source": [
    "#### Instructions:\n",
    "\n",
    "Apply the logistic regression Machine Learning workflow as we have seen it until now to a simplified version I made of the adult income dataset https://www.kaggle.com/datasets/uciml/adult-census-income/. Name of the file (to be found in the homework directory)is adult_small.csv.\n",
    "\n",
    "Take care of\n",
    "- handling missing values or duplicated rows\n",
    "- making sex, race, and income numeric\n",
    "- scaling"
   ]
  },
  {
   "cell_type": "markdown",
   "id": "c3741123-2fd9-4eac-a905-48d53fe87b7b",
   "metadata": {
    "id": "c3741123-2fd9-4eac-a905-48d53fe87b7b"
   },
   "source": [
    "Name:"
   ]
  },
  {
   "cell_type": "markdown",
   "id": "0cc5f901-537e-444a-8790-247bae8753b4",
   "metadata": {
    "id": "0cc5f901-537e-444a-8790-247bae8753b4"
   },
   "source": [
    "### 1. Load and analyze the data"
   ]
  },
  {
   "cell_type": "markdown",
   "id": "7fda63d1-9f68-44e1-8248-28f08759ff33",
   "metadata": {
    "id": "7fda63d1-9f68-44e1-8248-28f08759ff33"
   },
   "source": [
    "### 2. Set up train and test"
   ]
  },
  {
   "cell_type": "markdown",
   "id": "abb67279-d7f9-43cf-aaef-7ac22b639f39",
   "metadata": {
    "id": "abb67279-d7f9-43cf-aaef-7ac22b639f39"
   },
   "source": [
    "### 3. Model Construction"
   ]
  },
  {
   "cell_type": "markdown",
   "id": "2bd7a715-2625-4817-9060-65c223b688f4",
   "metadata": {
    "id": "2bd7a715-2625-4817-9060-65c223b688f4"
   },
   "source": [
    "### 4. Model Evaluation"
   ]
  },
  {
   "cell_type": "markdown",
   "id": "2589f0f2-dc00-4389-ad43-4434810cce60",
   "metadata": {
    "id": "2589f0f2-dc00-4389-ad43-4434810cce60"
   },
   "source": [
    "Conlusion: add your insights from the experiment briefly"
   ]
  }
 ],
 "metadata": {
  "colab": {
   "provenance": []
  },
  "kernelspec": {
   "display_name": "Python 3 (ipykernel)",
   "language": "python",
   "name": "python3"
  },
  "language_info": {
   "codemirror_mode": {
    "name": "ipython",
    "version": 3
   },
   "file_extension": ".py",
   "mimetype": "text/x-python",
   "name": "python",
   "nbconvert_exporter": "python",
   "pygments_lexer": "ipython3",
   "version": "3.11.5"
  }
 },
 "nbformat": 4,
 "nbformat_minor": 5
}
