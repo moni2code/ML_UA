{
 "cells": [
  {
   "cell_type": "markdown",
   "metadata": {},
   "source": [
    "### Parameters versus hyperparameters\n",
    "\n",
    "<img src=figures/ML_parameters.png>"
   ]
  },
  {
   "cell_type": "markdown",
   "metadata": {
    "tags": []
   },
   "source": [
    "## ML pipeline for Text\n",
    "\n",
    "[walter.daelemans@uantwerpen.be](mailto:walter.daelemans@uantwerpen.be)\n"
   ]
  },
  {
   "cell_type": "code",
   "execution_count": 3,
   "metadata": {
    "tags": []
   },
   "outputs": [
    {
     "name": "stdout",
     "output_type": "stream",
     "text": [
      "pandas: 2.1.4\n",
      "numpy: 1.26.2\n",
      "sklearn: 1.2.2\n",
      "matplotlib: 3.8.0\n",
      "Python: 3.11.5 (main, Sep 11 2023, 08:31:25) [Clang 14.0.6 ]\n",
      "/Users/walter/anaconda3/bin/python\n"
     ]
    }
   ],
   "source": [
    "import pandas as pd\n",
    "import numpy as np\n",
    "import matplotlib\n",
    "import matplotlib.pyplot as plt\n",
    "import sklearn\n",
    "\n",
    "print(f'pandas: {pd.__version__}')\n",
    "print(f'numpy: {np.__version__}')\n",
    "print(f'sklearn: {sklearn.__version__}')\n",
    "print(f'matplotlib: {matplotlib.__version__}')\n",
    "import sys\n",
    "print(f'Python: {sys.version}')\n",
    "!which python    "
   ]
  },
  {
   "cell_type": "code",
   "execution_count": 4,
   "metadata": {},
   "outputs": [],
   "source": [
    "# preprocessing and pipeline\n",
    "from sklearn.compose import make_column_transformer\n",
    "from sklearn.feature_extraction.text import CountVectorizer, TfidfVectorizer\n",
    "from sklearn.preprocessing import MaxAbsScaler\n",
    "from sklearn.pipeline import make_pipeline, Pipeline\n",
    "\n",
    "# model selection\n",
    "from sklearn.model_selection import train_test_split, GridSearchCV, RandomizedSearchCV\n",
    "\n",
    "# ML algorithms\n",
    "from sklearn.linear_model import SGDClassifier\n",
    "\n",
    "# evaluation\n",
    "from sklearn.metrics import classification_report, accuracy_score, ConfusionMatrixDisplay"
   ]
  },
  {
   "cell_type": "markdown",
   "metadata": {},
   "source": [
    "### Working with Text data\n",
    "\n",
    "Language is *unstructured data* which means that we have to transform it somehow into numbers before we can do Machine Learning. This is called *vectorization*."
   ]
  },
  {
   "cell_type": "markdown",
   "metadata": {},
   "source": [
    "#### CountVectorizer"
   ]
  },
  {
   "cell_type": "markdown",
   "metadata": {},
   "source": [
    "https://scikit-learn.org/1.5/modules/generated/sklearn.feature_extraction.text.CountVectorizer.html"
   ]
  },
  {
   "cell_type": "markdown",
   "metadata": {},
   "source": [
    "The CountVectorizer creates a document representation with values that are based on term frequency (how many times does a token occur in a document), it creates a count matrix (rows are documents, columns are token frequencies of words in that document).\n",
    "\n",
    "The reasoning here is that tokens that are frequent in a document are more important than those that are less frequent of absent."
   ]
  },
  {
   "cell_type": "markdown",
   "metadata": {},
   "source": [
    "#### TfidfVectorizer"
   ]
  },
  {
   "cell_type": "markdown",
   "metadata": {},
   "source": [
    "TfidfVectorizer creates a document representation with values that are based on term frequency (how many times does a token occur in a document) multiplied by the inverse of document frequency (in how many documents does the token occur).\n",
    "\n",
    "The reasoning behind this is to give lower weight to tokens that occur in many documents and that are therefore less informative than yokens that occur in only few documents. \n",
    "\n",
    "In sklearn, the formula that is used to compute the tf-idf for a token t of a document d in a document set is `tf(t, d) * idf(t)`, and the idf is computed as `log(n / df(t)) + 1`, where n is the total number of documents in the document set and `df(t)` is the document frequency of t: the number of documents in the document set that contain the term t. Adding 1 to the idf makes sure that terms with zero idf, i.e., terms that occur in all documents in a training set, will not be entirely ignored. "
   ]
  },
  {
   "cell_type": "markdown",
   "metadata": {},
   "source": [
    "https://scikit-learn.org/1.5/modules/generated/sklearn.feature_extraction.text.TfidfVectorizer.html"
   ]
  },
  {
   "cell_type": "code",
   "execution_count": 12,
   "metadata": {},
   "outputs": [],
   "source": [
    "vect1 = CountVectorizer()\n",
    "vect2 = TfidfVectorizer()"
   ]
  },
  {
   "cell_type": "code",
   "execution_count": 13,
   "metadata": {
    "tags": []
   },
   "outputs": [
    {
     "data": {
      "text/plain": [
       "{'analyzer': 'word',\n",
       " 'binary': False,\n",
       " 'decode_error': 'strict',\n",
       " 'dtype': numpy.int64,\n",
       " 'encoding': 'utf-8',\n",
       " 'input': 'content',\n",
       " 'lowercase': True,\n",
       " 'max_df': 1.0,\n",
       " 'max_features': None,\n",
       " 'min_df': 1,\n",
       " 'ngram_range': (1, 1),\n",
       " 'preprocessor': None,\n",
       " 'stop_words': None,\n",
       " 'strip_accents': None,\n",
       " 'token_pattern': '(?u)\\\\b\\\\w\\\\w+\\\\b',\n",
       " 'tokenizer': None,\n",
       " 'vocabulary': None}"
      ]
     },
     "execution_count": 13,
     "metadata": {},
     "output_type": "execute_result"
    }
   ],
   "source": [
    "vect1.get_params()"
   ]
  },
  {
   "cell_type": "code",
   "execution_count": 14,
   "metadata": {},
   "outputs": [
    {
     "data": {
      "text/plain": [
       "{'analyzer': 'word',\n",
       " 'binary': False,\n",
       " 'decode_error': 'strict',\n",
       " 'dtype': numpy.float64,\n",
       " 'encoding': 'utf-8',\n",
       " 'input': 'content',\n",
       " 'lowercase': True,\n",
       " 'max_df': 1.0,\n",
       " 'max_features': None,\n",
       " 'min_df': 1,\n",
       " 'ngram_range': (1, 1),\n",
       " 'norm': 'l2',\n",
       " 'preprocessor': None,\n",
       " 'smooth_idf': True,\n",
       " 'stop_words': None,\n",
       " 'strip_accents': None,\n",
       " 'sublinear_tf': False,\n",
       " 'token_pattern': '(?u)\\\\b\\\\w\\\\w+\\\\b',\n",
       " 'tokenizer': None,\n",
       " 'use_idf': True,\n",
       " 'vocabulary': None}"
      ]
     },
     "execution_count": 14,
     "metadata": {},
     "output_type": "execute_result"
    }
   ],
   "source": [
    "vect2.get_params()"
   ]
  },
  {
   "cell_type": "markdown",
   "metadata": {},
   "source": [
    "#### Some important parameters of the vectorizers\n",
    "\n",
    "- 'analyzer': 'word'\n",
    "    - This can also be 'char' or 'char_wb' for characters or characters within word boundaries\n",
    "- 'ngram_range': (1, 1)\n",
    "    - Lower and upper bound of n-grams. The default means unigrams only (from 1 to 1), (2, 2) would mean only bigrams, (1, 2) would be unigrams and bigrams, etc.\n",
    "- 'binary': False\n",
    "    - In case of True, it creates binary vectors\n",
    "- 'lowercase': True\n",
    "    - Default lowercases all words\n",
    "- 'max_df': 1.0\n",
    "- 'min_df': 1\n",
    "    - These are the document frequency restrictions you can impose: max_df = 1.0 means a feature (e.g. a token or token bigram) can occur in all (100%) of texts; min_df = 1 means a feature should occur in at least 1 text.\n",
    "- 'max_features': None\n",
    "    - Use this to limit the number of features \n",
    "- 'stop_words': None\n",
    "    - Use this to add a stopword list\n",
    "- 'token_pattern': '(?u)\\\\b\\\\w\\\\w+\\\\b'\n",
    "    - This is the Python regular expression used to define a token: a string of word characters of at least size 2 surrounded by boundary characters\n",
    "- 'tokenizer': None\n",
    "    - You can add your own tokenizer to replace the token_pattern\n"
   ]
  },
  {
   "cell_type": "code",
   "execution_count": 16,
   "metadata": {},
   "outputs": [],
   "source": [
    "toy_data = ['Trump won the elections.', 'I, Harris, lost the elections!', \n",
    "            'The elections should be reliable elections.', 'Elections can be won, can be reliable!']"
   ]
  },
  {
   "cell_type": "code",
   "execution_count": 17,
   "metadata": {},
   "outputs": [
    {
     "data": {
      "text/html": [
       "<style>#sk-container-id-1 {color: black;background-color: white;}#sk-container-id-1 pre{padding: 0;}#sk-container-id-1 div.sk-toggleable {background-color: white;}#sk-container-id-1 label.sk-toggleable__label {cursor: pointer;display: block;width: 100%;margin-bottom: 0;padding: 0.3em;box-sizing: border-box;text-align: center;}#sk-container-id-1 label.sk-toggleable__label-arrow:before {content: \"▸\";float: left;margin-right: 0.25em;color: #696969;}#sk-container-id-1 label.sk-toggleable__label-arrow:hover:before {color: black;}#sk-container-id-1 div.sk-estimator:hover label.sk-toggleable__label-arrow:before {color: black;}#sk-container-id-1 div.sk-toggleable__content {max-height: 0;max-width: 0;overflow: hidden;text-align: left;background-color: #f0f8ff;}#sk-container-id-1 div.sk-toggleable__content pre {margin: 0.2em;color: black;border-radius: 0.25em;background-color: #f0f8ff;}#sk-container-id-1 input.sk-toggleable__control:checked~div.sk-toggleable__content {max-height: 200px;max-width: 100%;overflow: auto;}#sk-container-id-1 input.sk-toggleable__control:checked~label.sk-toggleable__label-arrow:before {content: \"▾\";}#sk-container-id-1 div.sk-estimator input.sk-toggleable__control:checked~label.sk-toggleable__label {background-color: #d4ebff;}#sk-container-id-1 div.sk-label input.sk-toggleable__control:checked~label.sk-toggleable__label {background-color: #d4ebff;}#sk-container-id-1 input.sk-hidden--visually {border: 0;clip: rect(1px 1px 1px 1px);clip: rect(1px, 1px, 1px, 1px);height: 1px;margin: -1px;overflow: hidden;padding: 0;position: absolute;width: 1px;}#sk-container-id-1 div.sk-estimator {font-family: monospace;background-color: #f0f8ff;border: 1px dotted black;border-radius: 0.25em;box-sizing: border-box;margin-bottom: 0.5em;}#sk-container-id-1 div.sk-estimator:hover {background-color: #d4ebff;}#sk-container-id-1 div.sk-parallel-item::after {content: \"\";width: 100%;border-bottom: 1px solid gray;flex-grow: 1;}#sk-container-id-1 div.sk-label:hover label.sk-toggleable__label {background-color: #d4ebff;}#sk-container-id-1 div.sk-serial::before {content: \"\";position: absolute;border-left: 1px solid gray;box-sizing: border-box;top: 0;bottom: 0;left: 50%;z-index: 0;}#sk-container-id-1 div.sk-serial {display: flex;flex-direction: column;align-items: center;background-color: white;padding-right: 0.2em;padding-left: 0.2em;position: relative;}#sk-container-id-1 div.sk-item {position: relative;z-index: 1;}#sk-container-id-1 div.sk-parallel {display: flex;align-items: stretch;justify-content: center;background-color: white;position: relative;}#sk-container-id-1 div.sk-item::before, #sk-container-id-1 div.sk-parallel-item::before {content: \"\";position: absolute;border-left: 1px solid gray;box-sizing: border-box;top: 0;bottom: 0;left: 50%;z-index: -1;}#sk-container-id-1 div.sk-parallel-item {display: flex;flex-direction: column;z-index: 1;position: relative;background-color: white;}#sk-container-id-1 div.sk-parallel-item:first-child::after {align-self: flex-end;width: 50%;}#sk-container-id-1 div.sk-parallel-item:last-child::after {align-self: flex-start;width: 50%;}#sk-container-id-1 div.sk-parallel-item:only-child::after {width: 0;}#sk-container-id-1 div.sk-dashed-wrapped {border: 1px dashed gray;margin: 0 0.4em 0.5em 0.4em;box-sizing: border-box;padding-bottom: 0.4em;background-color: white;}#sk-container-id-1 div.sk-label label {font-family: monospace;font-weight: bold;display: inline-block;line-height: 1.2em;}#sk-container-id-1 div.sk-label-container {text-align: center;}#sk-container-id-1 div.sk-container {/* jupyter's `normalize.less` sets `[hidden] { display: none; }` but bootstrap.min.css set `[hidden] { display: none !important; }` so we also need the `!important` here to be able to override the default hidden behavior on the sphinx rendered scikit-learn.org. See: https://github.com/scikit-learn/scikit-learn/issues/21755 */display: inline-block !important;position: relative;}#sk-container-id-1 div.sk-text-repr-fallback {display: none;}</style><div id=\"sk-container-id-1\" class=\"sk-top-container\"><div class=\"sk-text-repr-fallback\"><pre>CountVectorizer()</pre><b>In a Jupyter environment, please rerun this cell to show the HTML representation or trust the notebook. <br />On GitHub, the HTML representation is unable to render, please try loading this page with nbviewer.org.</b></div><div class=\"sk-container\" hidden><div class=\"sk-item\"><div class=\"sk-estimator sk-toggleable\"><input class=\"sk-toggleable__control sk-hidden--visually\" id=\"sk-estimator-id-1\" type=\"checkbox\" checked><label for=\"sk-estimator-id-1\" class=\"sk-toggleable__label sk-toggleable__label-arrow\">CountVectorizer</label><div class=\"sk-toggleable__content\"><pre>CountVectorizer()</pre></div></div></div></div></div>"
      ],
      "text/plain": [
       "CountVectorizer()"
      ]
     },
     "execution_count": 17,
     "metadata": {},
     "output_type": "execute_result"
    }
   ],
   "source": [
    "# The .fit method allows you to learn the vocabulary of the training data \n",
    "vect1.fit(toy_data)"
   ]
  },
  {
   "cell_type": "code",
   "execution_count": 18,
   "metadata": {},
   "outputs": [
    {
     "data": {
      "text/plain": [
       "array(['be', 'can', 'elections', 'harris', 'lost', 'reliable', 'should',\n",
       "       'the', 'trump', 'won'], dtype=object)"
      ]
     },
     "execution_count": 18,
     "metadata": {},
     "output_type": "execute_result"
    }
   ],
   "source": [
    "vect1.get_feature_names_out()\n",
    "# This is the 'dictionary' of the vectorizer"
   ]
  },
  {
   "cell_type": "code",
   "execution_count": 19,
   "metadata": {},
   "outputs": [],
   "source": [
    "# The .transform method converts texts into a numeric count representation, one word per column\n",
    "toy_data_num = vect1.transform(toy_data)"
   ]
  },
  {
   "cell_type": "code",
   "execution_count": 20,
   "metadata": {},
   "outputs": [
    {
     "data": {
      "text/plain": [
       "<4x10 sparse matrix of type '<class 'numpy.int64'>'\n",
       "\twith 18 stored elements in Compressed Sparse Row format>"
      ]
     },
     "execution_count": 20,
     "metadata": {},
     "output_type": "execute_result"
    }
   ],
   "source": [
    "toy_data_num"
   ]
  },
  {
   "cell_type": "markdown",
   "metadata": {},
   "source": [
    "Sparse matrices contain a lot of zeroes. To make the representation more efficient, sklearn uses sparse vectors (see numpy), where for only the non-zero entries in a vector the position + the value at that position is represented). The other values are assumed to be 0."
   ]
  },
  {
   "cell_type": "code",
   "execution_count": 22,
   "metadata": {},
   "outputs": [
    {
     "name": "stdout",
     "output_type": "stream",
     "text": [
      "  (0, 2)\t1\n",
      "  (0, 7)\t1\n",
      "  (0, 8)\t1\n",
      "  (0, 9)\t1\n",
      "  (1, 2)\t1\n",
      "  (1, 3)\t1\n",
      "  (1, 4)\t1\n",
      "  (1, 7)\t1\n",
      "  (2, 0)\t1\n",
      "  (2, 2)\t2\n",
      "  (2, 5)\t1\n",
      "  (2, 6)\t1\n",
      "  (2, 7)\t1\n",
      "  (3, 0)\t2\n",
      "  (3, 1)\t2\n",
      "  (3, 2)\t1\n",
      "  (3, 5)\t1\n",
      "  (3, 9)\t1\n"
     ]
    }
   ],
   "source": [
    "print(toy_data_num)"
   ]
  },
  {
   "cell_type": "code",
   "execution_count": 23,
   "metadata": {},
   "outputs": [
    {
     "data": {
      "text/plain": [
       "(4, 10)"
      ]
     },
     "execution_count": 23,
     "metadata": {},
     "output_type": "execute_result"
    }
   ],
   "source": [
    "# 4 texts, 10 features (word tokens in this case)\n",
    "toy_data_num.shape"
   ]
  },
  {
   "cell_type": "code",
   "execution_count": 24,
   "metadata": {},
   "outputs": [
    {
     "data": {
      "text/plain": [
       "matrix([[0, 0, 1, 0, 0, 0, 0, 1, 1, 1],\n",
       "        [0, 0, 1, 1, 1, 0, 0, 1, 0, 0],\n",
       "        [1, 0, 2, 0, 0, 1, 1, 1, 0, 0],\n",
       "        [2, 2, 1, 0, 0, 1, 0, 0, 0, 1]])"
      ]
     },
     "execution_count": 24,
     "metadata": {},
     "output_type": "execute_result"
    }
   ],
   "source": [
    "toy_data_num.todense()"
   ]
  },
  {
   "cell_type": "code",
   "execution_count": 25,
   "metadata": {},
   "outputs": [
    {
     "data": {
      "text/html": [
       "<div>\n",
       "<style scoped>\n",
       "    .dataframe tbody tr th:only-of-type {\n",
       "        vertical-align: middle;\n",
       "    }\n",
       "\n",
       "    .dataframe tbody tr th {\n",
       "        vertical-align: top;\n",
       "    }\n",
       "\n",
       "    .dataframe thead th {\n",
       "        text-align: right;\n",
       "    }\n",
       "</style>\n",
       "<table border=\"1\" class=\"dataframe\">\n",
       "  <thead>\n",
       "    <tr style=\"text-align: right;\">\n",
       "      <th></th>\n",
       "      <th>be</th>\n",
       "      <th>can</th>\n",
       "      <th>elections</th>\n",
       "      <th>harris</th>\n",
       "      <th>lost</th>\n",
       "      <th>reliable</th>\n",
       "      <th>should</th>\n",
       "      <th>the</th>\n",
       "      <th>trump</th>\n",
       "      <th>won</th>\n",
       "    </tr>\n",
       "  </thead>\n",
       "  <tbody>\n",
       "    <tr>\n",
       "      <th>0</th>\n",
       "      <td>0</td>\n",
       "      <td>0</td>\n",
       "      <td>1</td>\n",
       "      <td>0</td>\n",
       "      <td>0</td>\n",
       "      <td>0</td>\n",
       "      <td>0</td>\n",
       "      <td>1</td>\n",
       "      <td>1</td>\n",
       "      <td>1</td>\n",
       "    </tr>\n",
       "    <tr>\n",
       "      <th>1</th>\n",
       "      <td>0</td>\n",
       "      <td>0</td>\n",
       "      <td>1</td>\n",
       "      <td>1</td>\n",
       "      <td>1</td>\n",
       "      <td>0</td>\n",
       "      <td>0</td>\n",
       "      <td>1</td>\n",
       "      <td>0</td>\n",
       "      <td>0</td>\n",
       "    </tr>\n",
       "    <tr>\n",
       "      <th>2</th>\n",
       "      <td>1</td>\n",
       "      <td>0</td>\n",
       "      <td>2</td>\n",
       "      <td>0</td>\n",
       "      <td>0</td>\n",
       "      <td>1</td>\n",
       "      <td>1</td>\n",
       "      <td>1</td>\n",
       "      <td>0</td>\n",
       "      <td>0</td>\n",
       "    </tr>\n",
       "    <tr>\n",
       "      <th>3</th>\n",
       "      <td>2</td>\n",
       "      <td>2</td>\n",
       "      <td>1</td>\n",
       "      <td>0</td>\n",
       "      <td>0</td>\n",
       "      <td>1</td>\n",
       "      <td>0</td>\n",
       "      <td>0</td>\n",
       "      <td>0</td>\n",
       "      <td>1</td>\n",
       "    </tr>\n",
       "  </tbody>\n",
       "</table>\n",
       "</div>"
      ],
      "text/plain": [
       "   be  can  elections  harris  lost  reliable  should  the  trump  won\n",
       "0   0    0          1       0     0         0       0    1      1    1\n",
       "1   0    0          1       1     1         0       0    1      0    0\n",
       "2   1    0          2       0     0         1       1    1      0    0\n",
       "3   2    2          1       0     0         1       0    0      0    1"
      ]
     },
     "execution_count": 25,
     "metadata": {},
     "output_type": "execute_result"
    }
   ],
   "source": [
    "# Let's put them in a dataframe\n",
    "pd.DataFrame(toy_data_num.todense(), columns=vect1.get_feature_names_out())"
   ]
  },
  {
   "cell_type": "code",
   "execution_count": 26,
   "metadata": {},
   "outputs": [],
   "source": [
    "toy_test = ['Harris and Trump fought the elections']\n",
    "toy_test_num = vect1.transform(toy_test)"
   ]
  },
  {
   "cell_type": "code",
   "execution_count": 27,
   "metadata": {},
   "outputs": [
    {
     "data": {
      "text/html": [
       "<div>\n",
       "<style scoped>\n",
       "    .dataframe tbody tr th:only-of-type {\n",
       "        vertical-align: middle;\n",
       "    }\n",
       "\n",
       "    .dataframe tbody tr th {\n",
       "        vertical-align: top;\n",
       "    }\n",
       "\n",
       "    .dataframe thead th {\n",
       "        text-align: right;\n",
       "    }\n",
       "</style>\n",
       "<table border=\"1\" class=\"dataframe\">\n",
       "  <thead>\n",
       "    <tr style=\"text-align: right;\">\n",
       "      <th></th>\n",
       "      <th>be</th>\n",
       "      <th>can</th>\n",
       "      <th>elections</th>\n",
       "      <th>harris</th>\n",
       "      <th>lost</th>\n",
       "      <th>reliable</th>\n",
       "      <th>should</th>\n",
       "      <th>the</th>\n",
       "      <th>trump</th>\n",
       "      <th>won</th>\n",
       "    </tr>\n",
       "  </thead>\n",
       "  <tbody>\n",
       "    <tr>\n",
       "      <th>0</th>\n",
       "      <td>0</td>\n",
       "      <td>0</td>\n",
       "      <td>1</td>\n",
       "      <td>1</td>\n",
       "      <td>0</td>\n",
       "      <td>0</td>\n",
       "      <td>0</td>\n",
       "      <td>1</td>\n",
       "      <td>1</td>\n",
       "      <td>0</td>\n",
       "    </tr>\n",
       "  </tbody>\n",
       "</table>\n",
       "</div>"
      ],
      "text/plain": [
       "   be  can  elections  harris  lost  reliable  should  the  trump  won\n",
       "0   0    0          1       1     0         0       0    1      1    0"
      ]
     },
     "execution_count": 27,
     "metadata": {},
     "output_type": "execute_result"
    }
   ],
   "source": [
    "pd.DataFrame(toy_test_num.todense(), columns=vect1.get_feature_names_out())"
   ]
  },
  {
   "cell_type": "markdown",
   "metadata": {},
   "source": [
    "In summary:\n",
    "\n",
    "- Use .fit(train) to learn the vocabulary (features) of the training data\n",
    "- Use .transform(train) to create numeric matrix from the training data, texts (rows) by features (columns) matrix\n",
    "- Use .transform(test) to build a matrix from the test data I\n",
    "    - Ignores features (word tokens) it hasn't seen before!"
   ]
  },
  {
   "cell_type": "code",
   "execution_count": 29,
   "metadata": {
    "tags": []
   },
   "outputs": [
    {
     "data": {
      "text/html": [
       "<div>\n",
       "<style scoped>\n",
       "    .dataframe tbody tr th:only-of-type {\n",
       "        vertical-align: middle;\n",
       "    }\n",
       "\n",
       "    .dataframe tbody tr th {\n",
       "        vertical-align: top;\n",
       "    }\n",
       "\n",
       "    .dataframe thead th {\n",
       "        text-align: right;\n",
       "    }\n",
       "</style>\n",
       "<table border=\"1\" class=\"dataframe\">\n",
       "  <thead>\n",
       "    <tr style=\"text-align: right;\">\n",
       "      <th></th>\n",
       "      <th>be</th>\n",
       "      <th>can</th>\n",
       "      <th>elections</th>\n",
       "      <th>harris</th>\n",
       "      <th>lost</th>\n",
       "      <th>reliable</th>\n",
       "      <th>should</th>\n",
       "      <th>the</th>\n",
       "      <th>trump</th>\n",
       "      <th>won</th>\n",
       "    </tr>\n",
       "  </thead>\n",
       "  <tbody>\n",
       "    <tr>\n",
       "      <th>0</th>\n",
       "      <td>0.000000</td>\n",
       "      <td>0.000000</td>\n",
       "      <td>0.343993</td>\n",
       "      <td>0.000000</td>\n",
       "      <td>0.000000</td>\n",
       "      <td>0.000000</td>\n",
       "      <td>0.000000</td>\n",
       "      <td>0.420753</td>\n",
       "      <td>0.659191</td>\n",
       "      <td>0.519714</td>\n",
       "    </tr>\n",
       "    <tr>\n",
       "      <th>1</th>\n",
       "      <td>0.000000</td>\n",
       "      <td>0.000000</td>\n",
       "      <td>0.318782</td>\n",
       "      <td>0.610878</td>\n",
       "      <td>0.610878</td>\n",
       "      <td>0.000000</td>\n",
       "      <td>0.000000</td>\n",
       "      <td>0.389916</td>\n",
       "      <td>0.000000</td>\n",
       "      <td>0.000000</td>\n",
       "    </tr>\n",
       "    <tr>\n",
       "      <th>2</th>\n",
       "      <td>0.407685</td>\n",
       "      <td>0.000000</td>\n",
       "      <td>0.539685</td>\n",
       "      <td>0.000000</td>\n",
       "      <td>0.000000</td>\n",
       "      <td>0.407685</td>\n",
       "      <td>0.517097</td>\n",
       "      <td>0.330056</td>\n",
       "      <td>0.000000</td>\n",
       "      <td>0.000000</td>\n",
       "    </tr>\n",
       "    <tr>\n",
       "      <th>3</th>\n",
       "      <td>0.557426</td>\n",
       "      <td>0.707024</td>\n",
       "      <td>0.184477</td>\n",
       "      <td>0.000000</td>\n",
       "      <td>0.000000</td>\n",
       "      <td>0.278713</td>\n",
       "      <td>0.000000</td>\n",
       "      <td>0.000000</td>\n",
       "      <td>0.000000</td>\n",
       "      <td>0.278713</td>\n",
       "    </tr>\n",
       "  </tbody>\n",
       "</table>\n",
       "</div>"
      ],
      "text/plain": [
       "         be       can  elections    harris      lost  reliable    should  \\\n",
       "0  0.000000  0.000000   0.343993  0.000000  0.000000  0.000000  0.000000   \n",
       "1  0.000000  0.000000   0.318782  0.610878  0.610878  0.000000  0.000000   \n",
       "2  0.407685  0.000000   0.539685  0.000000  0.000000  0.407685  0.517097   \n",
       "3  0.557426  0.707024   0.184477  0.000000  0.000000  0.278713  0.000000   \n",
       "\n",
       "        the     trump       won  \n",
       "0  0.420753  0.659191  0.519714  \n",
       "1  0.389916  0.000000  0.000000  \n",
       "2  0.330056  0.000000  0.000000  \n",
       "3  0.000000  0.000000  0.278713  "
      ]
     },
     "execution_count": 29,
     "metadata": {},
     "output_type": "execute_result"
    }
   ],
   "source": [
    "# same process of vect2 (tf-idf)\n",
    "\n",
    "vect2.fit(toy_data)\n",
    "toy_data_tfidf = vect2.transform(toy_data)\n",
    "pd.DataFrame(toy_data_tfidf.todense(), columns=vect2.get_feature_names_out())"
   ]
  },
  {
   "cell_type": "markdown",
   "metadata": {},
   "source": [
    "### Text Categorization Pipeline"
   ]
  },
  {
   "cell_type": "markdown",
   "metadata": {},
   "source": [
    "#### Data Preparation"
   ]
  },
  {
   "cell_type": "code",
   "execution_count": 32,
   "metadata": {},
   "outputs": [],
   "source": [
    "# TOEFL Native Language Identification\n",
    "# (English L2 text of people with different L1, identify L1 by analyzing L2)\n",
    "\n",
    "# Please note that you can only use this data in the context of this MA, \n",
    "# it is not publicly available and you will have to remove it after you leave the MA\n",
    "\n",
    "nli_train = pd.read_csv('data/TOEFL-train.csv')\n",
    "nli_test = pd.read_csv('data/TOEFL-test.csv')"
   ]
  },
  {
   "cell_type": "markdown",
   "metadata": {},
   "source": [
    "The TOEFL NLI dataset is based on responses to the English proficiency test for **non-native** speakers. It contains essays written in English by people with a variety of native language backgrounds. In a ML context it was used to investigate whether ML algorithms can find patterns that allow it to predict the native language of the writer."
   ]
  },
  {
   "cell_type": "code",
   "execution_count": 34,
   "metadata": {},
   "outputs": [
    {
     "data": {
      "text/html": [
       "<div>\n",
       "<style scoped>\n",
       "    .dataframe tbody tr th:only-of-type {\n",
       "        vertical-align: middle;\n",
       "    }\n",
       "\n",
       "    .dataframe tbody tr th {\n",
       "        vertical-align: top;\n",
       "    }\n",
       "\n",
       "    .dataframe thead th {\n",
       "        text-align: right;\n",
       "    }\n",
       "</style>\n",
       "<table border=\"1\" class=\"dataframe\">\n",
       "  <thead>\n",
       "    <tr style=\"text-align: right;\">\n",
       "      <th></th>\n",
       "      <th>id</th>\n",
       "      <th>essay</th>\n",
       "      <th>label</th>\n",
       "    </tr>\n",
       "  </thead>\n",
       "  <tbody>\n",
       "    <tr>\n",
       "      <th>8242</th>\n",
       "      <td>6551</td>\n",
       "      <td>Most people are afraid to take risks or learn ...</td>\n",
       "      <td>KOR</td>\n",
       "    </tr>\n",
       "    <tr>\n",
       "      <th>7473</th>\n",
       "      <td>10324</td>\n",
       "      <td>I agree the idea that successful people try ne...</td>\n",
       "      <td>JPN</td>\n",
       "    </tr>\n",
       "    <tr>\n",
       "      <th>8497</th>\n",
       "      <td>9846</td>\n",
       "      <td>Young people can enjoy life more than older pe...</td>\n",
       "      <td>KOR</td>\n",
       "    </tr>\n",
       "    <tr>\n",
       "      <th>2819</th>\n",
       "      <td>7556</td>\n",
       "      <td>In my point of view , old peolpe are more happ...</td>\n",
       "      <td>FRE</td>\n",
       "    </tr>\n",
       "    <tr>\n",
       "      <th>8378</th>\n",
       "      <td>8287</td>\n",
       "      <td>I agree with this statement .\\nbecause I think...</td>\n",
       "      <td>KOR</td>\n",
       "    </tr>\n",
       "  </tbody>\n",
       "</table>\n",
       "</div>"
      ],
      "text/plain": [
       "         id                                              essay label\n",
       "8242   6551  Most people are afraid to take risks or learn ...   KOR\n",
       "7473  10324  I agree the idea that successful people try ne...   JPN\n",
       "8497   9846  Young people can enjoy life more than older pe...   KOR\n",
       "2819   7556  In my point of view , old peolpe are more happ...   FRE\n",
       "8378   8287  I agree with this statement .\\nbecause I think...   KOR"
      ]
     },
     "execution_count": 34,
     "metadata": {},
     "output_type": "execute_result"
    }
   ],
   "source": [
    "nli_train.sample(5)"
   ]
  },
  {
   "cell_type": "code",
   "execution_count": 35,
   "metadata": {},
   "outputs": [
    {
     "data": {
      "text/plain": [
       "(\"I agree , I belive in a saying that states `` High risk equals high returns '' .\\nFrom eralier courses i have taken in school i learned that one should place their eggs in different baskets , which means that investments should be invested in different new ideas instead of concentrating on one sort of new business or idea .\\n\\nOne can never grow and develope if they keep on preforming what they already know how to do well , inorder for somone to grow and develope they must try new things , take chances , and make mistakes .\\nFor example , when a baby first learns how to crawl and becomes very good at it , the baby is never gana crawl for the rest of his life so the baby will take the risk of walking , even tough the baby will fall several times , the baby will try again and again that 's where not being afraid to make mistakes comes in .\\nThe baby can not run unless it can walk , this point emphasises the imnportance of taking risks to achive great success .\\n\\nThere are a lot of examples one can speak about , for example .\\nFor example , Bill Gates a well recognized business man in the United States started off with a business idea in college , and instead of continuing his studies he took his idea and put it into action , he now is the owner of an internationally recognized computer software company Microsoft .\\nMicrosoft is always taking risks and introducing new ideas and trying new things in the market causing Microsoft to still grow and strive in the market .\\n\\nTrying new things is never a risk I belive , how can somone have potentail to grow and strive in todays economy if one is not willing to take initative and try new things .\\nFailling should never hold someone back from succeding in something but it should be a lesson to learn from to do well next time one tries again .\",\n",
       " 'ARA')"
      ]
     },
     "execution_count": 35,
     "metadata": {},
     "output_type": "execute_result"
    }
   ],
   "source": [
    "nli_train.essay[10], nli_train.label[10]"
   ]
  },
  {
   "cell_type": "code",
   "execution_count": 36,
   "metadata": {},
   "outputs": [
    {
     "data": {
      "text/plain": [
       "label\n",
       "ARA    1100\n",
       "CHI    1100\n",
       "FRE    1100\n",
       "GER    1100\n",
       "HIN    1100\n",
       "ITA    1100\n",
       "JPN    1100\n",
       "KOR    1100\n",
       "SPA    1100\n",
       "TEL    1100\n",
       "TUR    1100\n",
       "Name: count, dtype: int64"
      ]
     },
     "execution_count": 36,
     "metadata": {},
     "output_type": "execute_result"
    }
   ],
   "source": [
    "nli_train.label.value_counts()"
   ]
  },
  {
   "cell_type": "code",
   "execution_count": 37,
   "metadata": {},
   "outputs": [
    {
     "data": {
      "text/plain": [
       "label\n",
       "ARA    100\n",
       "CHI    100\n",
       "FRE    100\n",
       "GER    100\n",
       "HIN    100\n",
       "ITA    100\n",
       "JPN    100\n",
       "KOR    100\n",
       "SPA    100\n",
       "TEL    100\n",
       "TUR    100\n",
       "Name: count, dtype: int64"
      ]
     },
     "execution_count": 37,
     "metadata": {},
     "output_type": "execute_result"
    }
   ],
   "source": [
    "nli_test.label.value_counts()"
   ]
  },
  {
   "cell_type": "code",
   "execution_count": 38,
   "metadata": {},
   "outputs": [
    {
     "data": {
      "text/plain": [
       "0"
      ]
     },
     "execution_count": 38,
     "metadata": {},
     "output_type": "execute_result"
    }
   ],
   "source": [
    "nli_train.duplicated().sum()"
   ]
  },
  {
   "cell_type": "code",
   "execution_count": 39,
   "metadata": {},
   "outputs": [
    {
     "data": {
      "text/plain": [
       "id       0\n",
       "essay    0\n",
       "label    0\n",
       "dtype: int64"
      ]
     },
     "execution_count": 39,
     "metadata": {},
     "output_type": "execute_result"
    }
   ],
   "source": [
    "nli_train.isnull().sum()"
   ]
  },
  {
   "cell_type": "code",
   "execution_count": 40,
   "metadata": {},
   "outputs": [
    {
     "data": {
      "text/plain": [
       "((12100,), (12100,), (1100,), (1100,))"
      ]
     },
     "execution_count": 40,
     "metadata": {},
     "output_type": "execute_result"
    }
   ],
   "source": [
    "X_train = nli_train.essay\n",
    "y_train = nli_train.label\n",
    "X_test = nli_test.essay\n",
    "y_test = nli_test.label\n",
    "X_train.shape, y_train.shape, X_test.shape, y_test.shape\n",
    "# As usual, we will keep X_test and y_test under lock and key until the end"
   ]
  },
  {
   "cell_type": "markdown",
   "metadata": {},
   "source": [
    "#### Text Annotation with analysis tools\n",
    "\n",
    "**We will return to this in the Natural Language Processing course of the second semester.**\n",
    "\n",
    "A lot of NLP research will use ML methods and pipelines, but will include a stage of enriching the data with different layers of linguistic information, typically at least tokenization, lemmatization, part of speech tagging, syntactic structures, word senses (embeddings), named entities, ...\n",
    "\n",
    "If you already want to check out NLP tools, take a look at\n",
    "\n",
    "- Pattern3 https://github.com/clips/pattern\n",
    "- Grasp https://github.com/textgain/grasp\n",
    "- Spacy https://spacy.io/\n",
    "- Stanza https://stanfordnlp.github.io/stanza/index.html\n",
    "- NLTK https://www.nltk.org/\n",
    "\n",
    "When new annotation layers are defined and applied to text, this involves setting up annotation guidelines, training annotators (mostly students or crowd-sourced). It is important then to measure annotation agreement with e.g., the kappa score.\n",
    "\n",
    "Increasingly, Large Language Models are used to add these extra annotation layers or to create new training and test data (synthetic data).\n",
    "\n",
    "Some crowdsourcing platforms\n",
    "\n",
    "- Appen (used to be Crowdflower) https://appen.com/\n",
    "- Amazon Mechanical Turk https://www.mturk.com/"
   ]
  },
  {
   "cell_type": "markdown",
   "metadata": {},
   "source": [
    "#### Pipeline"
   ]
  },
  {
   "cell_type": "code",
   "execution_count": 43,
   "metadata": {},
   "outputs": [],
   "source": [
    "vect = CountVectorizer(max_features=10000)\n",
    "scaler = MaxAbsScaler()\n",
    "clf = SGDClassifier(random_state=42)\n",
    "\n",
    "pipe = make_pipeline(vect, scaler, clf)\n",
    "# when adding additional features apart from the vectorized text, use column transformer!"
   ]
  },
  {
   "cell_type": "markdown",
   "metadata": {},
   "source": [
    "\n",
    "The MaxAbsScaler() is a feature scaling method \n",
    "that scales the values of each feature to the range [-1, 1] (or [0, 1] when all values are positive) by dividing them by the maximum absolute value of that feature. \n",
    "It preserves sparsity, making it efficient for data represented in sparse matrices (like here) because it does not convert to dense."
   ]
  },
  {
   "cell_type": "markdown",
   "metadata": {},
   "source": [
    "The SGDClassifier in is a linear classifier that uses Stochastic Gradient Descent (SGD) for optimization of the cost function. It works well with datasets with a large number of samples and features.\n",
    "\n",
    "It supports linear classifiers such as:\n",
    "- Logistic Regression (for binary and multi-class classification)\n",
    "- Support Vector Machines (SVM) (linear SVM with hinge loss)\n",
    "- Perceptron\n",
    "\n",
    "by specifying different loss functions:\n",
    "\n",
    "- hinge: Linear SVM loss (maximum-margin classifier)\n",
    "- log_loss: Logistic regression loss\n",
    "- modified_huber: Robust loss function combining Huber loss with log loss\n",
    "- perceptron: Perceptron loss\n",
    "\n",
    "and also supports L1, L2, and ElasticNet regularization."
   ]
  },
  {
   "cell_type": "markdown",
   "metadata": {},
   "source": [
    "L1, L2, and Elastic Net are different regularization techniques to prevent overfitting by making the loss function more complex.\n",
    "\n",
    "- L1 (Lasso Regularization): great for feature selection (some coefficients can become 0), use this when there are many features only some of which are relevant. \n",
    "- L2 Regularization (Ridge Regularization): when many features contribute to the solution but each only a little (small weights). \n",
    "- Elastic Net Regularization: combines L1 and L2"
   ]
  },
  {
   "cell_type": "code",
   "execution_count": 47,
   "metadata": {},
   "outputs": [
    {
     "data": {
      "text/plain": [
       "{'countvectorizer': CountVectorizer(max_features=10000),\n",
       " 'maxabsscaler': MaxAbsScaler(),\n",
       " 'sgdclassifier': SGDClassifier(random_state=42)}"
      ]
     },
     "execution_count": 47,
     "metadata": {},
     "output_type": "execute_result"
    }
   ],
   "source": [
    "pipe.named_steps"
   ]
  },
  {
   "cell_type": "code",
   "execution_count": 48,
   "metadata": {},
   "outputs": [],
   "source": [
    "params = [{\n",
    "    'countvectorizer__ngram_range': [(1, 1), (1, 2)],\n",
    "    'sgdclassifier__penalty': ['l2', 'l1', 'elasticnet'],\n",
    "    'sgdclassifier__loss': ['hinge', 'log_loss', 'perceptron', 'modified_huber']\n",
    "    }]"
   ]
  },
  {
   "cell_type": "code",
   "execution_count": 49,
   "metadata": {},
   "outputs": [
    {
     "name": "stdout",
     "output_type": "stream",
     "text": [
      "Fitting 5 folds for each of 24 candidates, totalling 120 fits\n"
     ]
    },
    {
     "name": "stderr",
     "output_type": "stream",
     "text": [
      "/Users/walter/anaconda3/lib/python3.11/site-packages/joblib/externals/loky/process_executor.py:700: UserWarning: A worker stopped while some jobs were given to the executor. This can be caused by a too short worker timeout or by a memory leak.\n",
      "  warnings.warn(\n"
     ]
    },
    {
     "data": {
      "text/html": [
       "<style>#sk-container-id-2 {color: black;background-color: white;}#sk-container-id-2 pre{padding: 0;}#sk-container-id-2 div.sk-toggleable {background-color: white;}#sk-container-id-2 label.sk-toggleable__label {cursor: pointer;display: block;width: 100%;margin-bottom: 0;padding: 0.3em;box-sizing: border-box;text-align: center;}#sk-container-id-2 label.sk-toggleable__label-arrow:before {content: \"▸\";float: left;margin-right: 0.25em;color: #696969;}#sk-container-id-2 label.sk-toggleable__label-arrow:hover:before {color: black;}#sk-container-id-2 div.sk-estimator:hover label.sk-toggleable__label-arrow:before {color: black;}#sk-container-id-2 div.sk-toggleable__content {max-height: 0;max-width: 0;overflow: hidden;text-align: left;background-color: #f0f8ff;}#sk-container-id-2 div.sk-toggleable__content pre {margin: 0.2em;color: black;border-radius: 0.25em;background-color: #f0f8ff;}#sk-container-id-2 input.sk-toggleable__control:checked~div.sk-toggleable__content {max-height: 200px;max-width: 100%;overflow: auto;}#sk-container-id-2 input.sk-toggleable__control:checked~label.sk-toggleable__label-arrow:before {content: \"▾\";}#sk-container-id-2 div.sk-estimator input.sk-toggleable__control:checked~label.sk-toggleable__label {background-color: #d4ebff;}#sk-container-id-2 div.sk-label input.sk-toggleable__control:checked~label.sk-toggleable__label {background-color: #d4ebff;}#sk-container-id-2 input.sk-hidden--visually {border: 0;clip: rect(1px 1px 1px 1px);clip: rect(1px, 1px, 1px, 1px);height: 1px;margin: -1px;overflow: hidden;padding: 0;position: absolute;width: 1px;}#sk-container-id-2 div.sk-estimator {font-family: monospace;background-color: #f0f8ff;border: 1px dotted black;border-radius: 0.25em;box-sizing: border-box;margin-bottom: 0.5em;}#sk-container-id-2 div.sk-estimator:hover {background-color: #d4ebff;}#sk-container-id-2 div.sk-parallel-item::after {content: \"\";width: 100%;border-bottom: 1px solid gray;flex-grow: 1;}#sk-container-id-2 div.sk-label:hover label.sk-toggleable__label {background-color: #d4ebff;}#sk-container-id-2 div.sk-serial::before {content: \"\";position: absolute;border-left: 1px solid gray;box-sizing: border-box;top: 0;bottom: 0;left: 50%;z-index: 0;}#sk-container-id-2 div.sk-serial {display: flex;flex-direction: column;align-items: center;background-color: white;padding-right: 0.2em;padding-left: 0.2em;position: relative;}#sk-container-id-2 div.sk-item {position: relative;z-index: 1;}#sk-container-id-2 div.sk-parallel {display: flex;align-items: stretch;justify-content: center;background-color: white;position: relative;}#sk-container-id-2 div.sk-item::before, #sk-container-id-2 div.sk-parallel-item::before {content: \"\";position: absolute;border-left: 1px solid gray;box-sizing: border-box;top: 0;bottom: 0;left: 50%;z-index: -1;}#sk-container-id-2 div.sk-parallel-item {display: flex;flex-direction: column;z-index: 1;position: relative;background-color: white;}#sk-container-id-2 div.sk-parallel-item:first-child::after {align-self: flex-end;width: 50%;}#sk-container-id-2 div.sk-parallel-item:last-child::after {align-self: flex-start;width: 50%;}#sk-container-id-2 div.sk-parallel-item:only-child::after {width: 0;}#sk-container-id-2 div.sk-dashed-wrapped {border: 1px dashed gray;margin: 0 0.4em 0.5em 0.4em;box-sizing: border-box;padding-bottom: 0.4em;background-color: white;}#sk-container-id-2 div.sk-label label {font-family: monospace;font-weight: bold;display: inline-block;line-height: 1.2em;}#sk-container-id-2 div.sk-label-container {text-align: center;}#sk-container-id-2 div.sk-container {/* jupyter's `normalize.less` sets `[hidden] { display: none; }` but bootstrap.min.css set `[hidden] { display: none !important; }` so we also need the `!important` here to be able to override the default hidden behavior on the sphinx rendered scikit-learn.org. See: https://github.com/scikit-learn/scikit-learn/issues/21755 */display: inline-block !important;position: relative;}#sk-container-id-2 div.sk-text-repr-fallback {display: none;}</style><div id=\"sk-container-id-2\" class=\"sk-top-container\"><div class=\"sk-text-repr-fallback\"><pre>GridSearchCV(cv=5,\n",
       "             estimator=Pipeline(steps=[(&#x27;countvectorizer&#x27;,\n",
       "                                        CountVectorizer(max_features=10000)),\n",
       "                                       (&#x27;maxabsscaler&#x27;, MaxAbsScaler()),\n",
       "                                       (&#x27;sgdclassifier&#x27;,\n",
       "                                        SGDClassifier(random_state=42))]),\n",
       "             n_jobs=-1,\n",
       "             param_grid=[{&#x27;countvectorizer__ngram_range&#x27;: [(1, 1), (1, 2)],\n",
       "                          &#x27;sgdclassifier__loss&#x27;: [&#x27;hinge&#x27;, &#x27;log_loss&#x27;,\n",
       "                                                  &#x27;perceptron&#x27;,\n",
       "                                                  &#x27;modified_huber&#x27;],\n",
       "                          &#x27;sgdclassifier__penalty&#x27;: [&#x27;l2&#x27;, &#x27;l1&#x27;,\n",
       "                                                     &#x27;elasticnet&#x27;]}],\n",
       "             scoring=&#x27;f1_macro&#x27;, verbose=1)</pre><b>In a Jupyter environment, please rerun this cell to show the HTML representation or trust the notebook. <br />On GitHub, the HTML representation is unable to render, please try loading this page with nbviewer.org.</b></div><div class=\"sk-container\" hidden><div class=\"sk-item sk-dashed-wrapped\"><div class=\"sk-label-container\"><div class=\"sk-label sk-toggleable\"><input class=\"sk-toggleable__control sk-hidden--visually\" id=\"sk-estimator-id-2\" type=\"checkbox\" ><label for=\"sk-estimator-id-2\" class=\"sk-toggleable__label sk-toggleable__label-arrow\">GridSearchCV</label><div class=\"sk-toggleable__content\"><pre>GridSearchCV(cv=5,\n",
       "             estimator=Pipeline(steps=[(&#x27;countvectorizer&#x27;,\n",
       "                                        CountVectorizer(max_features=10000)),\n",
       "                                       (&#x27;maxabsscaler&#x27;, MaxAbsScaler()),\n",
       "                                       (&#x27;sgdclassifier&#x27;,\n",
       "                                        SGDClassifier(random_state=42))]),\n",
       "             n_jobs=-1,\n",
       "             param_grid=[{&#x27;countvectorizer__ngram_range&#x27;: [(1, 1), (1, 2)],\n",
       "                          &#x27;sgdclassifier__loss&#x27;: [&#x27;hinge&#x27;, &#x27;log_loss&#x27;,\n",
       "                                                  &#x27;perceptron&#x27;,\n",
       "                                                  &#x27;modified_huber&#x27;],\n",
       "                          &#x27;sgdclassifier__penalty&#x27;: [&#x27;l2&#x27;, &#x27;l1&#x27;,\n",
       "                                                     &#x27;elasticnet&#x27;]}],\n",
       "             scoring=&#x27;f1_macro&#x27;, verbose=1)</pre></div></div></div><div class=\"sk-parallel\"><div class=\"sk-parallel-item\"><div class=\"sk-item\"><div class=\"sk-label-container\"><div class=\"sk-label sk-toggleable\"><input class=\"sk-toggleable__control sk-hidden--visually\" id=\"sk-estimator-id-3\" type=\"checkbox\" ><label for=\"sk-estimator-id-3\" class=\"sk-toggleable__label sk-toggleable__label-arrow\">estimator: Pipeline</label><div class=\"sk-toggleable__content\"><pre>Pipeline(steps=[(&#x27;countvectorizer&#x27;, CountVectorizer(max_features=10000)),\n",
       "                (&#x27;maxabsscaler&#x27;, MaxAbsScaler()),\n",
       "                (&#x27;sgdclassifier&#x27;, SGDClassifier(random_state=42))])</pre></div></div></div><div class=\"sk-serial\"><div class=\"sk-item\"><div class=\"sk-serial\"><div class=\"sk-item\"><div class=\"sk-estimator sk-toggleable\"><input class=\"sk-toggleable__control sk-hidden--visually\" id=\"sk-estimator-id-4\" type=\"checkbox\" ><label for=\"sk-estimator-id-4\" class=\"sk-toggleable__label sk-toggleable__label-arrow\">CountVectorizer</label><div class=\"sk-toggleable__content\"><pre>CountVectorizer(max_features=10000)</pre></div></div></div><div class=\"sk-item\"><div class=\"sk-estimator sk-toggleable\"><input class=\"sk-toggleable__control sk-hidden--visually\" id=\"sk-estimator-id-5\" type=\"checkbox\" ><label for=\"sk-estimator-id-5\" class=\"sk-toggleable__label sk-toggleable__label-arrow\">MaxAbsScaler</label><div class=\"sk-toggleable__content\"><pre>MaxAbsScaler()</pre></div></div></div><div class=\"sk-item\"><div class=\"sk-estimator sk-toggleable\"><input class=\"sk-toggleable__control sk-hidden--visually\" id=\"sk-estimator-id-6\" type=\"checkbox\" ><label for=\"sk-estimator-id-6\" class=\"sk-toggleable__label sk-toggleable__label-arrow\">SGDClassifier</label><div class=\"sk-toggleable__content\"><pre>SGDClassifier(random_state=42)</pre></div></div></div></div></div></div></div></div></div></div></div></div>"
      ],
      "text/plain": [
       "GridSearchCV(cv=5,\n",
       "             estimator=Pipeline(steps=[('countvectorizer',\n",
       "                                        CountVectorizer(max_features=10000)),\n",
       "                                       ('maxabsscaler', MaxAbsScaler()),\n",
       "                                       ('sgdclassifier',\n",
       "                                        SGDClassifier(random_state=42))]),\n",
       "             n_jobs=-1,\n",
       "             param_grid=[{'countvectorizer__ngram_range': [(1, 1), (1, 2)],\n",
       "                          'sgdclassifier__loss': ['hinge', 'log_loss',\n",
       "                                                  'perceptron',\n",
       "                                                  'modified_huber'],\n",
       "                          'sgdclassifier__penalty': ['l2', 'l1',\n",
       "                                                     'elasticnet']}],\n",
       "             scoring='f1_macro', verbose=1)"
      ]
     },
     "execution_count": 49,
     "metadata": {},
     "output_type": "execute_result"
    }
   ],
   "source": [
    "gs = GridSearchCV(pipe, params, cv=5, scoring='f1_macro', n_jobs=-1, refit=True, verbose=1)\n",
    "gs.fit(X_train, y_train)"
   ]
  },
  {
   "cell_type": "code",
   "execution_count": 50,
   "metadata": {},
   "outputs": [
    {
     "data": {
      "text/plain": [
       "0.7409866729896896"
      ]
     },
     "execution_count": 50,
     "metadata": {},
     "output_type": "execute_result"
    }
   ],
   "source": [
    "gs.best_score_"
   ]
  },
  {
   "cell_type": "code",
   "execution_count": 51,
   "metadata": {
    "tags": []
   },
   "outputs": [
    {
     "data": {
      "text/plain": [
       "{'countvectorizer__ngram_range': (1, 2),\n",
       " 'sgdclassifier__loss': 'log_loss',\n",
       " 'sgdclassifier__penalty': 'l2'}"
      ]
     },
     "execution_count": 51,
     "metadata": {},
     "output_type": "execute_result"
    }
   ],
   "source": [
    "gs.best_params_"
   ]
  },
  {
   "cell_type": "code",
   "execution_count": 52,
   "metadata": {},
   "outputs": [
    {
     "name": "stdout",
     "output_type": "stream",
     "text": [
      "              precision    recall  f1-score   support\n",
      "\n",
      "         ARA       0.77      0.75      0.76       100\n",
      "         CHI       0.79      0.87      0.83       100\n",
      "         FRE       0.78      0.82      0.80       100\n",
      "         GER       0.85      0.86      0.86       100\n",
      "         HIN       0.72      0.73      0.73       100\n",
      "         ITA       0.84      0.76      0.80       100\n",
      "         JPN       0.76      0.88      0.81       100\n",
      "         KOR       0.84      0.70      0.77       100\n",
      "         SPA       0.71      0.80      0.75       100\n",
      "         TEL       0.75      0.73      0.74       100\n",
      "         TUR       0.82      0.71      0.76       100\n",
      "\n",
      "    accuracy                           0.78      1100\n",
      "   macro avg       0.79      0.78      0.78      1100\n",
      "weighted avg       0.79      0.78      0.78      1100\n",
      "\n"
     ]
    }
   ],
   "source": [
    "y_test_pred = gs.predict(X_test)\n",
    "print(classification_report(y_test, y_test_pred))"
   ]
  },
  {
   "cell_type": "code",
   "execution_count": 53,
   "metadata": {},
   "outputs": [
    {
     "data": {
      "image/png": "[encoded data removed]",
      "text/plain": [
       "<Figure size 640x480 with 2 Axes>"
      ]
     },
     "metadata": {},
     "output_type": "display_data"
    }
   ],
   "source": [
    "ConfusionMatrixDisplay.from_predictions(y_test, y_test_pred);"
   ]
  },
  {
   "cell_type": "code",
   "execution_count": 54,
   "metadata": {
    "tags": []
   },
   "outputs": [
    {
     "name": "stdout",
     "output_type": "stream",
     "text": [
      "Fitting 5 folds for each of 12 candidates, totalling 60 fits\n"
     ]
    },
    {
     "data": {
      "text/html": [
       "<style>#sk-container-id-3 {color: black;background-color: white;}#sk-container-id-3 pre{padding: 0;}#sk-container-id-3 div.sk-toggleable {background-color: white;}#sk-container-id-3 label.sk-toggleable__label {cursor: pointer;display: block;width: 100%;margin-bottom: 0;padding: 0.3em;box-sizing: border-box;text-align: center;}#sk-container-id-3 label.sk-toggleable__label-arrow:before {content: \"▸\";float: left;margin-right: 0.25em;color: #696969;}#sk-container-id-3 label.sk-toggleable__label-arrow:hover:before {color: black;}#sk-container-id-3 div.sk-estimator:hover label.sk-toggleable__label-arrow:before {color: black;}#sk-container-id-3 div.sk-toggleable__content {max-height: 0;max-width: 0;overflow: hidden;text-align: left;background-color: #f0f8ff;}#sk-container-id-3 div.sk-toggleable__content pre {margin: 0.2em;color: black;border-radius: 0.25em;background-color: #f0f8ff;}#sk-container-id-3 input.sk-toggleable__control:checked~div.sk-toggleable__content {max-height: 200px;max-width: 100%;overflow: auto;}#sk-container-id-3 input.sk-toggleable__control:checked~label.sk-toggleable__label-arrow:before {content: \"▾\";}#sk-container-id-3 div.sk-estimator input.sk-toggleable__control:checked~label.sk-toggleable__label {background-color: #d4ebff;}#sk-container-id-3 div.sk-label input.sk-toggleable__control:checked~label.sk-toggleable__label {background-color: #d4ebff;}#sk-container-id-3 input.sk-hidden--visually {border: 0;clip: rect(1px 1px 1px 1px);clip: rect(1px, 1px, 1px, 1px);height: 1px;margin: -1px;overflow: hidden;padding: 0;position: absolute;width: 1px;}#sk-container-id-3 div.sk-estimator {font-family: monospace;background-color: #f0f8ff;border: 1px dotted black;border-radius: 0.25em;box-sizing: border-box;margin-bottom: 0.5em;}#sk-container-id-3 div.sk-estimator:hover {background-color: #d4ebff;}#sk-container-id-3 div.sk-parallel-item::after {content: \"\";width: 100%;border-bottom: 1px solid gray;flex-grow: 1;}#sk-container-id-3 div.sk-label:hover label.sk-toggleable__label {background-color: #d4ebff;}#sk-container-id-3 div.sk-serial::before {content: \"\";position: absolute;border-left: 1px solid gray;box-sizing: border-box;top: 0;bottom: 0;left: 50%;z-index: 0;}#sk-container-id-3 div.sk-serial {display: flex;flex-direction: column;align-items: center;background-color: white;padding-right: 0.2em;padding-left: 0.2em;position: relative;}#sk-container-id-3 div.sk-item {position: relative;z-index: 1;}#sk-container-id-3 div.sk-parallel {display: flex;align-items: stretch;justify-content: center;background-color: white;position: relative;}#sk-container-id-3 div.sk-item::before, #sk-container-id-3 div.sk-parallel-item::before {content: \"\";position: absolute;border-left: 1px solid gray;box-sizing: border-box;top: 0;bottom: 0;left: 50%;z-index: -1;}#sk-container-id-3 div.sk-parallel-item {display: flex;flex-direction: column;z-index: 1;position: relative;background-color: white;}#sk-container-id-3 div.sk-parallel-item:first-child::after {align-self: flex-end;width: 50%;}#sk-container-id-3 div.sk-parallel-item:last-child::after {align-self: flex-start;width: 50%;}#sk-container-id-3 div.sk-parallel-item:only-child::after {width: 0;}#sk-container-id-3 div.sk-dashed-wrapped {border: 1px dashed gray;margin: 0 0.4em 0.5em 0.4em;box-sizing: border-box;padding-bottom: 0.4em;background-color: white;}#sk-container-id-3 div.sk-label label {font-family: monospace;font-weight: bold;display: inline-block;line-height: 1.2em;}#sk-container-id-3 div.sk-label-container {text-align: center;}#sk-container-id-3 div.sk-container {/* jupyter's `normalize.less` sets `[hidden] { display: none; }` but bootstrap.min.css set `[hidden] { display: none !important; }` so we also need the `!important` here to be able to override the default hidden behavior on the sphinx rendered scikit-learn.org. See: https://github.com/scikit-learn/scikit-learn/issues/21755 */display: inline-block !important;position: relative;}#sk-container-id-3 div.sk-text-repr-fallback {display: none;}</style><div id=\"sk-container-id-3\" class=\"sk-top-container\"><div class=\"sk-text-repr-fallback\"><pre>RandomizedSearchCV(cv=5,\n",
       "                   estimator=Pipeline(steps=[(&#x27;countvectorizer&#x27;,\n",
       "                                              CountVectorizer(max_features=10000)),\n",
       "                                             (&#x27;maxabsscaler&#x27;, MaxAbsScaler()),\n",
       "                                             (&#x27;sgdclassifier&#x27;,\n",
       "                                              SGDClassifier(random_state=42))]),\n",
       "                   n_iter=12, n_jobs=-1,\n",
       "                   param_distributions=[{&#x27;countvectorizer__ngram_range&#x27;: [(1,\n",
       "                                                                           1),\n",
       "                                                                          (1,\n",
       "                                                                           2)],\n",
       "                                         &#x27;sgdclassifier__loss&#x27;: [&#x27;hinge&#x27;,\n",
       "                                                                 &#x27;log_loss&#x27;,\n",
       "                                                                 &#x27;perceptron&#x27;,\n",
       "                                                                 &#x27;modified_huber&#x27;],\n",
       "                                         &#x27;sgdclassifier__penalty&#x27;: [&#x27;l2&#x27;, &#x27;l1&#x27;,\n",
       "                                                                    &#x27;elasticnet&#x27;]}],\n",
       "                   random_state=42, scoring=&#x27;f1_macro&#x27;, verbose=1)</pre><b>In a Jupyter environment, please rerun this cell to show the HTML representation or trust the notebook. <br />On GitHub, the HTML representation is unable to render, please try loading this page with nbviewer.org.</b></div><div class=\"sk-container\" hidden><div class=\"sk-item sk-dashed-wrapped\"><div class=\"sk-label-container\"><div class=\"sk-label sk-toggleable\"><input class=\"sk-toggleable__control sk-hidden--visually\" id=\"sk-estimator-id-7\" type=\"checkbox\" ><label for=\"sk-estimator-id-7\" class=\"sk-toggleable__label sk-toggleable__label-arrow\">RandomizedSearchCV</label><div class=\"sk-toggleable__content\"><pre>RandomizedSearchCV(cv=5,\n",
       "                   estimator=Pipeline(steps=[(&#x27;countvectorizer&#x27;,\n",
       "                                              CountVectorizer(max_features=10000)),\n",
       "                                             (&#x27;maxabsscaler&#x27;, MaxAbsScaler()),\n",
       "                                             (&#x27;sgdclassifier&#x27;,\n",
       "                                              SGDClassifier(random_state=42))]),\n",
       "                   n_iter=12, n_jobs=-1,\n",
       "                   param_distributions=[{&#x27;countvectorizer__ngram_range&#x27;: [(1,\n",
       "                                                                           1),\n",
       "                                                                          (1,\n",
       "                                                                           2)],\n",
       "                                         &#x27;sgdclassifier__loss&#x27;: [&#x27;hinge&#x27;,\n",
       "                                                                 &#x27;log_loss&#x27;,\n",
       "                                                                 &#x27;perceptron&#x27;,\n",
       "                                                                 &#x27;modified_huber&#x27;],\n",
       "                                         &#x27;sgdclassifier__penalty&#x27;: [&#x27;l2&#x27;, &#x27;l1&#x27;,\n",
       "                                                                    &#x27;elasticnet&#x27;]}],\n",
       "                   random_state=42, scoring=&#x27;f1_macro&#x27;, verbose=1)</pre></div></div></div><div class=\"sk-parallel\"><div class=\"sk-parallel-item\"><div class=\"sk-item\"><div class=\"sk-label-container\"><div class=\"sk-label sk-toggleable\"><input class=\"sk-toggleable__control sk-hidden--visually\" id=\"sk-estimator-id-8\" type=\"checkbox\" ><label for=\"sk-estimator-id-8\" class=\"sk-toggleable__label sk-toggleable__label-arrow\">estimator: Pipeline</label><div class=\"sk-toggleable__content\"><pre>Pipeline(steps=[(&#x27;countvectorizer&#x27;, CountVectorizer(max_features=10000)),\n",
       "                (&#x27;maxabsscaler&#x27;, MaxAbsScaler()),\n",
       "                (&#x27;sgdclassifier&#x27;, SGDClassifier(random_state=42))])</pre></div></div></div><div class=\"sk-serial\"><div class=\"sk-item\"><div class=\"sk-serial\"><div class=\"sk-item\"><div class=\"sk-estimator sk-toggleable\"><input class=\"sk-toggleable__control sk-hidden--visually\" id=\"sk-estimator-id-9\" type=\"checkbox\" ><label for=\"sk-estimator-id-9\" class=\"sk-toggleable__label sk-toggleable__label-arrow\">CountVectorizer</label><div class=\"sk-toggleable__content\"><pre>CountVectorizer(max_features=10000)</pre></div></div></div><div class=\"sk-item\"><div class=\"sk-estimator sk-toggleable\"><input class=\"sk-toggleable__control sk-hidden--visually\" id=\"sk-estimator-id-10\" type=\"checkbox\" ><label for=\"sk-estimator-id-10\" class=\"sk-toggleable__label sk-toggleable__label-arrow\">MaxAbsScaler</label><div class=\"sk-toggleable__content\"><pre>MaxAbsScaler()</pre></div></div></div><div class=\"sk-item\"><div class=\"sk-estimator sk-toggleable\"><input class=\"sk-toggleable__control sk-hidden--visually\" id=\"sk-estimator-id-11\" type=\"checkbox\" ><label for=\"sk-estimator-id-11\" class=\"sk-toggleable__label sk-toggleable__label-arrow\">SGDClassifier</label><div class=\"sk-toggleable__content\"><pre>SGDClassifier(random_state=42)</pre></div></div></div></div></div></div></div></div></div></div></div></div>"
      ],
      "text/plain": [
       "RandomizedSearchCV(cv=5,\n",
       "                   estimator=Pipeline(steps=[('countvectorizer',\n",
       "                                              CountVectorizer(max_features=10000)),\n",
       "                                             ('maxabsscaler', MaxAbsScaler()),\n",
       "                                             ('sgdclassifier',\n",
       "                                              SGDClassifier(random_state=42))]),\n",
       "                   n_iter=12, n_jobs=-1,\n",
       "                   param_distributions=[{'countvectorizer__ngram_range': [(1,\n",
       "                                                                           1),\n",
       "                                                                          (1,\n",
       "                                                                           2)],\n",
       "                                         'sgdclassifier__loss': ['hinge',\n",
       "                                                                 'log_loss',\n",
       "                                                                 'perceptron',\n",
       "                                                                 'modified_huber'],\n",
       "                                         'sgdclassifier__penalty': ['l2', 'l1',\n",
       "                                                                    'elasticnet']}],\n",
       "                   random_state=42, scoring='f1_macro', verbose=1)"
      ]
     },
     "execution_count": 54,
     "metadata": {},
     "output_type": "execute_result"
    }
   ],
   "source": [
    "rs = RandomizedSearchCV(pipe, params, n_iter=12, cv=5, scoring='f1_macro', n_jobs=-1, refit=True, verbose=1, random_state=42)\n",
    "rs.fit(X_train, y_train)"
   ]
  },
  {
   "cell_type": "code",
   "execution_count": 55,
   "metadata": {
    "tags": []
   },
   "outputs": [
    {
     "data": {
      "text/plain": [
       "0.717357034186748"
      ]
     },
     "execution_count": 55,
     "metadata": {},
     "output_type": "execute_result"
    }
   ],
   "source": [
    "rs.best_score_"
   ]
  },
  {
   "cell_type": "code",
   "execution_count": 56,
   "metadata": {
    "tags": []
   },
   "outputs": [
    {
     "data": {
      "text/plain": [
       "{'sgdclassifier__penalty': 'elasticnet',\n",
       " 'sgdclassifier__loss': 'log_loss',\n",
       " 'countvectorizer__ngram_range': (1, 1)}"
      ]
     },
     "execution_count": 56,
     "metadata": {},
     "output_type": "execute_result"
    }
   ],
   "source": [
    "rs.best_params_"
   ]
  },
  {
   "cell_type": "code",
   "execution_count": 57,
   "metadata": {
    "tags": []
   },
   "outputs": [
    {
     "name": "stdout",
     "output_type": "stream",
     "text": [
      "              precision    recall  f1-score   support\n",
      "\n",
      "         ARA       0.80      0.71      0.75       100\n",
      "         CHI       0.73      0.88      0.80       100\n",
      "         FRE       0.79      0.81      0.80       100\n",
      "         GER       0.81      0.79      0.80       100\n",
      "         HIN       0.60      0.68      0.64       100\n",
      "         ITA       0.80      0.70      0.75       100\n",
      "         JPN       0.75      0.79      0.77       100\n",
      "         KOR       0.77      0.72      0.74       100\n",
      "         SPA       0.76      0.79      0.77       100\n",
      "         TEL       0.68      0.67      0.68       100\n",
      "         TUR       0.79      0.70      0.74       100\n",
      "\n",
      "    accuracy                           0.75      1100\n",
      "   macro avg       0.75      0.75      0.75      1100\n",
      "weighted avg       0.75      0.75      0.75      1100\n",
      "\n"
     ]
    }
   ],
   "source": [
    "y_test_pred = rs.predict(X_test)\n",
    "print(classification_report(y_test, y_test_pred))"
   ]
  },
  {
   "cell_type": "code",
   "execution_count": 58,
   "metadata": {
    "tags": []
   },
   "outputs": [
    {
     "data": {
      "image/png": "[encoded data removed]",
      "text/plain": [
       "<Figure size 640x480 with 2 Axes>"
      ]
     },
     "metadata": {},
     "output_type": "display_data"
    }
   ],
   "source": [
    "ConfusionMatrixDisplay.from_predictions(y_test, y_test_pred);"
   ]
  }
 ],
 "metadata": {
  "kernelspec": {
   "display_name": "Python 3 (ipykernel)",
   "language": "python",
   "name": "python3"
  },
  "language_info": {
   "codemirror_mode": {
    "name": "ipython",
    "version": 3
   },
   "file_extension": ".py",
   "mimetype": "text/x-python",
   "name": "python",
   "nbconvert_exporter": "python",
   "pygments_lexer": "ipython3",
   "version": "3.11.5"
  }
 },
 "nbformat": 4,
 "nbformat_minor": 4
}
