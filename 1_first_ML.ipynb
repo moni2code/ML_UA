{
 "cells": [
  {
   "cell_type": "markdown",
   "id": "3f7f1a9a-a305-42c3-9fe4-c8b1629fb16b",
   "metadata": {
    "tags": []
   },
   "source": [
    "## A simple example Machine Learning program\n",
    "[walter.daelemans@uantwerpen.be](mailto:walter.daelemans@uantwerpen.be)\n"
   ]
  },
  {
   "cell_type": "code",
   "execution_count": 2,
   "id": "911916c4-f06f-4275-a34a-c58b8b8338e3",
   "metadata": {
    "tags": []
   },
   "outputs": [
    {
     "name": "stdout",
     "output_type": "stream",
     "text": [
      "1.2.2\n"
     ]
    }
   ],
   "source": [
    "import sklearn \n",
    "print(sklearn.__version__)"
   ]
  },
  {
   "cell_type": "code",
   "execution_count": 3,
   "id": "8c1d3419-2b58-4986-bc13-1d92ce232c2d",
   "metadata": {
    "tags": []
   },
   "outputs": [],
   "source": [
    "from sklearn.datasets import load_iris\n",
    "data = load_iris()\n",
    "X = data.data  # Features\n",
    "y = data.target  # Labels"
   ]
  },
  {
   "cell_type": "code",
   "execution_count": 4,
   "id": "0927b108-a178-4beb-859a-25f604f67f31",
   "metadata": {
    "tags": []
   },
   "outputs": [],
   "source": [
    "# print(data.DESCR)\n",
    "# README for this dataset"
   ]
  },
  {
   "cell_type": "code",
   "execution_count": 5,
   "id": "ec8039c8-711c-4eb6-a91a-ba7f565393c0",
   "metadata": {
    "tags": []
   },
   "outputs": [
    {
     "data": {
      "text/plain": [
       "['sepal length (cm)',\n",
       " 'sepal width (cm)',\n",
       " 'petal length (cm)',\n",
       " 'petal width (cm)']"
      ]
     },
     "execution_count": 5,
     "metadata": {},
     "output_type": "execute_result"
    }
   ],
   "source": [
    "data.feature_names"
   ]
  },
  {
   "cell_type": "code",
   "execution_count": 6,
   "id": "d4fc7b6e-fc47-4d2b-be8b-b6ba7a7488fb",
   "metadata": {
    "tags": []
   },
   "outputs": [
    {
     "data": {
      "text/plain": [
       "array(['setosa', 'versicolor', 'virginica'], dtype='<U10')"
      ]
     },
     "execution_count": 6,
     "metadata": {},
     "output_type": "execute_result"
    }
   ],
   "source": [
    "data.target_names"
   ]
  },
  {
   "cell_type": "code",
   "execution_count": 7,
   "id": "1d1b20e6-391d-4a1f-9d14-a1454a20853b",
   "metadata": {
    "tags": []
   },
   "outputs": [
    {
     "name": "stdout",
     "output_type": "stream",
     "text": [
      "0.9733333333333334\n"
     ]
    }
   ],
   "source": [
    "from sklearn.model_selection import train_test_split\n",
    "from sklearn.neighbors import KNeighborsClassifier\n",
    "from sklearn.metrics import accuracy_score\n",
    "\n",
    "# Split data into training and testing sets (50% train, 50% test)\n",
    "X_train, X_test, y_train, y_test = train_test_split(X, y, test_size=0.5, random_state=42)\n",
    "\n",
    "# Initialize the KNN model with k=3 (number of neighbors)\n",
    "model = KNeighborsClassifier(n_neighbors=3)\n",
    "\n",
    "# Train the model\n",
    "model.fit(X_train, y_train)\n",
    "\n",
    "# Make predictions on the test set\n",
    "y_pred = model.predict(X_test)\n",
    "\n",
    "# Evaluate the model and output the results\n",
    "print(accuracy_score(y_test, y_pred))\n"
   ]
  }
 ],
 "metadata": {
  "kernelspec": {
   "display_name": "Python 3 (ipykernel)",
   "language": "python",
   "name": "python3"
  },
  "language_info": {
   "codemirror_mode": {
    "name": "ipython",
    "version": 3
   },
   "file_extension": ".py",
   "mimetype": "text/x-python",
   "name": "python",
   "nbconvert_exporter": "python",
   "pygments_lexer": "ipython3",
   "version": "3.11.5"
  }
 },
 "nbformat": 4,
 "nbformat_minor": 5
}
