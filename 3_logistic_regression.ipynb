{
 "cells": [
  {
   "cell_type": "markdown",
   "id": "379da8ba-7ea3-4a9d-a148-5061ac1167f8",
   "metadata": {
    "tags": []
   },
   "source": [
    "## Logistic Regression\n",
    "\n",
    "[walter.daelemans@uantwerpen.be](mailto:walter.daelemans@uantwerpen.be)\n",
    "\n",
    "- It is **classification**, not regression\n",
    "- It is a linear, binary classifier (that can be made multiclass)\n",
    "- In the binary case there is a positive (1) and negative (0) class: y can be 1 or 0"
   ]
  },
  {
   "cell_type": "markdown",
   "id": "ce0bb92b-4edb-49a9-8028-b1b66db8a1a8",
   "metadata": {},
   "source": [
    "#### Learning Algorithm\n",
    "\n",
    "What is the probability of class 1 given particular input feature values X ($= x_0, x_1, ... x_n$)?\n",
    "\n",
    "Every input feature gets a weight, and the weights should be such that the input provides the likelihood of the positive class given the input feature values (optimization problem: fix the weights).\n",
    "\n",
    "z (**Net Input**) = $\\sum_{i=1}^{n} w_i * x_i$  (The $b$ we had in linear regression is in the following figure $w_0$ which has an associated $x_0$ which is always equal to 1).\n",
    "\n",
    "P(y=1 | X) = sigmoid(z) = $\\frac{1}{1 + e^{-z}}$ (take the input, i.e., sum of products of weights and input values, and apply the **sigmoid function** to it)\n",
    "\n",
    "The sigmoid function is a way to flatten the net input to a value between 0 and 1.\n",
    "\n",
    "In a final step, a **threshold** is applied: if the sigmoid is equal to or larger than 0, the decision is class 1, otherwise class 0.\n",
    "\n",
    "As a **cost function** to be minimized, we use the Log-Loss, or binary cross-entropy, that measures how well the model's predictions match the true labels in the training data: \n",
    "- Log-Loss = $\\sum_{i=1}^n - (y_i * \\textrm{log}(p_i) + (1-y_i)*\\textrm{log}(1-p_i))$ where $p_i$ is the prediction (f(X)) and $y_i$ the real output\n",
    "- This reduces to $-\\textrm{log}(p_i)$ if $y=1$ and to $-\\textrm{log}(1-p_i)$ if $y=0$ \n",
    "\n",
    "By minimizing Log-Loss, we maximize the likelihood of our training data data given the parameters, gradient descent, for example, can be used here. \n",
    "\n",
    "Finally, the interpretation of trained weights in Logistic Regression is not as straightforward as for linear regression, because of the thresholding.\n",
    "- Optional: see https://mlu-explain.github.io/logistic-regression/ (near the end).\n",
    "\n",
    "**Multiclass logistic regression** is a natural extension of the binary case, using the softmax function to generalize to multiple classes. It's a popular method for multiclass classification problems due to its simplicity and efficiency. An alternatives is One versus Rest (OvR). We train multiple binary classifiers: one for each class versus the rest. For $K$ classes, we have $K$ binary classifiers. At prediction time, all $K$ classifiers are run on the new test item, and the classifier with the highest probability determines the predicted class.\n"
   ]
  },
  {
   "cell_type": "markdown",
   "id": "1d5b9dac-771d-4d0f-a00e-56dee2be0967",
   "metadata": {},
   "source": [
    "<img src=\"figures/logistic-regression.png\">"
   ]
  },
  {
   "cell_type": "markdown",
   "id": "378f6968-b625-49f6-b6ad-9420e1e3f44a",
   "metadata": {},
   "source": [
    "<img src=\"figures/logistic-function.png\" width=\"500\">"
   ]
  },
  {
   "cell_type": "markdown",
   "id": "91f8b59d-dcef-4628-9042-e446337bc00c",
   "metadata": {
    "tags": []
   },
   "source": [
    "## ML Experiment Pipeline\n",
    "\n",
    "In this notebook we look at a typical pipeline on the titanic dataset."
   ]
  },
  {
   "cell_type": "code",
   "execution_count": 6,
   "id": "b8ffc338-0eb1-44a5-b4d6-7faf381e630d",
   "metadata": {},
   "outputs": [
    {
     "name": "stdout",
     "output_type": "stream",
     "text": [
      "1.2.2\n"
     ]
    }
   ],
   "source": [
    "import pandas as pd\n",
    "import numpy as np\n",
    "import matplotlib.pyplot as plt\n",
    "%matplotlib inline\n",
    "import sklearn \n",
    "print(sklearn.__version__)"
   ]
  },
  {
   "cell_type": "markdown",
   "id": "b507d145-439a-49f0-8ffe-4d341f3ece2f",
   "metadata": {
    "tags": []
   },
   "source": [
    "## The Titanic Data"
   ]
  },
  {
   "cell_type": "markdown",
   "id": "2af62e4e-2b25-439d-a21f-56c8700cecab",
   "metadata": {},
   "source": [
    "We load the Titanic dataset from Kaggle (only the training data, test does not contain gold standard data)\n",
    "\n",
    "See: https://www.kaggle.com/c/titanic/data\n",
    "\n",
    "The input features / variables\n",
    "\n",
    "- Passengerid\n",
    "- Survived (0 = No, 1 = Yes)\n",
    "- Pclass (Ticket class): 1 = 1st (upperclass), 2 = 2nd (middle class), 3 = 3rd (lower class)\n",
    "- Name\n",
    "- Sex\n",
    "- Age (in years); fractional when < 1\n",
    "- Sibsp (number of siblings / spouses aboard the Titanic)\n",
    "- Parch (number of parents / children aboard the Titanic)\n",
    "- Ticket (Ticket number)\n",
    "- Fare (Passenger fare)\n",
    "- Cabin (Cabin number)\n",
    "- Embarked (Port of Embarkation): C = Cherbourg, Q = Queenstown, S = Southampton\n",
    "\n",
    "Of the 2,223 passengers on the Titanic, 706 survived (32%).\n",
    "\n",
    "Possible hypotheses to be tested: \"women and children first\"; 3rd class passengers didn't have a chance, etc.\n"
   ]
  },
  {
   "cell_type": "markdown",
   "id": "dc6bcaff-ed25-49e5-9736-34c64db43dba",
   "metadata": {},
   "source": [
    "### 1. Data Analysis"
   ]
  },
  {
   "cell_type": "code",
   "execution_count": 10,
   "id": "88377f22-fe41-4161-88d5-fc895504fa76",
   "metadata": {},
   "outputs": [],
   "source": [
    "# create a dataframe\n",
    "titanic = pd.read_csv(\"data/titanic.csv\")"
   ]
  },
  {
   "cell_type": "code",
   "execution_count": 11,
   "id": "839c31af-6464-42df-a204-83ad7cb4dfea",
   "metadata": {},
   "outputs": [
    {
     "data": {
      "text/html": [
       "<div>\n",
       "<style scoped>\n",
       "    .dataframe tbody tr th:only-of-type {\n",
       "        vertical-align: middle;\n",
       "    }\n",
       "\n",
       "    .dataframe tbody tr th {\n",
       "        vertical-align: top;\n",
       "    }\n",
       "\n",
       "    .dataframe thead th {\n",
       "        text-align: right;\n",
       "    }\n",
       "</style>\n",
       "<table border=\"1\" class=\"dataframe\">\n",
       "  <thead>\n",
       "    <tr style=\"text-align: right;\">\n",
       "      <th></th>\n",
       "      <th>PassengerId</th>\n",
       "      <th>Survived</th>\n",
       "      <th>Pclass</th>\n",
       "      <th>Name</th>\n",
       "      <th>Sex</th>\n",
       "      <th>Age</th>\n",
       "      <th>SibSp</th>\n",
       "      <th>Parch</th>\n",
       "      <th>Ticket</th>\n",
       "      <th>Fare</th>\n",
       "      <th>Cabin</th>\n",
       "      <th>Embarked</th>\n",
       "    </tr>\n",
       "  </thead>\n",
       "  <tbody>\n",
       "    <tr>\n",
       "      <th>0</th>\n",
       "      <td>1</td>\n",
       "      <td>0</td>\n",
       "      <td>3</td>\n",
       "      <td>Braund, Mr. Owen Harris</td>\n",
       "      <td>male</td>\n",
       "      <td>22.0</td>\n",
       "      <td>1</td>\n",
       "      <td>0</td>\n",
       "      <td>A/5 21171</td>\n",
       "      <td>7.2500</td>\n",
       "      <td>NaN</td>\n",
       "      <td>S</td>\n",
       "    </tr>\n",
       "    <tr>\n",
       "      <th>1</th>\n",
       "      <td>2</td>\n",
       "      <td>1</td>\n",
       "      <td>1</td>\n",
       "      <td>Cumings, Mrs. John Bradley (Florence Briggs Th...</td>\n",
       "      <td>female</td>\n",
       "      <td>38.0</td>\n",
       "      <td>1</td>\n",
       "      <td>0</td>\n",
       "      <td>PC 17599</td>\n",
       "      <td>71.2833</td>\n",
       "      <td>C85</td>\n",
       "      <td>C</td>\n",
       "    </tr>\n",
       "    <tr>\n",
       "      <th>2</th>\n",
       "      <td>3</td>\n",
       "      <td>1</td>\n",
       "      <td>3</td>\n",
       "      <td>Heikkinen, Miss. Laina</td>\n",
       "      <td>female</td>\n",
       "      <td>26.0</td>\n",
       "      <td>0</td>\n",
       "      <td>0</td>\n",
       "      <td>STON/O2. 3101282</td>\n",
       "      <td>7.9250</td>\n",
       "      <td>NaN</td>\n",
       "      <td>S</td>\n",
       "    </tr>\n",
       "    <tr>\n",
       "      <th>3</th>\n",
       "      <td>4</td>\n",
       "      <td>1</td>\n",
       "      <td>1</td>\n",
       "      <td>Futrelle, Mrs. Jacques Heath (Lily May Peel)</td>\n",
       "      <td>female</td>\n",
       "      <td>35.0</td>\n",
       "      <td>1</td>\n",
       "      <td>0</td>\n",
       "      <td>113803</td>\n",
       "      <td>53.1000</td>\n",
       "      <td>C123</td>\n",
       "      <td>S</td>\n",
       "    </tr>\n",
       "    <tr>\n",
       "      <th>4</th>\n",
       "      <td>5</td>\n",
       "      <td>0</td>\n",
       "      <td>3</td>\n",
       "      <td>Allen, Mr. William Henry</td>\n",
       "      <td>male</td>\n",
       "      <td>35.0</td>\n",
       "      <td>0</td>\n",
       "      <td>0</td>\n",
       "      <td>373450</td>\n",
       "      <td>8.0500</td>\n",
       "      <td>NaN</td>\n",
       "      <td>S</td>\n",
       "    </tr>\n",
       "  </tbody>\n",
       "</table>\n",
       "</div>"
      ],
      "text/plain": [
       "   PassengerId  Survived  Pclass  \\\n",
       "0            1         0       3   \n",
       "1            2         1       1   \n",
       "2            3         1       3   \n",
       "3            4         1       1   \n",
       "4            5         0       3   \n",
       "\n",
       "                                                Name     Sex   Age  SibSp  \\\n",
       "0                            Braund, Mr. Owen Harris    male  22.0      1   \n",
       "1  Cumings, Mrs. John Bradley (Florence Briggs Th...  female  38.0      1   \n",
       "2                             Heikkinen, Miss. Laina  female  26.0      0   \n",
       "3       Futrelle, Mrs. Jacques Heath (Lily May Peel)  female  35.0      1   \n",
       "4                           Allen, Mr. William Henry    male  35.0      0   \n",
       "\n",
       "   Parch            Ticket     Fare Cabin Embarked  \n",
       "0      0         A/5 21171   7.2500   NaN        S  \n",
       "1      0          PC 17599  71.2833   C85        C  \n",
       "2      0  STON/O2. 3101282   7.9250   NaN        S  \n",
       "3      0            113803  53.1000  C123        S  \n",
       "4      0            373450   8.0500   NaN        S  "
      ]
     },
     "execution_count": 11,
     "metadata": {},
     "output_type": "execute_result"
    }
   ],
   "source": [
    "titanic.head()"
   ]
  },
  {
   "cell_type": "code",
   "execution_count": 12,
   "id": "6ef324bd-7316-4e48-8aac-f704999ad025",
   "metadata": {},
   "outputs": [
    {
     "data": {
      "text/plain": [
       "(891, 12)"
      ]
     },
     "execution_count": 12,
     "metadata": {},
     "output_type": "execute_result"
    }
   ],
   "source": [
    "titanic.shape"
   ]
  },
  {
   "cell_type": "markdown",
   "id": "8d9ce388-3655-4f9f-92fa-b5cbb6c313c1",
   "metadata": {},
   "source": [
    "An important part of Machine Learning is knowing your data. Where does it come from, how was it collected, how reliable is the provenance? What do the different features mean, which data type do the features have?\n",
    "\n",
    "Next is the more technical analysis of the data: what are the minimal and maximal values and other statistical properties, which features correlate with each other, which with the output class, how are the different features distributed? What insights does visualisation give us? \n",
    "\n",
    "Are there any duplicate rows (examples), are there any missing values? If so what do we do with them?"
   ]
  },
  {
   "cell_type": "code",
   "execution_count": 14,
   "id": "c290dc4a-d045-424e-b7f6-650e7781694d",
   "metadata": {},
   "outputs": [
    {
     "data": {
      "text/plain": [
       "Sex\n",
       "male      577\n",
       "female    314\n",
       "Name: count, dtype: int64"
      ]
     },
     "execution_count": 14,
     "metadata": {},
     "output_type": "execute_result"
    }
   ],
   "source": [
    "titanic.Sex.value_counts() # Use value_counts() to check distributions of feature values"
   ]
  },
  {
   "cell_type": "code",
   "execution_count": 15,
   "id": "91920dbe-7c4c-40a8-b66a-ac8b9d2fe8f7",
   "metadata": {},
   "outputs": [
    {
     "data": {
      "text/plain": [
       "Survived\n",
       "0    0.616162\n",
       "1    0.383838\n",
       "Name: proportion, dtype: float64"
      ]
     },
     "execution_count": 15,
     "metadata": {},
     "output_type": "execute_result"
    }
   ],
   "source": [
    "titanic.Survived.value_counts(normalize=True) # express as percentages"
   ]
  },
  {
   "cell_type": "code",
   "execution_count": 16,
   "id": "ba54fe56-0555-460d-9cea-f58306a3b5b8",
   "metadata": {},
   "outputs": [
    {
     "data": {
      "text/html": [
       "<div>\n",
       "<style scoped>\n",
       "    .dataframe tbody tr th:only-of-type {\n",
       "        vertical-align: middle;\n",
       "    }\n",
       "\n",
       "    .dataframe tbody tr th {\n",
       "        vertical-align: top;\n",
       "    }\n",
       "\n",
       "    .dataframe thead th {\n",
       "        text-align: right;\n",
       "    }\n",
       "</style>\n",
       "<table border=\"1\" class=\"dataframe\">\n",
       "  <thead>\n",
       "    <tr style=\"text-align: right;\">\n",
       "      <th></th>\n",
       "      <th>PassengerId</th>\n",
       "      <th>Survived</th>\n",
       "      <th>Pclass</th>\n",
       "      <th>Name</th>\n",
       "      <th>Sex</th>\n",
       "      <th>Age</th>\n",
       "      <th>SibSp</th>\n",
       "      <th>Parch</th>\n",
       "      <th>Ticket</th>\n",
       "      <th>Fare</th>\n",
       "      <th>Cabin</th>\n",
       "      <th>Embarked</th>\n",
       "    </tr>\n",
       "  </thead>\n",
       "  <tbody>\n",
       "    <tr>\n",
       "      <th>0</th>\n",
       "      <td>1</td>\n",
       "      <td>0</td>\n",
       "      <td>3</td>\n",
       "      <td>Braund, Mr. Owen Harris</td>\n",
       "      <td>male</td>\n",
       "      <td>22.0</td>\n",
       "      <td>1</td>\n",
       "      <td>0</td>\n",
       "      <td>A/5 21171</td>\n",
       "      <td>7.2500</td>\n",
       "      <td>NaN</td>\n",
       "      <td>S</td>\n",
       "    </tr>\n",
       "    <tr>\n",
       "      <th>1</th>\n",
       "      <td>2</td>\n",
       "      <td>1</td>\n",
       "      <td>1</td>\n",
       "      <td>Cumings, Mrs. John Bradley (Florence Briggs Th...</td>\n",
       "      <td>female</td>\n",
       "      <td>38.0</td>\n",
       "      <td>1</td>\n",
       "      <td>0</td>\n",
       "      <td>PC 17599</td>\n",
       "      <td>71.2833</td>\n",
       "      <td>C85</td>\n",
       "      <td>C</td>\n",
       "    </tr>\n",
       "    <tr>\n",
       "      <th>2</th>\n",
       "      <td>3</td>\n",
       "      <td>1</td>\n",
       "      <td>3</td>\n",
       "      <td>Heikkinen, Miss. Laina</td>\n",
       "      <td>female</td>\n",
       "      <td>26.0</td>\n",
       "      <td>0</td>\n",
       "      <td>0</td>\n",
       "      <td>STON/O2. 3101282</td>\n",
       "      <td>7.9250</td>\n",
       "      <td>NaN</td>\n",
       "      <td>S</td>\n",
       "    </tr>\n",
       "    <tr>\n",
       "      <th>3</th>\n",
       "      <td>4</td>\n",
       "      <td>1</td>\n",
       "      <td>1</td>\n",
       "      <td>Futrelle, Mrs. Jacques Heath (Lily May Peel)</td>\n",
       "      <td>female</td>\n",
       "      <td>35.0</td>\n",
       "      <td>1</td>\n",
       "      <td>0</td>\n",
       "      <td>113803</td>\n",
       "      <td>53.1000</td>\n",
       "      <td>C123</td>\n",
       "      <td>S</td>\n",
       "    </tr>\n",
       "    <tr>\n",
       "      <th>4</th>\n",
       "      <td>5</td>\n",
       "      <td>0</td>\n",
       "      <td>3</td>\n",
       "      <td>Allen, Mr. William Henry</td>\n",
       "      <td>male</td>\n",
       "      <td>35.0</td>\n",
       "      <td>0</td>\n",
       "      <td>0</td>\n",
       "      <td>373450</td>\n",
       "      <td>8.0500</td>\n",
       "      <td>NaN</td>\n",
       "      <td>S</td>\n",
       "    </tr>\n",
       "  </tbody>\n",
       "</table>\n",
       "</div>"
      ],
      "text/plain": [
       "   PassengerId  Survived  Pclass  \\\n",
       "0            1         0       3   \n",
       "1            2         1       1   \n",
       "2            3         1       3   \n",
       "3            4         1       1   \n",
       "4            5         0       3   \n",
       "\n",
       "                                                Name     Sex   Age  SibSp  \\\n",
       "0                            Braund, Mr. Owen Harris    male  22.0      1   \n",
       "1  Cumings, Mrs. John Bradley (Florence Briggs Th...  female  38.0      1   \n",
       "2                             Heikkinen, Miss. Laina  female  26.0      0   \n",
       "3       Futrelle, Mrs. Jacques Heath (Lily May Peel)  female  35.0      1   \n",
       "4                           Allen, Mr. William Henry    male  35.0      0   \n",
       "\n",
       "   Parch            Ticket     Fare Cabin Embarked  \n",
       "0      0         A/5 21171   7.2500   NaN        S  \n",
       "1      0          PC 17599  71.2833   C85        C  \n",
       "2      0  STON/O2. 3101282   7.9250   NaN        S  \n",
       "3      0            113803  53.1000  C123        S  \n",
       "4      0            373450   8.0500   NaN        S  "
      ]
     },
     "execution_count": 16,
     "metadata": {},
     "output_type": "execute_result"
    }
   ],
   "source": [
    "titanic.head()"
   ]
  },
  {
   "cell_type": "code",
   "execution_count": 17,
   "id": "86538044-ed79-46c3-82f0-b3f86ed581e8",
   "metadata": {},
   "outputs": [
    {
     "data": {
      "image/png": "[encoded data removed]",
      "text/plain": [
       "<Figure size 640x480 with 1 Axes>"
      ]
     },
     "metadata": {},
     "output_type": "display_data"
    }
   ],
   "source": [
    "titanic[['Age']].boxplot();  # Visualize boxplots"
   ]
  },
  {
   "cell_type": "code",
   "execution_count": 18,
   "id": "b6af19c0-6eda-4184-9a6c-904e846fe1a1",
   "metadata": {},
   "outputs": [
    {
     "data": {
      "image/png": "[encoded data removed]",
      "text/plain": [
       "<Figure size 640x480 with 1 Axes>"
      ]
     },
     "metadata": {},
     "output_type": "display_data"
    }
   ],
   "source": [
    "titanic[['Age']].hist();  # Visualize histograms"
   ]
  },
  {
   "cell_type": "code",
   "execution_count": 19,
   "id": "44f731c1-b54e-4685-a485-51ea63a1b7b2",
   "metadata": {},
   "outputs": [],
   "source": [
    "# Also remember to explore with .describe .info pd.plotting etc."
   ]
  },
  {
   "cell_type": "code",
   "execution_count": 20,
   "id": "0581837d-ee12-4871-aada-056c8bb9723f",
   "metadata": {},
   "outputs": [
    {
     "data": {
      "image/png": "[encoded data removed]",
      "text/plain": [
       "<Figure size 1200x800 with 2 Axes>"
      ]
     },
     "metadata": {},
     "output_type": "display_data"
    }
   ],
   "source": [
    "import seaborn as sns\n",
    "\n",
    "corr_matrix = titanic.corr(numeric_only=True) # inspect correlations with the output variable and among the input features\n",
    "\n",
    "plt.figure(figsize=(12, 8))\n",
    "sns.heatmap(corr_matrix, annot=True, cmap='coolwarm', linewidths=0.5, linecolor='black')\n",
    "plt.title('Correlation Heatmap')\n",
    "plt.show()\n",
    "\n"
   ]
  },
  {
   "cell_type": "code",
   "execution_count": 21,
   "id": "aecca127-a48f-4474-85ae-6a6aa4ea418d",
   "metadata": {},
   "outputs": [
    {
     "data": {
      "text/plain": [
       "PassengerId   -0.005007\n",
       "Survived       1.000000\n",
       "Pclass        -0.338481\n",
       "Age           -0.077221\n",
       "SibSp         -0.035322\n",
       "Parch          0.081629\n",
       "Fare           0.257307\n",
       "Name: Survived, dtype: float64"
      ]
     },
     "execution_count": 21,
     "metadata": {},
     "output_type": "execute_result"
    }
   ],
   "source": [
    "titanic.corr(numeric_only=True)['Survived'] # when only interested in correlations with Survived"
   ]
  },
  {
   "cell_type": "markdown",
   "id": "ca080275-210e-4fe3-9c2b-229d76a514c1",
   "metadata": {},
   "source": [
    "### Check for Duplicates\n",
    "\n",
    "https://pandas.pydata.org/docs/reference/api/pandas.DataFrame.duplicated.html"
   ]
  },
  {
   "cell_type": "code",
   "execution_count": 23,
   "id": "7ff06993-0bcf-4467-b27f-a571c01e1dd4",
   "metadata": {},
   "outputs": [
    {
     "data": {
      "text/plain": [
       "0"
      ]
     },
     "execution_count": 23,
     "metadata": {},
     "output_type": "execute_result"
    }
   ],
   "source": [
    "titanic.duplicated().sum()"
   ]
  },
  {
   "cell_type": "markdown",
   "id": "01560e10-4af2-45a4-a973-e2d3f203008a",
   "metadata": {},
   "source": [
    "### Check for Missing Values"
   ]
  },
  {
   "cell_type": "code",
   "execution_count": 25,
   "id": "4ea85397-5336-4036-8959-c242729c5335",
   "metadata": {},
   "outputs": [
    {
     "data": {
      "text/plain": [
       "PassengerId      0\n",
       "Survived         0\n",
       "Pclass           0\n",
       "Name             0\n",
       "Sex              0\n",
       "Age            177\n",
       "SibSp            0\n",
       "Parch            0\n",
       "Ticket           0\n",
       "Fare             0\n",
       "Cabin          687\n",
       "Embarked         2\n",
       "dtype: int64"
      ]
     },
     "execution_count": 25,
     "metadata": {},
     "output_type": "execute_result"
    }
   ],
   "source": [
    "# Are there any missing values?\n",
    "titanic.isnull().sum()"
   ]
  },
  {
   "cell_type": "markdown",
   "id": "56873f8b-c582-483b-82b5-0fc785489b7d",
   "metadata": {},
   "source": [
    "`Cabin`, `Age` and `Embarked` have missing values, `Cabin` even predominantly so, we will just not use it. For `Age` we will try imputation, and as `Embarked` has only 2 cases of missing values, we will remove the rows that contain them. See below. `PassengerId`, `Name`, `Ticket` (contains no useful info) will not be used."
   ]
  },
  {
   "cell_type": "markdown",
   "id": "d6b592ed-59e1-4e75-a7c3-ace12e75fc8d",
   "metadata": {},
   "source": [
    "### 2. Set Up Train and Test Partitions\n",
    "#### Train-test insensitive preprocessing"
   ]
  },
  {
   "cell_type": "code",
   "execution_count": 28,
   "id": "9a5babf8-4070-49d6-a4a9-89fb558b9f51",
   "metadata": {},
   "outputs": [
    {
     "data": {
      "text/plain": [
       "(891, 12)"
      ]
     },
     "execution_count": 28,
     "metadata": {},
     "output_type": "execute_result"
    }
   ],
   "source": [
    "# For clarity we start here from scratch again to have all data manipulations together\n",
    "\n",
    "titanic = pd.read_csv(\"data/titanic.csv\")\n",
    "titanic.shape"
   ]
  },
  {
   "cell_type": "code",
   "execution_count": 29,
   "id": "f4b72793-c79e-4fa5-a305-6e25550540dc",
   "metadata": {},
   "outputs": [
    {
     "data": {
      "text/plain": [
       "(889, 8)"
      ]
     },
     "execution_count": 29,
     "metadata": {},
     "output_type": "execute_result"
    }
   ],
   "source": [
    "# Convert categorical columns 'Sex' and 'Embarked' to numeric values\n",
    "titanic['Sex'] = titanic['Sex'].map({'male': 0, 'female': 1})\n",
    "\n",
    "# Use categorical encoding for 'Embarked'\n",
    "titanic['Embarked'] = titanic['Embarked'].map({'S': 0, 'C': 1, 'Q': 2})\n",
    "\n",
    "# Drop rows with missing values in 'Embarked', and irrelevant columns\n",
    "titanic.dropna(subset=['Embarked'], inplace=True)\n",
    "titanic.drop(columns=['Cabin', 'PassengerId', 'Name', 'Ticket'], inplace=True)\n",
    "\n",
    "# Display the shape of the cleaned dataset\n",
    "titanic.shape"
   ]
  },
  {
   "cell_type": "code",
   "execution_count": 30,
   "id": "dfa8412e-89b1-40a5-95a0-396206c4b4d8",
   "metadata": {},
   "outputs": [
    {
     "data": {
      "text/html": [
       "<div>\n",
       "<style scoped>\n",
       "    .dataframe tbody tr th:only-of-type {\n",
       "        vertical-align: middle;\n",
       "    }\n",
       "\n",
       "    .dataframe tbody tr th {\n",
       "        vertical-align: top;\n",
       "    }\n",
       "\n",
       "    .dataframe thead th {\n",
       "        text-align: right;\n",
       "    }\n",
       "</style>\n",
       "<table border=\"1\" class=\"dataframe\">\n",
       "  <thead>\n",
       "    <tr style=\"text-align: right;\">\n",
       "      <th></th>\n",
       "      <th>Survived</th>\n",
       "      <th>Pclass</th>\n",
       "      <th>Sex</th>\n",
       "      <th>Age</th>\n",
       "      <th>SibSp</th>\n",
       "      <th>Parch</th>\n",
       "      <th>Fare</th>\n",
       "      <th>Embarked</th>\n",
       "    </tr>\n",
       "  </thead>\n",
       "  <tbody>\n",
       "    <tr>\n",
       "      <th>0</th>\n",
       "      <td>0</td>\n",
       "      <td>3</td>\n",
       "      <td>0</td>\n",
       "      <td>22.0</td>\n",
       "      <td>1</td>\n",
       "      <td>0</td>\n",
       "      <td>7.2500</td>\n",
       "      <td>0.0</td>\n",
       "    </tr>\n",
       "    <tr>\n",
       "      <th>1</th>\n",
       "      <td>1</td>\n",
       "      <td>1</td>\n",
       "      <td>1</td>\n",
       "      <td>38.0</td>\n",
       "      <td>1</td>\n",
       "      <td>0</td>\n",
       "      <td>71.2833</td>\n",
       "      <td>1.0</td>\n",
       "    </tr>\n",
       "    <tr>\n",
       "      <th>2</th>\n",
       "      <td>1</td>\n",
       "      <td>3</td>\n",
       "      <td>1</td>\n",
       "      <td>26.0</td>\n",
       "      <td>0</td>\n",
       "      <td>0</td>\n",
       "      <td>7.9250</td>\n",
       "      <td>0.0</td>\n",
       "    </tr>\n",
       "    <tr>\n",
       "      <th>3</th>\n",
       "      <td>1</td>\n",
       "      <td>1</td>\n",
       "      <td>1</td>\n",
       "      <td>35.0</td>\n",
       "      <td>1</td>\n",
       "      <td>0</td>\n",
       "      <td>53.1000</td>\n",
       "      <td>0.0</td>\n",
       "    </tr>\n",
       "    <tr>\n",
       "      <th>4</th>\n",
       "      <td>0</td>\n",
       "      <td>3</td>\n",
       "      <td>0</td>\n",
       "      <td>35.0</td>\n",
       "      <td>0</td>\n",
       "      <td>0</td>\n",
       "      <td>8.0500</td>\n",
       "      <td>0.0</td>\n",
       "    </tr>\n",
       "  </tbody>\n",
       "</table>\n",
       "</div>"
      ],
      "text/plain": [
       "   Survived  Pclass  Sex   Age  SibSp  Parch     Fare  Embarked\n",
       "0         0       3    0  22.0      1      0   7.2500       0.0\n",
       "1         1       1    1  38.0      1      0  71.2833       1.0\n",
       "2         1       3    1  26.0      0      0   7.9250       0.0\n",
       "3         1       1    1  35.0      1      0  53.1000       0.0\n",
       "4         0       3    0  35.0      0      0   8.0500       0.0"
      ]
     },
     "execution_count": 30,
     "metadata": {},
     "output_type": "execute_result"
    }
   ],
   "source": [
    "titanic.head()"
   ]
  },
  {
   "cell_type": "code",
   "execution_count": 31,
   "id": "b9db4eb3-6f2d-4188-8fde-b1db87384e98",
   "metadata": {},
   "outputs": [],
   "source": [
    "# We dump the preprocessed dataset at this point for future use\n",
    "titanic.to_csv(\"data/titanic_processed.csv\", index=False)"
   ]
  },
  {
   "cell_type": "code",
   "execution_count": 32,
   "id": "9ff04348-6e8d-4520-93b2-755434d7ef78",
   "metadata": {},
   "outputs": [
    {
     "data": {
      "text/plain": [
       "((889, 7), (889,))"
      ]
     },
     "execution_count": 32,
     "metadata": {},
     "output_type": "execute_result"
    }
   ],
   "source": [
    "# Let's define our X and y\n",
    "y = titanic.Survived\n",
    "X = titanic.drop(columns=['Survived'])\n",
    "X.shape, y.shape"
   ]
  },
  {
   "cell_type": "code",
   "execution_count": 33,
   "id": "8fe91c77-d3e8-4bb9-a068-8b928a4ac023",
   "metadata": {},
   "outputs": [
    {
     "data": {
      "text/plain": [
       "((711, 7), (178, 7), (711,), (178,))"
      ]
     },
     "execution_count": 33,
     "metadata": {},
     "output_type": "execute_result"
    }
   ],
   "source": [
    "from sklearn.model_selection import train_test_split\n",
    "\n",
    "X_train, X_test, y_train, y_test = train_test_split(X, y, test_size=.20, shuffle=True, random_state=42)\n",
    "X_train.shape, X_test.shape, y_train.shape, y_test.shape"
   ]
  },
  {
   "cell_type": "markdown",
   "id": "8f11d979-0046-44b9-aa25-825aa46cead6",
   "metadata": {},
   "source": [
    "We conceptually lock away the test data (X_test and y_test) and will return only to it to test our final model. A simple way of thinking about this: train data is the past, you can do whatever you want with it; test data represents the future, and you can't use the future to make your model, only the past."
   ]
  },
  {
   "cell_type": "markdown",
   "id": "6164feb0-7f71-4449-83a5-55b362305393",
   "metadata": {},
   "source": [
    "#### Train-test sensitive preprocessing\n",
    "\n",
    "#### Imputing Missing Values"
   ]
  },
  {
   "cell_type": "code",
   "execution_count": 36,
   "id": "e5ecd669-8247-4f35-99a7-c757e8f527bb",
   "metadata": {},
   "outputs": [
    {
     "data": {
      "text/html": [
       "<div>\n",
       "<style scoped>\n",
       "    .dataframe tbody tr th:only-of-type {\n",
       "        vertical-align: middle;\n",
       "    }\n",
       "\n",
       "    .dataframe tbody tr th {\n",
       "        vertical-align: top;\n",
       "    }\n",
       "\n",
       "    .dataframe thead th {\n",
       "        text-align: right;\n",
       "    }\n",
       "</style>\n",
       "<table border=\"1\" class=\"dataframe\">\n",
       "  <thead>\n",
       "    <tr style=\"text-align: right;\">\n",
       "      <th></th>\n",
       "      <th>Pclass</th>\n",
       "      <th>Sex</th>\n",
       "      <th>Age</th>\n",
       "      <th>SibSp</th>\n",
       "      <th>Parch</th>\n",
       "      <th>Fare</th>\n",
       "      <th>Embarked</th>\n",
       "    </tr>\n",
       "  </thead>\n",
       "  <tbody>\n",
       "    <tr>\n",
       "      <th>708</th>\n",
       "      <td>1</td>\n",
       "      <td>1</td>\n",
       "      <td>22.0</td>\n",
       "      <td>0</td>\n",
       "      <td>0</td>\n",
       "      <td>151.5500</td>\n",
       "      <td>0.0</td>\n",
       "    </tr>\n",
       "    <tr>\n",
       "      <th>240</th>\n",
       "      <td>3</td>\n",
       "      <td>1</td>\n",
       "      <td>NaN</td>\n",
       "      <td>1</td>\n",
       "      <td>0</td>\n",
       "      <td>14.4542</td>\n",
       "      <td>1.0</td>\n",
       "    </tr>\n",
       "    <tr>\n",
       "      <th>382</th>\n",
       "      <td>3</td>\n",
       "      <td>0</td>\n",
       "      <td>32.0</td>\n",
       "      <td>0</td>\n",
       "      <td>0</td>\n",
       "      <td>7.9250</td>\n",
       "      <td>0.0</td>\n",
       "    </tr>\n",
       "    <tr>\n",
       "      <th>792</th>\n",
       "      <td>3</td>\n",
       "      <td>1</td>\n",
       "      <td>NaN</td>\n",
       "      <td>8</td>\n",
       "      <td>2</td>\n",
       "      <td>69.5500</td>\n",
       "      <td>0.0</td>\n",
       "    </tr>\n",
       "    <tr>\n",
       "      <th>683</th>\n",
       "      <td>3</td>\n",
       "      <td>0</td>\n",
       "      <td>14.0</td>\n",
       "      <td>5</td>\n",
       "      <td>2</td>\n",
       "      <td>46.9000</td>\n",
       "      <td>0.0</td>\n",
       "    </tr>\n",
       "  </tbody>\n",
       "</table>\n",
       "</div>"
      ],
      "text/plain": [
       "     Pclass  Sex   Age  SibSp  Parch      Fare  Embarked\n",
       "708       1    1  22.0      0      0  151.5500       0.0\n",
       "240       3    1   NaN      1      0   14.4542       1.0\n",
       "382       3    0  32.0      0      0    7.9250       0.0\n",
       "792       3    1   NaN      8      2   69.5500       0.0\n",
       "683       3    0  14.0      5      2   46.9000       0.0"
      ]
     },
     "execution_count": 36,
     "metadata": {},
     "output_type": "execute_result"
    }
   ],
   "source": [
    "X_train.head()"
   ]
  },
  {
   "cell_type": "code",
   "execution_count": 37,
   "id": "9915933e-b297-443d-894a-b03d653387a0",
   "metadata": {},
   "outputs": [
    {
     "data": {
      "text/plain": [
       "177"
      ]
     },
     "execution_count": 37,
     "metadata": {},
     "output_type": "execute_result"
    }
   ],
   "source": [
    "# As the algorithm will protest on missing values we have to fix this first for the Age missing values\n",
    "titanic.Age.isnull().sum()"
   ]
  },
  {
   "cell_type": "markdown",
   "id": "7d29c3c1-55d5-4204-858d-1080464839ed",
   "metadata": {},
   "source": [
    "What can we do about the missing values? \n",
    "\n",
    "There are basically two ways to handle this:\n",
    "- Throw out those rows or columns which have missing values (as with Cabin and Embarked)\n",
    "\n",
    "Or: we can *guess* values for the missing values. \n",
    "\n",
    "- Take the mean or median of the values for that feature (univariate, simple imputer)\n",
    "- Take into account features correlated with age to guess the value (multivariate, e.g. knn imputer). In this case, the samples most similar to the rest of the numeric feature values for a row with a missing value will be used to extrapolate from.\n",
    "\n",
    "https://scikit-learn.org/stable/modules/generated/sklearn.impute.KNNImputer.html\n",
    "\n",
    "https://scikit-learn.org/stable/modules/generated/sklearn.impute.SimpleImputer.html"
   ]
  },
  {
   "cell_type": "code",
   "execution_count": 39,
   "id": "96ed7094-3f65-4098-87ea-52e916d5adb1",
   "metadata": {},
   "outputs": [],
   "source": [
    "from sklearn.impute import KNNImputer"
   ]
  },
  {
   "cell_type": "code",
   "execution_count": 40,
   "id": "d0019058-400b-4913-a7b4-38c0e543e5a9",
   "metadata": {},
   "outputs": [
    {
     "data": {
      "text/plain": [
       "{'add_indicator': False,\n",
       " 'copy': True,\n",
       " 'keep_empty_features': False,\n",
       " 'metric': 'nan_euclidean',\n",
       " 'missing_values': nan,\n",
       " 'n_neighbors': 5,\n",
       " 'weights': 'uniform'}"
      ]
     },
     "execution_count": 40,
     "metadata": {},
     "output_type": "execute_result"
    }
   ],
   "source": [
    "imp = KNNImputer()\n",
    "imp.get_params()"
   ]
  },
  {
   "cell_type": "code",
   "execution_count": 41,
   "id": "d535051d-71ce-4300-9cc6-bef9957a8a79",
   "metadata": {},
   "outputs": [],
   "source": [
    "imp.fit(X_train) # We use only the information in train to fit the model\n",
    "X_train = imp.transform(X_train) # apply to train\n",
    "X_test = imp.transform(X_test) # apply to test"
   ]
  },
  {
   "cell_type": "code",
   "execution_count": 42,
   "id": "c1040d0b-42ab-42f8-b525-99edf2e33afd",
   "metadata": {},
   "outputs": [
    {
     "data": {
      "text/plain": [
       "array([[  1.    ,   1.    ,  22.    ,   0.    ,   0.    , 151.55  ,\n",
       "          0.    ],\n",
       "       [  3.    ,   1.    ,  26.6   ,   1.    ,   0.    ,  14.4542,\n",
       "          1.    ],\n",
       "       [  3.    ,   0.    ,  32.    ,   0.    ,   0.    ,   7.925 ,\n",
       "          0.    ],\n",
       "       [  3.    ,   1.    ,  26.8   ,   8.    ,   2.    ,  69.55  ,\n",
       "          0.    ],\n",
       "       [  3.    ,   0.    ,  14.    ,   5.    ,   2.    ,  46.9   ,\n",
       "          0.    ]])"
      ]
     },
     "execution_count": 42,
     "metadata": {},
     "output_type": "execute_result"
    }
   ],
   "source": [
    "X_train[:5] # 26.6 and 26.8 have been imputed"
   ]
  },
  {
   "cell_type": "markdown",
   "id": "456db459-c276-41da-95a2-759bd756fa28",
   "metadata": {},
   "source": [
    "#### Scaling Numeric Values\n",
    "\n",
    "If different features have different ranges of values, there will be an implicit weighting of features that may not be appropriate. E.g. The `Age` and `Fare` features with their large values compared to the other features, could have more weight in the computation than they deserve. \n",
    "\n",
    "In the minmaxscaler (normalization) values are shifted and rescaled so that they end up ranging between 0 to 1. We do this by subtracting the min value and dividing by the max minus the min.\n",
    "\n",
    "The standardscaler (standardization) transforms the values of each feature to a scaled version (z-score: the value minus the mean divided by the sd: this gives us comparable distributions of values for all features with mean 0 and sd 1).\n",
    "\n",
    "We have to do this before we start experimenting but *after* splitting the data into train and test because otherwise we can **leak** information from test to train."
   ]
  },
  {
   "cell_type": "code",
   "execution_count": 44,
   "id": "d576290f-31c3-489e-93c2-250f2e78fc08",
   "metadata": {},
   "outputs": [],
   "source": [
    "from sklearn.preprocessing import StandardScaler, MinMaxScaler"
   ]
  },
  {
   "cell_type": "markdown",
   "id": "075494bc-6018-476e-a429-024b0bec2b88",
   "metadata": {},
   "source": [
    "https://scikit-learn.org/stable/modules/generated/sklearn.preprocessing.StandardScaler.html#sklearn.preprocessing.StandardScaler\n",
    "\n",
    "https://scikit-learn.org/stable/modules/generated/sklearn.preprocessing.MinMaxScaler.html#sklearn.preprocessing.MinMaxScaler"
   ]
  },
  {
   "cell_type": "code",
   "execution_count": 46,
   "id": "bfeb58aa-817c-4c5c-ac3f-f2f440de9977",
   "metadata": {},
   "outputs": [],
   "source": [
    "scaler = StandardScaler()\n",
    "X_train = scaler.fit_transform(X_train)\n",
    "X_test = scaler.transform(X_test)\n",
    "\n",
    "# Also try MinMaxScaler!"
   ]
  },
  {
   "cell_type": "code",
   "execution_count": 47,
   "id": "2db56f35-371e-40ea-8585-3aff3c556990",
   "metadata": {},
   "outputs": [
    {
     "data": {
      "text/plain": [
       "array([[-1.58410418,  1.40530972, -0.59236848, -0.47451561, -0.4756437 ,\n",
       "         2.43059683, -0.57163833],\n",
       "       [ 0.8122747 ,  1.40530972, -0.2558813 ,  0.38178033, -0.4756437 ,\n",
       "        -0.35813533,  0.97963973],\n",
       "       [ 0.8122747 , -0.71158691,  0.13912541, -0.47451561, -0.4756437 ,\n",
       "        -0.49094895, -0.57163833],\n",
       "       [ 0.8122747 ,  1.40530972, -0.24125142,  6.37585187,  2.01099358,\n",
       "         0.76259506, -0.57163833],\n",
       "       [ 0.8122747 , -0.71158691, -1.1775636 ,  3.80696406,  2.01099358,\n",
       "         0.30186043, -0.57163833]])"
      ]
     },
     "execution_count": 47,
     "metadata": {},
     "output_type": "execute_result"
    }
   ],
   "source": [
    "X_train[:5]"
   ]
  },
  {
   "cell_type": "markdown",
   "id": "c3c8e685-3e3a-4029-9f01-e78f03e25d62",
   "metadata": {},
   "source": [
    "### 3. Model Construction"
   ]
  },
  {
   "cell_type": "code",
   "execution_count": 49,
   "id": "f5081fdb-a794-4a48-81b6-3e2f73680d7a",
   "metadata": {},
   "outputs": [],
   "source": [
    "# Machine Learning algorithm to be used is logistic regression (binary class Survived to be predicted)\n",
    "from sklearn.linear_model import LogisticRegression  "
   ]
  },
  {
   "cell_type": "markdown",
   "id": "f023fa29-2cb8-4b2d-a12f-a2a9f81fea46",
   "metadata": {},
   "source": [
    "We start with simplest possible experiment. We use all the default settings of the Logistic Regression implementation and fit a model to our X_train and X_test"
   ]
  },
  {
   "cell_type": "markdown",
   "id": "23fddd18-7981-411a-9b2b-4932de0d2350",
   "metadata": {},
   "source": [
    "https://scikit-learn.org/stable/modules/generated/sklearn.linear_model.LogisticRegression.html"
   ]
  },
  {
   "cell_type": "code",
   "execution_count": 52,
   "id": "39d4acff-8dd7-4e47-bbe9-4ec7acef8a46",
   "metadata": {},
   "outputs": [],
   "source": [
    "logreg = LogisticRegression(random_state=42) # random state added to make sure that the experiment is replicable"
   ]
  },
  {
   "cell_type": "code",
   "execution_count": 53,
   "id": "63033da1-09c8-49d8-8b94-948572a29a63",
   "metadata": {},
   "outputs": [
    {
     "data": {
      "text/plain": [
       "{'C': 1.0,\n",
       " 'class_weight': None,\n",
       " 'dual': False,\n",
       " 'fit_intercept': True,\n",
       " 'intercept_scaling': 1,\n",
       " 'l1_ratio': None,\n",
       " 'max_iter': 100,\n",
       " 'multi_class': 'auto',\n",
       " 'n_jobs': None,\n",
       " 'penalty': 'l2',\n",
       " 'random_state': 42,\n",
       " 'solver': 'lbfgs',\n",
       " 'tol': 0.0001,\n",
       " 'verbose': 0,\n",
       " 'warm_start': False}"
      ]
     },
     "execution_count": 53,
     "metadata": {},
     "output_type": "execute_result"
    }
   ],
   "source": [
    "logreg.get_params() # These are the default settings"
   ]
  },
  {
   "cell_type": "markdown",
   "id": "52560c2b-a895-42a0-8bbb-bb5eb3a5fd07",
   "metadata": {
    "tags": []
   },
   "source": [
    "- C: Inverse of regularization strength; smaller values specify stronger regularization.\n",
    "- fit_intercept: Whether to include an intercept in the model.\n",
    "- penalty: Specifies regularization type ('l1', 'l2', 'elasticnet').\n",
    "- solver: Algorithm used for optimization ('lbfgs' is a common choice).\n"
   ]
  },
  {
   "cell_type": "code",
   "execution_count": 55,
   "id": "c1f96584-ce4f-4d99-8fb3-3aef110720c0",
   "metadata": {},
   "outputs": [
    {
     "data": {
      "text/html": [
       "<style>#sk-container-id-1 {color: black;background-color: white;}#sk-container-id-1 pre{padding: 0;}#sk-container-id-1 div.sk-toggleable {background-color: white;}#sk-container-id-1 label.sk-toggleable__label {cursor: pointer;display: block;width: 100%;margin-bottom: 0;padding: 0.3em;box-sizing: border-box;text-align: center;}#sk-container-id-1 label.sk-toggleable__label-arrow:before {content: \"▸\";float: left;margin-right: 0.25em;color: #696969;}#sk-container-id-1 label.sk-toggleable__label-arrow:hover:before {color: black;}#sk-container-id-1 div.sk-estimator:hover label.sk-toggleable__label-arrow:before {color: black;}#sk-container-id-1 div.sk-toggleable__content {max-height: 0;max-width: 0;overflow: hidden;text-align: left;background-color: #f0f8ff;}#sk-container-id-1 div.sk-toggleable__content pre {margin: 0.2em;color: black;border-radius: 0.25em;background-color: #f0f8ff;}#sk-container-id-1 input.sk-toggleable__control:checked~div.sk-toggleable__content {max-height: 200px;max-width: 100%;overflow: auto;}#sk-container-id-1 input.sk-toggleable__control:checked~label.sk-toggleable__label-arrow:before {content: \"▾\";}#sk-container-id-1 div.sk-estimator input.sk-toggleable__control:checked~label.sk-toggleable__label {background-color: #d4ebff;}#sk-container-id-1 div.sk-label input.sk-toggleable__control:checked~label.sk-toggleable__label {background-color: #d4ebff;}#sk-container-id-1 input.sk-hidden--visually {border: 0;clip: rect(1px 1px 1px 1px);clip: rect(1px, 1px, 1px, 1px);height: 1px;margin: -1px;overflow: hidden;padding: 0;position: absolute;width: 1px;}#sk-container-id-1 div.sk-estimator {font-family: monospace;background-color: #f0f8ff;border: 1px dotted black;border-radius: 0.25em;box-sizing: border-box;margin-bottom: 0.5em;}#sk-container-id-1 div.sk-estimator:hover {background-color: #d4ebff;}#sk-container-id-1 div.sk-parallel-item::after {content: \"\";width: 100%;border-bottom: 1px solid gray;flex-grow: 1;}#sk-container-id-1 div.sk-label:hover label.sk-toggleable__label {background-color: #d4ebff;}#sk-container-id-1 div.sk-serial::before {content: \"\";position: absolute;border-left: 1px solid gray;box-sizing: border-box;top: 0;bottom: 0;left: 50%;z-index: 0;}#sk-container-id-1 div.sk-serial {display: flex;flex-direction: column;align-items: center;background-color: white;padding-right: 0.2em;padding-left: 0.2em;position: relative;}#sk-container-id-1 div.sk-item {position: relative;z-index: 1;}#sk-container-id-1 div.sk-parallel {display: flex;align-items: stretch;justify-content: center;background-color: white;position: relative;}#sk-container-id-1 div.sk-item::before, #sk-container-id-1 div.sk-parallel-item::before {content: \"\";position: absolute;border-left: 1px solid gray;box-sizing: border-box;top: 0;bottom: 0;left: 50%;z-index: -1;}#sk-container-id-1 div.sk-parallel-item {display: flex;flex-direction: column;z-index: 1;position: relative;background-color: white;}#sk-container-id-1 div.sk-parallel-item:first-child::after {align-self: flex-end;width: 50%;}#sk-container-id-1 div.sk-parallel-item:last-child::after {align-self: flex-start;width: 50%;}#sk-container-id-1 div.sk-parallel-item:only-child::after {width: 0;}#sk-container-id-1 div.sk-dashed-wrapped {border: 1px dashed gray;margin: 0 0.4em 0.5em 0.4em;box-sizing: border-box;padding-bottom: 0.4em;background-color: white;}#sk-container-id-1 div.sk-label label {font-family: monospace;font-weight: bold;display: inline-block;line-height: 1.2em;}#sk-container-id-1 div.sk-label-container {text-align: center;}#sk-container-id-1 div.sk-container {/* jupyter's `normalize.less` sets `[hidden] { display: none; }` but bootstrap.min.css set `[hidden] { display: none !important; }` so we also need the `!important` here to be able to override the default hidden behavior on the sphinx rendered scikit-learn.org. See: https://github.com/scikit-learn/scikit-learn/issues/21755 */display: inline-block !important;position: relative;}#sk-container-id-1 div.sk-text-repr-fallback {display: none;}</style><div id=\"sk-container-id-1\" class=\"sk-top-container\"><div class=\"sk-text-repr-fallback\"><pre>LogisticRegression(random_state=42)</pre><b>In a Jupyter environment, please rerun this cell to show the HTML representation or trust the notebook. <br />On GitHub, the HTML representation is unable to render, please try loading this page with nbviewer.org.</b></div><div class=\"sk-container\" hidden><div class=\"sk-item\"><div class=\"sk-estimator sk-toggleable\"><input class=\"sk-toggleable__control sk-hidden--visually\" id=\"sk-estimator-id-1\" type=\"checkbox\" checked><label for=\"sk-estimator-id-1\" class=\"sk-toggleable__label sk-toggleable__label-arrow\">LogisticRegression</label><div class=\"sk-toggleable__content\"><pre>LogisticRegression(random_state=42)</pre></div></div></div></div></div>"
      ],
      "text/plain": [
       "LogisticRegression(random_state=42)"
      ]
     },
     "execution_count": 55,
     "metadata": {},
     "output_type": "execute_result"
    }
   ],
   "source": [
    "logreg.fit(X_train, y_train)"
   ]
  },
  {
   "cell_type": "code",
   "execution_count": 56,
   "id": "e8da0d6d-253c-4795-9b07-2f4cbda9eb2c",
   "metadata": {},
   "outputs": [
    {
     "data": {
      "text/plain": [
       "array([[-1.05364193,  1.2482838 , -0.64235427, -0.47246577, -0.04850961,\n",
       "         0.06374837,  0.16420026]])"
      ]
     },
     "execution_count": 56,
     "metadata": {},
     "output_type": "execute_result"
    }
   ],
   "source": [
    "logreg.coef_"
   ]
  },
  {
   "cell_type": "markdown",
   "id": "e74e7af7-e194-4b99-b934-6dee22403065",
   "metadata": {},
   "source": [
    "### 4. Model Evaluation"
   ]
  },
  {
   "cell_type": "code",
   "execution_count": 58,
   "id": "a559a76c-43d7-468a-a518-fb010e0403b6",
   "metadata": {},
   "outputs": [],
   "source": [
    "from sklearn.metrics import classification_report, ConfusionMatrixDisplay"
   ]
  },
  {
   "cell_type": "code",
   "execution_count": 59,
   "id": "684c885e-7ac3-4aee-bb34-ca6029a93df5",
   "metadata": {},
   "outputs": [],
   "source": [
    "y_test_pred = logreg.predict(X_test) # predict output for the test data"
   ]
  },
  {
   "cell_type": "code",
   "execution_count": 60,
   "id": "f52f1fce-9ee4-4777-bf31-2400cad9405e",
   "metadata": {},
   "outputs": [
    {
     "data": {
      "text/plain": [
       "array([0, 1, 1, 0, 1, 1, 0, 0, 1, 1, 0, 1, 0, 0, 0, 0, 0, 0, 0, 0, 0, 1,\n",
       "       0, 0, 0, 0, 0, 1, 0, 0, 1, 1, 0, 0, 0, 0, 1, 1, 0, 0, 0, 0, 0, 0,\n",
       "       1, 1, 0, 0, 0, 1, 1, 1, 0, 0, 1, 1, 0, 0, 0, 0, 1, 0, 1, 0, 1, 0,\n",
       "       0, 0, 1, 1, 0, 0, 0, 1, 1, 1, 0, 0, 0, 0, 0, 1, 1, 1, 0, 0, 0, 0,\n",
       "       0, 0, 1, 0, 0, 0, 0, 0, 0, 0, 1, 0, 0, 1, 0, 0, 1, 0, 1, 1, 1, 0,\n",
       "       0, 1, 0, 1, 0, 0, 0, 0, 1, 0, 1, 1, 0, 0, 1, 1, 0, 1, 0, 0, 1, 0,\n",
       "       0, 0, 1, 1, 0, 1, 0, 1, 1, 0, 1, 0, 1, 1, 0, 1, 0, 0, 0, 1, 0, 1,\n",
       "       0, 1, 0, 0, 0, 1, 1, 1, 1, 0, 0, 0, 1, 0, 0, 1, 0, 1, 0, 0, 0, 1,\n",
       "       1, 1])"
      ]
     },
     "execution_count": 60,
     "metadata": {},
     "output_type": "execute_result"
    }
   ],
   "source": [
    "y_test.values"
   ]
  },
  {
   "cell_type": "code",
   "execution_count": 61,
   "id": "32943a0a-6377-48dc-b233-a57cad5f8a3e",
   "metadata": {},
   "outputs": [
    {
     "data": {
      "text/plain": [
       "array([0, 1, 1, 0, 1, 0, 0, 0, 1, 1, 0, 1, 0, 0, 0, 0, 0, 0, 0, 0, 0, 1,\n",
       "       0, 1, 0, 1, 0, 1, 1, 0, 1, 1, 0, 1, 0, 0, 1, 1, 0, 0, 0, 1, 0, 0,\n",
       "       1, 1, 1, 0, 0, 1, 1, 1, 0, 0, 1, 1, 0, 0, 0, 0, 0, 0, 1, 0, 1, 0,\n",
       "       0, 0, 1, 1, 0, 1, 1, 0, 0, 1, 0, 0, 1, 1, 0, 1, 1, 1, 0, 0, 0, 0,\n",
       "       0, 0, 0, 1, 0, 0, 0, 1, 0, 0, 0, 0, 0, 1, 1, 0, 0, 0, 1, 1, 0, 0,\n",
       "       0, 1, 0, 1, 0, 0, 0, 0, 1, 0, 0, 1, 0, 0, 1, 1, 1, 1, 1, 0, 1, 0,\n",
       "       0, 0, 1, 1, 0, 1, 1, 1, 1, 0, 1, 1, 1, 0, 0, 1, 0, 1, 0, 1, 0, 1,\n",
       "       0, 1, 1, 0, 0, 1, 0, 1, 0, 0, 0, 0, 1, 0, 0, 1, 1, 1, 1, 0, 1, 0,\n",
       "       0, 1])"
      ]
     },
     "execution_count": 61,
     "metadata": {},
     "output_type": "execute_result"
    }
   ],
   "source": [
    "y_test_pred"
   ]
  },
  {
   "cell_type": "code",
   "execution_count": 62,
   "id": "0a35daa4-e181-4e69-bee5-7fbf758db8cf",
   "metadata": {
    "tags": []
   },
   "outputs": [],
   "source": [
    "y_test_pred_probs = logreg.predict_proba(X_test) # predict output for the test data"
   ]
  },
  {
   "cell_type": "code",
   "execution_count": 63,
   "id": "c264c3f0-d3fe-4a33-bb79-7013034976d0",
   "metadata": {
    "tags": []
   },
   "outputs": [
    {
     "data": {
      "text/plain": [
       "array([[0.90006311, 0.09993689],\n",
       "       [0.03741525, 0.96258475],\n",
       "       [0.27749253, 0.72250747],\n",
       "       [0.73551107, 0.26448893],\n",
       "       [0.03192748, 0.96807252]])"
      ]
     },
     "execution_count": 63,
     "metadata": {},
     "output_type": "execute_result"
    }
   ],
   "source": [
    "y_test_pred_probs[:5]"
   ]
  },
  {
   "cell_type": "code",
   "execution_count": 64,
   "id": "055bcdff-42e8-4eb9-a8db-88204f99f82d",
   "metadata": {},
   "outputs": [
    {
     "name": "stdout",
     "output_type": "stream",
     "text": [
      "              precision    recall  f1-score   support\n",
      "\n",
      "           0       0.86      0.80      0.83       109\n",
      "           1       0.71      0.80      0.75        69\n",
      "\n",
      "    accuracy                           0.80       178\n",
      "   macro avg       0.79      0.80      0.79       178\n",
      "weighted avg       0.80      0.80      0.80       178\n",
      "\n"
     ]
    }
   ],
   "source": [
    "print(classification_report(y_test, y_test_pred)) # evaluate how well the model did"
   ]
  },
  {
   "cell_type": "code",
   "execution_count": 65,
   "id": "9f6428cc-553f-46f3-b440-adf3c8c27795",
   "metadata": {},
   "outputs": [
    {
     "data": {
      "image/png": "[encoded data removed]",
      "text/plain": [
       "<Figure size 640x480 with 2 Axes>"
      ]
     },
     "metadata": {},
     "output_type": "display_data"
    }
   ],
   "source": [
    "ConfusionMatrixDisplay.from_predictions(y_test, y_test_pred);"
   ]
  },
  {
   "cell_type": "markdown",
   "id": "b6d3d9eb-46d8-4678-8c40-14d0715cb9c0",
   "metadata": {},
   "source": [
    "<img src=\"figures/ml_flow.png\">"
   ]
  }
 ],
 "metadata": {
  "kernelspec": {
   "display_name": "Python 3 (ipykernel)",
   "language": "python",
   "name": "python3"
  },
  "language_info": {
   "codemirror_mode": {
    "name": "ipython",
    "version": 3
   },
   "file_extension": ".py",
   "mimetype": "text/x-python",
   "name": "python",
   "nbconvert_exporter": "python",
   "pygments_lexer": "ipython3",
   "version": "3.11.5"
  }
 },
 "nbformat": 4,
 "nbformat_minor": 5
}
